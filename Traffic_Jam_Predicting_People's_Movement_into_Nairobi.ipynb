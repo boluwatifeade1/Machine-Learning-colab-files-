{
  "nbformat": 4,
  "nbformat_minor": 0,
  "metadata": {
    "colab": {
      "name": "Traffic Jam: Predicting People's Movement into Nairobi.ipynb",
      "provenance": [],
      "collapsed_sections": []
    },
    "kernelspec": {
      "name": "python3",
      "display_name": "Python 3"
    },
    "accelerator": "GPU"
  },
  "cells": [
    {
      "cell_type": "code",
      "metadata": {
        "id": "rsiXwHnyLlUo",
        "colab_type": "code",
        "colab": {}
      },
      "source": [
        "  #!pip install fastai==0.7.0"
      ],
      "execution_count": 0,
      "outputs": []
    },
    {
      "cell_type": "code",
      "metadata": {
        "id": "1bJs5toucO70",
        "colab_type": "code",
        "outputId": "7d7bed9f-d45c-45cd-80f3-3e4638c3f454",
        "colab": {
          "base_uri": "https://localhost:8080/",
          "height": 641
        }
      },
      "source": [
        "!pip install featuretools"
      ],
      "execution_count": 0,
      "outputs": [
        {
          "output_type": "stream",
          "text": [
            "Requirement already satisfied: featuretools in /usr/local/lib/python3.6/dist-packages (0.4.1)\n",
            "Requirement already satisfied: numpy>=1.13.3 in /usr/local/lib/python3.6/dist-packages (from featuretools) (1.14.6)\n",
            "Collecting pandas>=0.23.0 (from featuretools)\n",
            "\u001b[?25l  Downloading https://files.pythonhosted.org/packages/e1/d8/feeb346d41f181e83fba45224ab14a8d8af019b48af742e047f3845d8cff/pandas-0.23.4-cp36-cp36m-manylinux1_x86_64.whl (8.9MB)\n",
            "\u001b[K    100% |████████████████████████████████| 8.9MB 4.3MB/s \n",
            "\u001b[?25hRequirement already satisfied: s3fs>=0.1.2 in /usr/local/lib/python3.6/dist-packages (from featuretools) (0.2.0)\n",
            "Requirement already satisfied: tqdm>=4.19.2 in /usr/local/lib/python3.6/dist-packages (from featuretools) (4.28.1)\n",
            "Requirement already satisfied: toolz>=0.8.2 in /usr/local/lib/python3.6/dist-packages (from featuretools) (0.9.0)\n",
            "Requirement already satisfied: pyyaml>=3.12 in /usr/local/lib/python3.6/dist-packages (from featuretools) (3.13)\n",
            "Requirement already satisfied: cloudpickle>=0.4.0 in /usr/local/lib/python3.6/dist-packages (from featuretools) (0.6.1)\n",
            "Requirement already satisfied: future>=0.16.0 in /usr/local/lib/python3.6/dist-packages (from featuretools) (0.16.0)\n",
            "Requirement already satisfied: dask>=0.19.4 in /usr/local/lib/python3.6/dist-packages (from featuretools) (0.20.2)\n",
            "Requirement already satisfied: distributed>=1.24.2 in /usr/local/lib/python3.6/dist-packages (from featuretools) (1.25.1)\n",
            "Requirement already satisfied: psutil>=5.4.8 in /usr/local/lib/python3.6/dist-packages (from featuretools) (5.4.8)\n",
            "Requirement already satisfied: python-dateutil>=2.5.0 in /usr/local/lib/python3.6/dist-packages (from pandas>=0.23.0->featuretools) (2.5.3)\n",
            "Requirement already satisfied: pytz>=2011k in /usr/local/lib/python3.6/dist-packages (from pandas>=0.23.0->featuretools) (2018.7)\n",
            "Requirement already satisfied: botocore in /usr/local/lib/python3.6/dist-packages (from s3fs>=0.1.2->featuretools) (1.12.67)\n",
            "Requirement already satisfied: boto3 in /usr/local/lib/python3.6/dist-packages (from s3fs>=0.1.2->featuretools) (1.9.67)\n",
            "Requirement already satisfied: six in /usr/local/lib/python3.6/dist-packages (from s3fs>=0.1.2->featuretools) (1.11.0)\n",
            "Requirement already satisfied: click>=6.6 in /usr/local/lib/python3.6/dist-packages (from distributed>=1.24.2->featuretools) (7.0)\n",
            "Requirement already satisfied: tblib in /usr/local/lib/python3.6/dist-packages (from distributed>=1.24.2->featuretools) (1.3.2)\n",
            "Requirement already satisfied: tornado>=4.5.1 in /usr/local/lib/python3.6/dist-packages (from distributed>=1.24.2->featuretools) (4.5.3)\n",
            "Requirement already satisfied: zict>=0.1.3 in /usr/local/lib/python3.6/dist-packages (from distributed>=1.24.2->featuretools) (0.1.3)\n",
            "Requirement already satisfied: msgpack in /usr/local/lib/python3.6/dist-packages (from distributed>=1.24.2->featuretools) (0.5.6)\n",
            "Requirement already satisfied: sortedcontainers!=2.0.0,!=2.0.1 in /usr/local/lib/python3.6/dist-packages (from distributed>=1.24.2->featuretools) (2.1.0)\n",
            "Requirement already satisfied: docutils>=0.10 in /usr/local/lib/python3.6/dist-packages (from botocore->s3fs>=0.1.2->featuretools) (0.14)\n",
            "Requirement already satisfied: jmespath<1.0.0,>=0.7.1 in /usr/local/lib/python3.6/dist-packages (from botocore->s3fs>=0.1.2->featuretools) (0.9.3)\n",
            "Requirement already satisfied: urllib3<1.25,>=1.20; python_version >= \"3.4\" in /usr/local/lib/python3.6/dist-packages (from botocore->s3fs>=0.1.2->featuretools) (1.22)\n",
            "Requirement already satisfied: s3transfer<0.2.0,>=0.1.10 in /usr/local/lib/python3.6/dist-packages (from boto3->s3fs>=0.1.2->featuretools) (0.1.13)\n",
            "Requirement already satisfied: heapdict in /usr/local/lib/python3.6/dist-packages (from zict>=0.1.3->distributed>=1.24.2->featuretools) (1.0.0)\n",
            "\u001b[31mcufflinks 0.14.6 has requirement plotly>=3.0.0, but you'll have plotly 1.12.12 which is incompatible.\u001b[0m\n",
            "Installing collected packages: pandas\n",
            "  Found existing installation: pandas 0.22.0\n",
            "    Uninstalling pandas-0.22.0:\n",
            "      Successfully uninstalled pandas-0.22.0\n",
            "Successfully installed pandas-0.23.4\n"
          ],
          "name": "stdout"
        }
      ]
    },
    {
      "cell_type": "code",
      "metadata": {
        "id": "BzB5bLCxKCDI",
        "colab_type": "code",
        "colab": {}
      },
      "source": [
        "#imports\n",
        "import pandas as pd\n",
        "import numpy as np\n",
        "import matplotlib.pyplot as plt\n",
        "import seaborn as sns\n",
        "\n",
        "\n",
        "\n",
        "#Fast ai imports\n",
        "#from fastai.imports import *\n",
        "#from fastai.structured import *\n",
        "\n",
        "\n",
        "from sklearn.model_selection import KFold\n",
        "from sklearn.ensemble import RandomForestRegressor\n",
        "from sklearn.ensemble import GradientBoostingRegressor\n",
        "from sklearn import metrics\n",
        "plt.style.use('fivethirtyeight')"
      ],
      "execution_count": 0,
      "outputs": []
    },
    {
      "cell_type": "code",
      "metadata": {
        "id": "Mk8-ZD9vLa7i",
        "colab_type": "code",
        "outputId": "35f5f130-ef7e-49f9-a040-450b360c9033",
        "colab": {
          "base_uri": "https://localhost:8080/",
          "height": 52
        }
      },
      "source": [
        "!unzip train_revised_11.09.2018.zip"
      ],
      "execution_count": 0,
      "outputs": [
        {
          "output_type": "stream",
          "text": [
            "Archive:  train_revised_11.09.2018.zip\n",
            "  inflating: train_revised.csv       \n"
          ],
          "name": "stdout"
        }
      ]
    },
    {
      "cell_type": "code",
      "metadata": {
        "id": "ZwB2R8VtL1mD",
        "colab_type": "code",
        "colab": {}
      },
      "source": [
        "train=pd.read_csv('train_revised.csv')\n",
        "test=pd.read_csv('test_questions.csv')"
      ],
      "execution_count": 0,
      "outputs": []
    },
    {
      "cell_type": "code",
      "metadata": {
        "id": "zv0pg-OyAuE1",
        "colab_type": "code",
        "colab": {}
      },
      "source": [
        "drop=train[train['travel_from']=='Keumbu'].index"
      ],
      "execution_count": 0,
      "outputs": []
    },
    {
      "cell_type": "code",
      "metadata": {
        "id": "8kleNruYCJpB",
        "colab_type": "code",
        "colab": {}
      },
      "source": [
        "for i in drop:\n",
        "  train.drop(i,inplace=True)"
      ],
      "execution_count": 0,
      "outputs": []
    },
    {
      "cell_type": "code",
      "metadata": {
        "id": "y6KCjk_eBhHi",
        "colab_type": "code",
        "colab": {}
      },
      "source": [
        "drop1=train[train['travel_from']=='Kendu Bay'].index"
      ],
      "execution_count": 0,
      "outputs": []
    },
    {
      "cell_type": "code",
      "metadata": {
        "id": "4As2otIwCqWD",
        "colab_type": "code",
        "colab": {}
      },
      "source": [
        "for i in drop1:\n",
        "  train.drop(i,inplace=True)"
      ],
      "execution_count": 0,
      "outputs": []
    },
    {
      "cell_type": "code",
      "metadata": {
        "id": "4-HpmTN0qCkj",
        "colab_type": "code",
        "colab": {}
      },
      "source": [
        "train.drop(['seat_number','payment_method','payment_receipt'],axis=1,inplace=True)"
      ],
      "execution_count": 0,
      "outputs": []
    },
    {
      "cell_type": "code",
      "metadata": {
        "id": "tIUMO_Vfmwgs",
        "colab_type": "code",
        "colab": {}
      },
      "source": [
        "no_tickets=train.groupby(['ride_id']).size()\n",
        "no_tickets=pd.DataFrame(no_tickets)\n",
        "no_tickets.reset_index(inplace=True)\n",
        "train=pd.merge(train,no_tickets, on='ride_id', how='left')\n",
        "train.rename(columns={0: \"no_tickets\"},inplace=True)"
      ],
      "execution_count": 0,
      "outputs": []
    },
    {
      "cell_type": "code",
      "metadata": {
        "id": "3QoRLJqiZwur",
        "colab_type": "code",
        "colab": {}
      },
      "source": [
        "train.drop_duplicates(inplace=True)"
      ],
      "execution_count": 0,
      "outputs": []
    },
    {
      "cell_type": "code",
      "metadata": {
        "id": "y6dIcVR7lotQ",
        "colab_type": "code",
        "outputId": "7f0ab7d2-b8a2-4829-a31a-d22905eac164",
        "colab": {
          "base_uri": "https://localhost:8080/",
          "height": 664
        }
      },
      "source": [
        ""
      ],
      "execution_count": 0,
      "outputs": [
        {
          "output_type": "execute_result",
          "data": {
            "text/plain": [
              "<matplotlib.axes._subplots.AxesSubplot at 0x7f3e86bb05f8>"
            ]
          },
          "metadata": {
            "tags": []
          },
          "execution_count": 15
        },
        {
          "output_type": "display_data",
          "data": {
            "image/png": "[encoded data removed]",
            "text/plain": [
              "<matplotlib.figure.Figure at 0x7f3e871256d8>"
            ]
          },
          "metadata": {
            "tags": []
          }
        }
      ]
    },
    {
      "cell_type": "code",
      "metadata": {
        "id": "IwHRJns5lqzx",
        "colab_type": "code",
        "colab": {}
      },
      "source": [
        "train['hour_booked'] = pd.DatetimeIndex(train[\"travel_time\"]).hour\n",
        "test['hour_booked'] = pd.DatetimeIndex(test[\"travel_time\"]).hour"
      ],
      "execution_count": 0,
      "outputs": []
    },
    {
      "cell_type": "code",
      "metadata": {
        "id": "6u9qII4hlqsa",
        "colab_type": "code",
        "colab": {}
      },
      "source": [
        "#train['hour_booked'].value_counts().sort_index().plot.bar()"
      ],
      "execution_count": 0,
      "outputs": []
    },
    {
      "cell_type": "code",
      "metadata": {
        "id": "Gitc6h_MYZWt",
        "colab_type": "code",
        "colab": {}
      },
      "source": [
        "#test['hour_booked'].value_counts().sort_index().plot.bar()"
      ],
      "execution_count": 0,
      "outputs": []
    },
    {
      "cell_type": "code",
      "metadata": {
        "id": "h2TEi_a6XRTU",
        "colab_type": "code",
        "colab": {}
      },
      "source": [
        "train[\"period\"] = train.hour_booked.apply(lambda x:\"Early\" if x in [5, 6] else \"peak\" if x in [7] else \"Morning\" if x in [8,9,10] else \"Noon\" if x in [11]  else \"evening\" if x in [19] else \"Night\" if x in [23] else \"None\")\n",
        "test[\"period\"] = test.hour_booked.apply(lambda x:\"Early\" if x in [5, 6] else \"peak\" if x in [7] else \"Morning\" if x in [8,9,10] else \"Noon\" if x in [11]  else \"evening\" if x in [19] else \"Night\" if x in [23] else \"None\")"
      ],
      "execution_count": 0,
      "outputs": []
    },
    {
      "cell_type": "code",
      "metadata": {
        "id": "a-gH5dzXZclz",
        "colab_type": "code",
        "colab": {}
      },
      "source": [
        "train[\"travel_time_enc\"] = train[\"travel_time\"].str.split(':').apply(lambda x: int(x[0]) * 60 + int(x[1]))\n",
        "test[\"travel_time_enc\"] = test[\"travel_time\"].str.split(':').apply(lambda x: int(x[0]) * 60 + int(x[1]))"
      ],
      "execution_count": 0,
      "outputs": []
    },
    {
      "cell_type": "code",
      "metadata": {
        "id": "M3Gzk2tllqqI",
        "colab_type": "code",
        "colab": {}
      },
      "source": [
        "#make a frquency count of hour book like encoding\n",
        "hourbookencoding=train.groupby('hour_booked').size()\n",
        "hourbookencoding=hourbookencoding/len(train)\n",
        "train['hour_booked_freq']=train.hour_booked.map(hourbookencoding)"
      ],
      "execution_count": 0,
      "outputs": []
    },
    {
      "cell_type": "code",
      "metadata": {
        "id": "WVWA8zDc39WG",
        "colab_type": "code",
        "colab": {}
      },
      "source": [
        "#make a frquency count of hour book like encoding\n",
        "_=test.groupby('hour_booked').size()\n",
        "_=_/len(test)\n",
        "test['hour_booked_freq']=test.hour_booked.map(_)"
      ],
      "execution_count": 0,
      "outputs": []
    },
    {
      "cell_type": "code",
      "metadata": {
        "id": "tDIiKbxylqim",
        "colab_type": "code",
        "colab": {}
      },
      "source": [
        "train['travel_date'] = pd.to_datetime(train['travel_date'])\n",
        "test['travel_date'] = pd.to_datetime(test['travel_date'])"
      ],
      "execution_count": 0,
      "outputs": []
    },
    {
      "cell_type": "code",
      "metadata": {
        "id": "0sOx1b6Zlqf8",
        "colab_type": "code",
        "colab": {}
      },
      "source": [
        "train['day'] = train['travel_date'].dt.strftime('%w')\n",
        "test['day'] = test['travel_date'].dt.strftime('%w')"
      ],
      "execution_count": 0,
      "outputs": []
    },
    {
      "cell_type": "code",
      "metadata": {
        "id": "QqacHQYhqtPh",
        "colab_type": "code",
        "colab": {}
      },
      "source": [
        "#train.day.value_counts().sort_index().plot.bar()"
      ],
      "execution_count": 0,
      "outputs": []
    },
    {
      "cell_type": "markdown",
      "metadata": {
        "id": "UqJLebT46Ko0",
        "colab_type": "text"
      },
      "source": [
        "check the day pattern for both 2017 and 2018"
      ]
    },
    {
      "cell_type": "code",
      "metadata": {
        "id": "JtgzXJkjdyoe",
        "colab_type": "code",
        "colab": {}
      },
      "source": [
        "#test.day.value_counts().sort_index().plot.bar()"
      ],
      "execution_count": 0,
      "outputs": []
    },
    {
      "cell_type": "code",
      "metadata": {
        "id": "DUhkmIntlqd4",
        "colab_type": "code",
        "colab": {}
      },
      "source": [
        "train['month'] = train['travel_date'].dt.strftime('%m')\n",
        "test['month'] = test['travel_date'].dt.strftime('%m')"
      ],
      "execution_count": 0,
      "outputs": []
    },
    {
      "cell_type": "code",
      "metadata": {
        "id": "Dsn2xcqSrEXo",
        "colab_type": "code",
        "colab": {}
      },
      "source": [
        "#train.month.value_counts().sort_index().plot.bar()"
      ],
      "execution_count": 0,
      "outputs": []
    },
    {
      "cell_type": "markdown",
      "metadata": {
        "id": "SHmbLOSstXNh",
        "colab_type": "text"
      },
      "source": [
        "lots of people did travel on december"
      ]
    },
    {
      "cell_type": "code",
      "metadata": {
        "id": "HcY9Xi5JlqbD",
        "colab_type": "code",
        "colab": {}
      },
      "source": [
        "train['year'] = train['travel_date'].dt.strftime('%Y')\n",
        "test['year'] = test['travel_date'].dt.strftime('%Y')"
      ],
      "execution_count": 0,
      "outputs": []
    },
    {
      "cell_type": "code",
      "metadata": {
        "id": "4cVmcfwRa_OF",
        "colab_type": "code",
        "outputId": "e65f2ec8-d9b0-4b59-df60-33aa093ce6ac",
        "colab": {
          "base_uri": "https://localhost:8080/",
          "height": 664
        }
      },
      "source": [
        "plt.figure(figsize=(20,10))\n",
        "train[train['year']=='2017']['travel_time'].value_counts().plot.bar()"
      ],
      "execution_count": 0,
      "outputs": [
        {
          "output_type": "execute_result",
          "data": {
            "text/plain": [
              "<matplotlib.axes._subplots.AxesSubplot at 0x7f3e82f3f0f0>"
            ]
          },
          "metadata": {
            "tags": []
          },
          "execution_count": 30
        },
        {
          "output_type": "display_data",
          "data": {
            "image/png": "[encoded data removed]",
            "text/plain": [
              "<matplotlib.figure.Figure at 0x7f3e82f4b898>"
            ]
          },
          "metadata": {
            "tags": []
          }
        }
      ]
    },
    {
      "cell_type": "code",
      "metadata": {
        "id": "giAihnPKbX_4",
        "colab_type": "code",
        "outputId": "4c84b050-f284-4d05-ed9c-95faaf55af21",
        "colab": {
          "base_uri": "https://localhost:8080/",
          "height": 664
        }
      },
      "source": [
        "plt.figure(figsize=(20,10))\n",
        "train[train['year']=='2018']['travel_time'].value_counts().plot.bar()"
      ],
      "execution_count": 0,
      "outputs": [
        {
          "output_type": "execute_result",
          "data": {
            "text/plain": [
              "<matplotlib.axes._subplots.AxesSubplot at 0x7f3e82d89518>"
            ]
          },
          "metadata": {
            "tags": []
          },
          "execution_count": 31
        },
        {
          "output_type": "display_data",
          "data": {
            "image/png": "[encoded data removed]",
            "text/plain": [
              "<matplotlib.figure.Figure at 0x7f3e82d94ac8>"
            ]
          },
          "metadata": {
            "tags": []
          }
        }
      ]
    },
    {
      "cell_type": "code",
      "metadata": {
        "id": "L3e0duy7cHVm",
        "colab_type": "code",
        "colab": {}
      },
      "source": [
        "hourmap={23:1,11:2,19:3,5:4,6:5,9:6,8:7,10:8,7:9}"
      ],
      "execution_count": 0,
      "outputs": []
    },
    {
      "cell_type": "code",
      "metadata": {
        "id": "CfWOumqBb3Y3",
        "colab_type": "code",
        "colab": {}
      },
      "source": [
        "train['hour_map']=train['hour_booked'].map(hourmap)"
      ],
      "execution_count": 0,
      "outputs": []
    },
    {
      "cell_type": "code",
      "metadata": {
        "id": "gYodZ92acvsx",
        "colab_type": "code",
        "colab": {}
      },
      "source": [
        "test['hour_map']=test['hour_booked'].map(hourmap)"
      ],
      "execution_count": 0,
      "outputs": []
    },
    {
      "cell_type": "code",
      "metadata": {
        "id": "VY8GNMNMlqZR",
        "colab_type": "code",
        "colab": {}
      },
      "source": [
        "#train.year.value_counts().sort_index().plot.bar()"
      ],
      "execution_count": 0,
      "outputs": []
    },
    {
      "cell_type": "markdown",
      "metadata": {
        "id": "sI38IP-8tnLO",
        "colab_type": "text"
      },
      "source": [
        "wow seem's like 2018 was a travelling year"
      ]
    },
    {
      "cell_type": "code",
      "metadata": {
        "id": "q-Qp0AbclqWn",
        "colab_type": "code",
        "colab": {}
      },
      "source": [
        "train['month_year'] = train['travel_date'].dt.strftime('%Y-%m')\n",
        "test['month_year'] = test['travel_date'].dt.strftime('%Y-%m')"
      ],
      "execution_count": 0,
      "outputs": []
    },
    {
      "cell_type": "code",
      "metadata": {
        "id": "fzSMr3jAc6mE",
        "colab_type": "code",
        "outputId": "ed015590-29e9-4db7-8b44-57d0918773f6",
        "colab": {
          "base_uri": "https://localhost:8080/",
          "height": 130
        }
      },
      "source": [
        "train.head(2)"
      ],
      "execution_count": 0,
      "outputs": [
        {
          "output_type": "execute_result",
          "data": {
            "text/html": [
              "<div>\n",
              "<style scoped>\n",
              "    .dataframe tbody tr th:only-of-type {\n",
              "        vertical-align: middle;\n",
              "    }\n",
              "\n",
              "    .dataframe tbody tr th {\n",
              "        vertical-align: top;\n",
              "    }\n",
              "\n",
              "    .dataframe thead th {\n",
              "        text-align: right;\n",
              "    }\n",
              "</style>\n",
              "<table border=\"1\" class=\"dataframe\">\n",
              "  <thead>\n",
              "    <tr style=\"text-align: right;\">\n",
              "      <th></th>\n",
              "      <th>ride_id</th>\n",
              "      <th>travel_date</th>\n",
              "      <th>travel_time</th>\n",
              "      <th>travel_from</th>\n",
              "      <th>travel_to</th>\n",
              "      <th>car_type</th>\n",
              "      <th>max_capacity</th>\n",
              "      <th>no_tickets</th>\n",
              "      <th>hour_booked</th>\n",
              "      <th>period</th>\n",
              "      <th>travel_time_enc</th>\n",
              "      <th>hour_booked_freq</th>\n",
              "      <th>day</th>\n",
              "      <th>month</th>\n",
              "      <th>year</th>\n",
              "      <th>hour_map</th>\n",
              "      <th>month_year</th>\n",
              "    </tr>\n",
              "  </thead>\n",
              "  <tbody>\n",
              "    <tr>\n",
              "      <th>0</th>\n",
              "      <td>1442</td>\n",
              "      <td>2017-10-17</td>\n",
              "      <td>7:15</td>\n",
              "      <td>Migori</td>\n",
              "      <td>Nairobi</td>\n",
              "      <td>Bus</td>\n",
              "      <td>49</td>\n",
              "      <td>1</td>\n",
              "      <td>7</td>\n",
              "      <td>peak</td>\n",
              "      <td>435</td>\n",
              "      <td>0.513487</td>\n",
              "      <td>2</td>\n",
              "      <td>10</td>\n",
              "      <td>2017</td>\n",
              "      <td>9</td>\n",
              "      <td>2017-10</td>\n",
              "    </tr>\n",
              "    <tr>\n",
              "      <th>1</th>\n",
              "      <td>5437</td>\n",
              "      <td>2017-11-19</td>\n",
              "      <td>7:12</td>\n",
              "      <td>Migori</td>\n",
              "      <td>Nairobi</td>\n",
              "      <td>Bus</td>\n",
              "      <td>49</td>\n",
              "      <td>1</td>\n",
              "      <td>7</td>\n",
              "      <td>peak</td>\n",
              "      <td>432</td>\n",
              "      <td>0.513487</td>\n",
              "      <td>0</td>\n",
              "      <td>11</td>\n",
              "      <td>2017</td>\n",
              "      <td>9</td>\n",
              "      <td>2017-11</td>\n",
              "    </tr>\n",
              "  </tbody>\n",
              "</table>\n",
              "</div>"
            ],
            "text/plain": [
              "   ride_id travel_date travel_time travel_from travel_to car_type  \\\n",
              "0     1442  2017-10-17        7:15      Migori   Nairobi      Bus   \n",
              "1     5437  2017-11-19        7:12      Migori   Nairobi      Bus   \n",
              "\n",
              "   max_capacity  no_tickets  hour_booked period  travel_time_enc  \\\n",
              "0            49           1            7   peak              435   \n",
              "1            49           1            7   peak              432   \n",
              "\n",
              "   hour_booked_freq day month  year  hour_map month_year  \n",
              "0          0.513487   2    10  2017         9    2017-10  \n",
              "1          0.513487   0    11  2017         9    2017-11  "
            ]
          },
          "metadata": {
            "tags": []
          },
          "execution_count": 39
        }
      ]
    },
    {
      "cell_type": "code",
      "metadata": {
        "id": "6Tx69473c8wn",
        "colab_type": "code",
        "outputId": "392eb219-dd14-4d95-f39e-03520ef3d891",
        "colab": {
          "base_uri": "https://localhost:8080/",
          "height": 130
        }
      },
      "source": [
        "test.head(2)"
      ],
      "execution_count": 0,
      "outputs": [
        {
          "output_type": "execute_result",
          "data": {
            "text/html": [
              "<div>\n",
              "<style scoped>\n",
              "    .dataframe tbody tr th:only-of-type {\n",
              "        vertical-align: middle;\n",
              "    }\n",
              "\n",
              "    .dataframe tbody tr th {\n",
              "        vertical-align: top;\n",
              "    }\n",
              "\n",
              "    .dataframe thead th {\n",
              "        text-align: right;\n",
              "    }\n",
              "</style>\n",
              "<table border=\"1\" class=\"dataframe\">\n",
              "  <thead>\n",
              "    <tr style=\"text-align: right;\">\n",
              "      <th></th>\n",
              "      <th>ride_id</th>\n",
              "      <th>travel_date</th>\n",
              "      <th>travel_time</th>\n",
              "      <th>travel_from</th>\n",
              "      <th>travel_to</th>\n",
              "      <th>car_type</th>\n",
              "      <th>max_capacity</th>\n",
              "      <th>hour_booked</th>\n",
              "      <th>period</th>\n",
              "      <th>travel_time_enc</th>\n",
              "      <th>hour_booked_freq</th>\n",
              "      <th>day</th>\n",
              "      <th>month</th>\n",
              "      <th>year</th>\n",
              "      <th>hour_map</th>\n",
              "      <th>month_year</th>\n",
              "    </tr>\n",
              "  </thead>\n",
              "  <tbody>\n",
              "    <tr>\n",
              "      <th>0</th>\n",
              "      <td>247</td>\n",
              "      <td>2018-05-07</td>\n",
              "      <td>07:06</td>\n",
              "      <td>Kisii</td>\n",
              "      <td>Nairobi</td>\n",
              "      <td>Bus</td>\n",
              "      <td>49</td>\n",
              "      <td>7</td>\n",
              "      <td>peak</td>\n",
              "      <td>426</td>\n",
              "      <td>0.433843</td>\n",
              "      <td>1</td>\n",
              "      <td>05</td>\n",
              "      <td>2018</td>\n",
              "      <td>9</td>\n",
              "      <td>2018-05</td>\n",
              "    </tr>\n",
              "    <tr>\n",
              "      <th>1</th>\n",
              "      <td>256</td>\n",
              "      <td>2018-05-06</td>\n",
              "      <td>11:08</td>\n",
              "      <td>Kisii</td>\n",
              "      <td>Nairobi</td>\n",
              "      <td>shuttle</td>\n",
              "      <td>11</td>\n",
              "      <td>11</td>\n",
              "      <td>Noon</td>\n",
              "      <td>668</td>\n",
              "      <td>0.046805</td>\n",
              "      <td>0</td>\n",
              "      <td>05</td>\n",
              "      <td>2018</td>\n",
              "      <td>2</td>\n",
              "      <td>2018-05</td>\n",
              "    </tr>\n",
              "  </tbody>\n",
              "</table>\n",
              "</div>"
            ],
            "text/plain": [
              "   ride_id travel_date travel_time travel_from travel_to car_type  \\\n",
              "0      247  2018-05-07       07:06       Kisii   Nairobi      Bus   \n",
              "1      256  2018-05-06       11:08       Kisii   Nairobi  shuttle   \n",
              "\n",
              "   max_capacity  hour_booked period  travel_time_enc  hour_booked_freq day  \\\n",
              "0            49            7   peak              426          0.433843   1   \n",
              "1            11           11   Noon              668          0.046805   0   \n",
              "\n",
              "  month  year  hour_map month_year  \n",
              "0    05  2018         9    2018-05  \n",
              "1    05  2018         2    2018-05  "
            ]
          },
          "metadata": {
            "tags": []
          },
          "execution_count": 40
        }
      ]
    },
    {
      "cell_type": "code",
      "metadata": {
        "id": "aZRZwraWlqTb",
        "colab_type": "code",
        "outputId": "fb622a43-1f2f-4f6f-b751-98fc315c043a",
        "colab": {
          "base_uri": "https://localhost:8080/",
          "height": 413
        }
      },
      "source": [
        "train['month_year'].value_counts().sort_index().plot.bar()"
      ],
      "execution_count": 0,
      "outputs": [
        {
          "output_type": "execute_result",
          "data": {
            "text/plain": [
              "<matplotlib.axes._subplots.AxesSubplot at 0x7f3e82aceb70>"
            ]
          },
          "metadata": {
            "tags": []
          },
          "execution_count": 41
        },
        {
          "output_type": "display_data",
          "data": {
            "image/png": "[encoded data removed]",
            "text/plain": [
              "<matplotlib.figure.Figure at 0x7f3e82ace5c0>"
            ]
          },
          "metadata": {
            "tags": []
          }
        }
      ]
    },
    {
      "cell_type": "markdown",
      "metadata": {
        "id": "Kt-tI1FWuKUT",
        "colab_type": "text"
      },
      "source": [
        "we can see that more people travelled 2017  december far more than the same month in 2018 "
      ]
    },
    {
      "cell_type": "code",
      "metadata": {
        "id": "jbZl3dnddXXU",
        "colab_type": "code",
        "outputId": "3b57a7a9-1871-4ac7-8fe6-f36d33a437ba",
        "colab": {
          "base_uri": "https://localhost:8080/",
          "height": 413
        }
      },
      "source": [
        "test['month_year'].value_counts().sort_index().plot.bar()"
      ],
      "execution_count": 0,
      "outputs": [
        {
          "output_type": "execute_result",
          "data": {
            "text/plain": [
              "<matplotlib.axes._subplots.AxesSubplot at 0x7f3e82aa5208>"
            ]
          },
          "metadata": {
            "tags": []
          },
          "execution_count": 42
        },
        {
          "output_type": "display_data",
          "data": {
            "image/png": "[encoded data removed]",
            "text/plain": [
              "<matplotlib.figure.Figure at 0x7f3e82a2e160>"
            ]
          },
          "metadata": {
            "tags": []
          }
        }
      ]
    },
    {
      "cell_type": "code",
      "metadata": {
        "id": "dCnqCbEwdp7v",
        "colab_type": "code",
        "colab": {}
      },
      "source": [
        "target=train['no_tickets']"
      ],
      "execution_count": 0,
      "outputs": []
    },
    {
      "cell_type": "code",
      "metadata": {
        "id": "5FKNJG7eV592",
        "colab_type": "code",
        "colab": {}
      },
      "source": [
        "test.drop(['travel_to'],axis=1,inplace=True)\n",
        "train.drop(['travel_to'],axis=1,inplace=True)"
      ],
      "execution_count": 0,
      "outputs": []
    },
    {
      "cell_type": "code",
      "metadata": {
        "id": "bJF2MBUjwJo-",
        "colab_type": "code",
        "colab": {}
      },
      "source": [
        "#train['no_tickets'].plot.hist(bins=100)"
      ],
      "execution_count": 0,
      "outputs": []
    },
    {
      "cell_type": "code",
      "metadata": {
        "id": "ZuTL3XooqL3F",
        "colab_type": "code",
        "colab": {}
      },
      "source": [
        "_=train.groupby('month_year').size()\n",
        "_=_/len(train)\n",
        "train['month_year_freq']=train.month_year.map(_)"
      ],
      "execution_count": 0,
      "outputs": []
    },
    {
      "cell_type": "code",
      "metadata": {
        "id": "q7LhiirDKrfi",
        "colab_type": "code",
        "colab": {}
      },
      "source": [
        "train['month_year_counts']=train.month_year.map(train.month_year.value_counts()/100)"
      ],
      "execution_count": 0,
      "outputs": []
    },
    {
      "cell_type": "code",
      "metadata": {
        "id": "OYf6PXpArvfR",
        "colab_type": "code",
        "colab": {}
      },
      "source": [
        "train.drop(['travel_date','travel_time','no_tickets'], axis=1, inplace=True)"
      ],
      "execution_count": 0,
      "outputs": []
    },
    {
      "cell_type": "code",
      "metadata": {
        "id": "AFylSFg4iwqY",
        "colab_type": "code",
        "outputId": "8fbf7bb0-8b21-4f8b-9428-dea488360a1c",
        "colab": {
          "base_uri": "https://localhost:8080/",
          "height": 222
        }
      },
      "source": [
        "train.head()"
      ],
      "execution_count": 0,
      "outputs": [
        {
          "output_type": "execute_result",
          "data": {
            "text/html": [
              "<div>\n",
              "<style scoped>\n",
              "    .dataframe tbody tr th:only-of-type {\n",
              "        vertical-align: middle;\n",
              "    }\n",
              "\n",
              "    .dataframe tbody tr th {\n",
              "        vertical-align: top;\n",
              "    }\n",
              "\n",
              "    .dataframe thead th {\n",
              "        text-align: right;\n",
              "    }\n",
              "</style>\n",
              "<table border=\"1\" class=\"dataframe\">\n",
              "  <thead>\n",
              "    <tr style=\"text-align: right;\">\n",
              "      <th></th>\n",
              "      <th>ride_id</th>\n",
              "      <th>travel_from</th>\n",
              "      <th>car_type</th>\n",
              "      <th>max_capacity</th>\n",
              "      <th>hour_booked</th>\n",
              "      <th>period</th>\n",
              "      <th>travel_time_enc</th>\n",
              "      <th>hour_booked_freq</th>\n",
              "      <th>day</th>\n",
              "      <th>month</th>\n",
              "      <th>year</th>\n",
              "      <th>hour_map</th>\n",
              "      <th>month_year</th>\n",
              "      <th>month_year_freq</th>\n",
              "      <th>month_year_counts</th>\n",
              "      <th>travel_from_freq</th>\n",
              "      <th>travel_from_counts</th>\n",
              "    </tr>\n",
              "  </thead>\n",
              "  <tbody>\n",
              "    <tr>\n",
              "      <th>0</th>\n",
              "      <td>1442</td>\n",
              "      <td>Migori</td>\n",
              "      <td>Bus</td>\n",
              "      <td>49</td>\n",
              "      <td>7</td>\n",
              "      <td>peak</td>\n",
              "      <td>435</td>\n",
              "      <td>0.513487</td>\n",
              "      <td>2</td>\n",
              "      <td>10</td>\n",
              "      <td>2017</td>\n",
              "      <td>9</td>\n",
              "      <td>2017-10</td>\n",
              "      <td>0.015254</td>\n",
              "      <td>0.95</td>\n",
              "      <td>0.061978</td>\n",
              "      <td>3.86</td>\n",
              "    </tr>\n",
              "    <tr>\n",
              "      <th>1</th>\n",
              "      <td>5437</td>\n",
              "      <td>Migori</td>\n",
              "      <td>Bus</td>\n",
              "      <td>49</td>\n",
              "      <td>7</td>\n",
              "      <td>peak</td>\n",
              "      <td>432</td>\n",
              "      <td>0.513487</td>\n",
              "      <td>0</td>\n",
              "      <td>11</td>\n",
              "      <td>2017</td>\n",
              "      <td>9</td>\n",
              "      <td>2017-11</td>\n",
              "      <td>0.029223</td>\n",
              "      <td>1.82</td>\n",
              "      <td>0.061978</td>\n",
              "      <td>3.86</td>\n",
              "    </tr>\n",
              "    <tr>\n",
              "      <th>2</th>\n",
              "      <td>5710</td>\n",
              "      <td>Keroka</td>\n",
              "      <td>Bus</td>\n",
              "      <td>49</td>\n",
              "      <td>7</td>\n",
              "      <td>peak</td>\n",
              "      <td>425</td>\n",
              "      <td>0.513487</td>\n",
              "      <td>0</td>\n",
              "      <td>11</td>\n",
              "      <td>2017</td>\n",
              "      <td>9</td>\n",
              "      <td>2017-11</td>\n",
              "      <td>0.029223</td>\n",
              "      <td>1.82</td>\n",
              "      <td>0.050096</td>\n",
              "      <td>3.12</td>\n",
              "    </tr>\n",
              "    <tr>\n",
              "      <th>3</th>\n",
              "      <td>5777</td>\n",
              "      <td>Homa Bay</td>\n",
              "      <td>Bus</td>\n",
              "      <td>49</td>\n",
              "      <td>7</td>\n",
              "      <td>peak</td>\n",
              "      <td>430</td>\n",
              "      <td>0.513487</td>\n",
              "      <td>1</td>\n",
              "      <td>11</td>\n",
              "      <td>2017</td>\n",
              "      <td>9</td>\n",
              "      <td>2017-11</td>\n",
              "      <td>0.029223</td>\n",
              "      <td>1.82</td>\n",
              "      <td>0.057161</td>\n",
              "      <td>3.56</td>\n",
              "    </tr>\n",
              "    <tr>\n",
              "      <th>4</th>\n",
              "      <td>5778</td>\n",
              "      <td>Migori</td>\n",
              "      <td>Bus</td>\n",
              "      <td>49</td>\n",
              "      <td>7</td>\n",
              "      <td>peak</td>\n",
              "      <td>432</td>\n",
              "      <td>0.513487</td>\n",
              "      <td>1</td>\n",
              "      <td>11</td>\n",
              "      <td>2017</td>\n",
              "      <td>9</td>\n",
              "      <td>2017-11</td>\n",
              "      <td>0.029223</td>\n",
              "      <td>1.82</td>\n",
              "      <td>0.061978</td>\n",
              "      <td>3.86</td>\n",
              "    </tr>\n",
              "  </tbody>\n",
              "</table>\n",
              "</div>"
            ],
            "text/plain": [
              "   ride_id travel_from car_type  max_capacity  hour_booked period  \\\n",
              "0     1442      Migori      Bus            49            7   peak   \n",
              "1     5437      Migori      Bus            49            7   peak   \n",
              "2     5710      Keroka      Bus            49            7   peak   \n",
              "3     5777    Homa Bay      Bus            49            7   peak   \n",
              "4     5778      Migori      Bus            49            7   peak   \n",
              "\n",
              "   travel_time_enc  hour_booked_freq day month  year  hour_map month_year  \\\n",
              "0              435          0.513487   2    10  2017         9    2017-10   \n",
              "1              432          0.513487   0    11  2017         9    2017-11   \n",
              "2              425          0.513487   0    11  2017         9    2017-11   \n",
              "3              430          0.513487   1    11  2017         9    2017-11   \n",
              "4              432          0.513487   1    11  2017         9    2017-11   \n",
              "\n",
              "   month_year_freq  month_year_counts  travel_from_freq  travel_from_counts  \n",
              "0         0.015254               0.95          0.061978                3.86  \n",
              "1         0.029223               1.82          0.061978                3.86  \n",
              "2         0.029223               1.82          0.050096                3.12  \n",
              "3         0.029223               1.82          0.057161                3.56  \n",
              "4         0.029223               1.82          0.061978                3.86  "
            ]
          },
          "metadata": {
            "tags": []
          },
          "execution_count": 63
        }
      ]
    },
    {
      "cell_type": "code",
      "metadata": {
        "id": "aV7tAmR9q8hb",
        "colab_type": "code",
        "colab": {}
      },
      "source": [
        "_=test.groupby('month_year').size()\n",
        "_=_/len(test)\n",
        "test['month_year_freq']=test.month_year.map(_)"
      ],
      "execution_count": 0,
      "outputs": []
    },
    {
      "cell_type": "code",
      "metadata": {
        "id": "IxqvzVNbrEIM",
        "colab_type": "code",
        "colab": {}
      },
      "source": [
        "test['month_year_counts']=test.month_year.map(test.month_year.value_counts()/100)"
      ],
      "execution_count": 0,
      "outputs": []
    },
    {
      "cell_type": "code",
      "metadata": {
        "id": "Wk1F0sb1rylo",
        "colab_type": "code",
        "colab": {}
      },
      "source": [
        "test.drop(['travel_date','travel_time'], axis=1, inplace=True)"
      ],
      "execution_count": 0,
      "outputs": []
    },
    {
      "cell_type": "code",
      "metadata": {
        "id": "ny28Gboh3Ckp",
        "colab_type": "code",
        "outputId": "9e64d879-9b70-4761-e663-c3304f016f78",
        "colab": {
          "base_uri": "https://localhost:8080/",
          "height": 222
        }
      },
      "source": [
        "test.head()"
      ],
      "execution_count": 0,
      "outputs": [
        {
          "output_type": "execute_result",
          "data": {
            "text/html": [
              "<div>\n",
              "<style scoped>\n",
              "    .dataframe tbody tr th:only-of-type {\n",
              "        vertical-align: middle;\n",
              "    }\n",
              "\n",
              "    .dataframe tbody tr th {\n",
              "        vertical-align: top;\n",
              "    }\n",
              "\n",
              "    .dataframe thead th {\n",
              "        text-align: right;\n",
              "    }\n",
              "</style>\n",
              "<table border=\"1\" class=\"dataframe\">\n",
              "  <thead>\n",
              "    <tr style=\"text-align: right;\">\n",
              "      <th></th>\n",
              "      <th>ride_id</th>\n",
              "      <th>travel_from</th>\n",
              "      <th>car_type</th>\n",
              "      <th>max_capacity</th>\n",
              "      <th>hour_booked</th>\n",
              "      <th>period</th>\n",
              "      <th>travel_time_enc</th>\n",
              "      <th>hour_booked_freq</th>\n",
              "      <th>day</th>\n",
              "      <th>month</th>\n",
              "      <th>year</th>\n",
              "      <th>hour_map</th>\n",
              "      <th>month_year</th>\n",
              "      <th>month_year_freq</th>\n",
              "      <th>month_year_counts</th>\n",
              "      <th>travel_from_freq</th>\n",
              "      <th>travel_from_counts</th>\n",
              "    </tr>\n",
              "  </thead>\n",
              "  <tbody>\n",
              "    <tr>\n",
              "      <th>0</th>\n",
              "      <td>247</td>\n",
              "      <td>Kisii</td>\n",
              "      <td>Bus</td>\n",
              "      <td>49</td>\n",
              "      <td>7</td>\n",
              "      <td>peak</td>\n",
              "      <td>426</td>\n",
              "      <td>0.433843</td>\n",
              "      <td>1</td>\n",
              "      <td>05</td>\n",
              "      <td>2018</td>\n",
              "      <td>9</td>\n",
              "      <td>2018-05</td>\n",
              "      <td>0.326733</td>\n",
              "      <td>3.63</td>\n",
              "      <td>0.490549</td>\n",
              "      <td>5.45</td>\n",
              "    </tr>\n",
              "    <tr>\n",
              "      <th>1</th>\n",
              "      <td>256</td>\n",
              "      <td>Kisii</td>\n",
              "      <td>shuttle</td>\n",
              "      <td>11</td>\n",
              "      <td>11</td>\n",
              "      <td>Noon</td>\n",
              "      <td>668</td>\n",
              "      <td>0.046805</td>\n",
              "      <td>0</td>\n",
              "      <td>05</td>\n",
              "      <td>2018</td>\n",
              "      <td>2</td>\n",
              "      <td>2018-05</td>\n",
              "      <td>0.326733</td>\n",
              "      <td>3.63</td>\n",
              "      <td>0.490549</td>\n",
              "      <td>5.45</td>\n",
              "    </tr>\n",
              "    <tr>\n",
              "      <th>2</th>\n",
              "      <td>275</td>\n",
              "      <td>Kisii</td>\n",
              "      <td>shuttle</td>\n",
              "      <td>11</td>\n",
              "      <td>5</td>\n",
              "      <td>Early</td>\n",
              "      <td>300</td>\n",
              "      <td>0.044104</td>\n",
              "      <td>5</td>\n",
              "      <td>05</td>\n",
              "      <td>2018</td>\n",
              "      <td>4</td>\n",
              "      <td>2018-05</td>\n",
              "      <td>0.326733</td>\n",
              "      <td>3.63</td>\n",
              "      <td>0.490549</td>\n",
              "      <td>5.45</td>\n",
              "    </tr>\n",
              "    <tr>\n",
              "      <th>3</th>\n",
              "      <td>285</td>\n",
              "      <td>Kisii</td>\n",
              "      <td>shuttle</td>\n",
              "      <td>11</td>\n",
              "      <td>9</td>\n",
              "      <td>Morning</td>\n",
              "      <td>550</td>\n",
              "      <td>0.062106</td>\n",
              "      <td>5</td>\n",
              "      <td>05</td>\n",
              "      <td>2018</td>\n",
              "      <td>6</td>\n",
              "      <td>2018-05</td>\n",
              "      <td>0.326733</td>\n",
              "      <td>3.63</td>\n",
              "      <td>0.490549</td>\n",
              "      <td>5.45</td>\n",
              "    </tr>\n",
              "    <tr>\n",
              "      <th>4</th>\n",
              "      <td>286</td>\n",
              "      <td>Kisii</td>\n",
              "      <td>shuttle</td>\n",
              "      <td>11</td>\n",
              "      <td>9</td>\n",
              "      <td>Morning</td>\n",
              "      <td>560</td>\n",
              "      <td>0.062106</td>\n",
              "      <td>5</td>\n",
              "      <td>05</td>\n",
              "      <td>2018</td>\n",
              "      <td>6</td>\n",
              "      <td>2018-05</td>\n",
              "      <td>0.326733</td>\n",
              "      <td>3.63</td>\n",
              "      <td>0.490549</td>\n",
              "      <td>5.45</td>\n",
              "    </tr>\n",
              "  </tbody>\n",
              "</table>\n",
              "</div>"
            ],
            "text/plain": [
              "   ride_id travel_from car_type  max_capacity  hour_booked   period  \\\n",
              "0      247       Kisii      Bus            49            7     peak   \n",
              "1      256       Kisii  shuttle            11           11     Noon   \n",
              "2      275       Kisii  shuttle            11            5    Early   \n",
              "3      285       Kisii  shuttle            11            9  Morning   \n",
              "4      286       Kisii  shuttle            11            9  Morning   \n",
              "\n",
              "   travel_time_enc  hour_booked_freq day month  year  hour_map month_year  \\\n",
              "0              426          0.433843   1    05  2018         9    2018-05   \n",
              "1              668          0.046805   0    05  2018         2    2018-05   \n",
              "2              300          0.044104   5    05  2018         4    2018-05   \n",
              "3              550          0.062106   5    05  2018         6    2018-05   \n",
              "4              560          0.062106   5    05  2018         6    2018-05   \n",
              "\n",
              "   month_year_freq  month_year_counts  travel_from_freq  travel_from_counts  \n",
              "0         0.326733               3.63          0.490549                5.45  \n",
              "1         0.326733               3.63          0.490549                5.45  \n",
              "2         0.326733               3.63          0.490549                5.45  \n",
              "3         0.326733               3.63          0.490549                5.45  \n",
              "4         0.326733               3.63          0.490549                5.45  "
            ]
          },
          "metadata": {
            "tags": []
          },
          "execution_count": 62
        }
      ]
    },
    {
      "cell_type": "code",
      "metadata": {
        "id": "1AkAjXYFgG8I",
        "colab_type": "code",
        "colab": {}
      },
      "source": [
        "_=test.groupby('travel_from').size()\n",
        "_=_/len(test)\n",
        "test['travel_from_freq']=test.travel_from.map(_)"
      ],
      "execution_count": 0,
      "outputs": []
    },
    {
      "cell_type": "code",
      "metadata": {
        "id": "hy1vOZKCgLs4",
        "colab_type": "code",
        "colab": {}
      },
      "source": [
        "_=train.groupby('travel_from').size()\n",
        "_=_/len(train)\n",
        "train['travel_from_freq']=train.travel_from.map(_)"
      ],
      "execution_count": 0,
      "outputs": []
    },
    {
      "cell_type": "code",
      "metadata": {
        "id": "1npUWbY8gl2h",
        "colab_type": "code",
        "colab": {}
      },
      "source": [
        "train['travel_from_counts']=train.travel_from.map(train.travel_from.value_counts()/100)"
      ],
      "execution_count": 0,
      "outputs": []
    },
    {
      "cell_type": "code",
      "metadata": {
        "id": "1_bMYI8hgk1n",
        "colab_type": "code",
        "colab": {}
      },
      "source": [
        "test['travel_from_counts']=test.travel_from.map(test.travel_from.value_counts()/100)"
      ],
      "execution_count": 0,
      "outputs": []
    },
    {
      "cell_type": "code",
      "metadata": {
        "id": "PQgRLQgYiWwz",
        "colab_type": "code",
        "outputId": "f103473d-339d-45e6-e240-be6a37dd1df1",
        "colab": {
          "base_uri": "https://localhost:8080/",
          "height": 34
        }
      },
      "source": [
        "train.shape"
      ],
      "execution_count": 0,
      "outputs": [
        {
          "output_type": "execute_result",
          "data": {
            "text/plain": [
              "(6228, 17)"
            ]
          },
          "metadata": {
            "tags": []
          },
          "execution_count": 64
        }
      ]
    },
    {
      "cell_type": "code",
      "metadata": {
        "id": "_WF9FzLsigCw",
        "colab_type": "code",
        "outputId": "ab2f963d-ea62-4b55-82a9-0b608da3c3aa",
        "colab": {
          "base_uri": "https://localhost:8080/",
          "height": 34
        }
      },
      "source": [
        "test.shape"
      ],
      "execution_count": 0,
      "outputs": [
        {
          "output_type": "execute_result",
          "data": {
            "text/plain": [
              "(1111, 17)"
            ]
          },
          "metadata": {
            "tags": []
          },
          "execution_count": 65
        }
      ]
    },
    {
      "cell_type": "code",
      "metadata": {
        "id": "eCHNcZ9KVq1v",
        "colab_type": "code",
        "colab": {}
      },
      "source": [
        "data=train.append(test,ignore_index=True)"
      ],
      "execution_count": 0,
      "outputs": []
    },
    {
      "cell_type": "code",
      "metadata": {
        "id": "LbQ83H7xVq0B",
        "colab_type": "code",
        "outputId": "9e313da4-62a8-4332-9e95-c436032fee80",
        "colab": {
          "base_uri": "https://localhost:8080/",
          "height": 34
        }
      },
      "source": [
        "data.shape"
      ],
      "execution_count": 0,
      "outputs": [
        {
          "output_type": "execute_result",
          "data": {
            "text/plain": [
              "(7339, 17)"
            ]
          },
          "metadata": {
            "tags": []
          },
          "execution_count": 67
        }
      ]
    },
    {
      "cell_type": "code",
      "metadata": {
        "id": "A0VmzK0MVqte",
        "colab_type": "code",
        "colab": {}
      },
      "source": [
        "periods_dict={'Early':1,'Morning':2,'evening':3,'Noon':4,'Night':5,'peak':6}"
      ],
      "execution_count": 0,
      "outputs": []
    },
    {
      "cell_type": "code",
      "metadata": {
        "id": "AOGuOaeDVqos",
        "colab_type": "code",
        "colab": {}
      },
      "source": [
        "car_dict={'Bus':1, 'shuttle':2}"
      ],
      "execution_count": 0,
      "outputs": []
    },
    {
      "cell_type": "code",
      "metadata": {
        "id": "YFiS8IRYVqmn",
        "colab_type": "code",
        "colab": {}
      },
      "source": [
        "travel_from_dict={'Migori':0, 'Keroka':1, 'Homa Bay':2, 'Kisii':3, 'Keumbu':4, 'Rongo':5,'Kijauri':6, 'Oyugis':7, 'Awendo':8, 'Sirare':9, 'Nyachenge':10, 'Kehancha':11,'Kendu Bay':12, 'Sori':13, 'Rodi':14, 'Mbita':15, 'Ndhiwa':16}"
      ],
      "execution_count": 0,
      "outputs": []
    },
    {
      "cell_type": "code",
      "metadata": {
        "id": "1HCM4edQdsYd",
        "colab_type": "code",
        "colab": {}
      },
      "source": [
        "month_year_dict={'2017-10':0, '2017-11':1, '2018-04':2, '2018-12':3, '2018-11':4, '2018-10':5,\n",
        "       '2018-09':6, '2018-08':7, '2018-07':8, '2018-06':9, '2018-05':10, '2018-03':11,\n",
        "       '2018-02':12, '2018-01':13, '2017-01':14, '2017-02':15, '2017-03':16, '2017-04':17,\n",
        "       '2017-05':18, '2017-06':19, '2017-07':20, '2017-08':21, '2017-09':22,'2017-12':23}"
      ],
      "execution_count": 0,
      "outputs": []
    },
    {
      "cell_type": "code",
      "metadata": {
        "id": "SogvNlCZVqkF",
        "colab_type": "code",
        "colab": {}
      },
      "source": [
        "data['period'] = data['period'].replace(periods_dict, regex=True)"
      ],
      "execution_count": 0,
      "outputs": []
    },
    {
      "cell_type": "code",
      "metadata": {
        "id": "f4lvHOXUVqiQ",
        "colab_type": "code",
        "colab": {}
      },
      "source": [
        "data['car_type'] = data['car_type'].replace(car_dict, regex=True)"
      ],
      "execution_count": 0,
      "outputs": []
    },
    {
      "cell_type": "code",
      "metadata": {
        "id": "TnywyF1SjY3q",
        "colab_type": "code",
        "colab": {}
      },
      "source": [
        "year_dict={'2017':0, '2018':1}"
      ],
      "execution_count": 0,
      "outputs": []
    },
    {
      "cell_type": "code",
      "metadata": {
        "id": "LyODttGsjiqQ",
        "colab_type": "code",
        "colab": {}
      },
      "source": [
        "data['year'] = data['year'].replace(year_dict, regex=True)"
      ],
      "execution_count": 0,
      "outputs": []
    },
    {
      "cell_type": "code",
      "metadata": {
        "id": "7Xow8JSJVqgU",
        "colab_type": "code",
        "colab": {}
      },
      "source": [
        "#data['travel_from_enc'] = data['travel_from'].replace(travel_from_dict, regex=True)"
      ],
      "execution_count": 0,
      "outputs": []
    },
    {
      "cell_type": "code",
      "metadata": {
        "id": "4QYh2oZ5VqcI",
        "colab_type": "code",
        "colab": {}
      },
      "source": [
        "#data['month_year_enc'] = data['month_year'].replace(month_year_dict, regex=True)"
      ],
      "execution_count": 0,
      "outputs": []
    },
    {
      "cell_type": "code",
      "metadata": {
        "id": "O2p4HesXfchd",
        "colab_type": "code",
        "outputId": "85af6ed9-1bd3-4945-f776-66c5f8b71614",
        "colab": {
          "base_uri": "https://localhost:8080/",
          "height": 69
        }
      },
      "source": [
        "data['max_capacity'].value_counts()"
      ],
      "execution_count": 0,
      "outputs": [
        {
          "output_type": "execute_result",
          "data": {
            "text/plain": [
              "49    3784\n",
              "11    3555\n",
              "Name: max_capacity, dtype: int64"
            ]
          },
          "metadata": {
            "tags": []
          },
          "execution_count": 101
        }
      ]
    },
    {
      "cell_type": "markdown",
      "metadata": {
        "id": "KVWkAJjAss6x",
        "colab_type": "text"
      },
      "source": [
        "use one hot encoding for month_year"
      ]
    },
    {
      "cell_type": "code",
      "metadata": {
        "id": "PbULXy7cCJKe",
        "colab_type": "code",
        "outputId": "3daf37d4-03db-4dad-ab4e-0f67c7889f4b",
        "colab": {
          "base_uri": "https://localhost:8080/",
          "height": 34
        }
      },
      "source": [
        "data.shape"
      ],
      "execution_count": 0,
      "outputs": [
        {
          "output_type": "execute_result",
          "data": {
            "text/plain": [
              "(7339, 17)"
            ]
          },
          "metadata": {
            "tags": []
          },
          "execution_count": 79
        }
      ]
    },
    {
      "cell_type": "code",
      "metadata": {
        "id": "c_m5qQs4gRKj",
        "colab_type": "code",
        "colab": {}
      },
      "source": [
        "#data.month_year=pd.to_numeric(data.month_year)"
      ],
      "execution_count": 0,
      "outputs": []
    },
    {
      "cell_type": "code",
      "metadata": {
        "id": "1oGC-M6bf-eW",
        "colab_type": "code",
        "outputId": "97133568-0a18-41ed-e4d4-d2d6f10571ba",
        "colab": {
          "base_uri": "https://localhost:8080/",
          "height": 398
        }
      },
      "source": [
        "data.info()"
      ],
      "execution_count": 0,
      "outputs": [
        {
          "output_type": "stream",
          "text": [
            "<class 'pandas.core.frame.DataFrame'>\n",
            "RangeIndex: 7339 entries, 0 to 7338\n",
            "Data columns (total 17 columns):\n",
            "ride_id               7339 non-null int64\n",
            "travel_from           7339 non-null object\n",
            "car_type              7339 non-null int64\n",
            "max_capacity          7339 non-null int64\n",
            "hour_booked           7339 non-null int64\n",
            "period                7339 non-null int64\n",
            "travel_time_enc       7339 non-null int64\n",
            "hour_booked_freq      7339 non-null float64\n",
            "day                   7339 non-null object\n",
            "month                 7339 non-null object\n",
            "year                  7339 non-null int64\n",
            "hour_map              7339 non-null int64\n",
            "month_year            7339 non-null object\n",
            "month_year_freq       7339 non-null float64\n",
            "month_year_counts     7339 non-null float64\n",
            "travel_from_freq      7339 non-null float64\n",
            "travel_from_counts    7339 non-null float64\n",
            "dtypes: float64(5), int64(8), object(4)\n",
            "memory usage: 974.8+ KB\n"
          ],
          "name": "stdout"
        }
      ]
    },
    {
      "cell_type": "code",
      "metadata": {
        "id": "oC4h9br4futj",
        "colab_type": "code",
        "colab": {}
      },
      "source": [
        "import featuretools as ft"
      ],
      "execution_count": 0,
      "outputs": []
    },
    {
      "cell_type": "code",
      "metadata": {
        "id": "7lXn3tv0fzQE",
        "colab_type": "code",
        "colab": {}
      },
      "source": [
        "# creating and entity set 'es'\n",
        "es = ft.EntitySet(id ='no_tickets')"
      ],
      "execution_count": 0,
      "outputs": []
    },
    {
      "cell_type": "code",
      "metadata": {
        "id": "D4xmNLPEfzOA",
        "colab_type": "code",
        "outputId": "bb8ee234-01fb-482f-889b-652b1ee69086",
        "colab": {
          "base_uri": "https://localhost:8080/",
          "height": 104
        }
      },
      "source": [
        "es.entity_from_dataframe(entity_id ='data',dataframe =data,index ='ride_id')"
      ],
      "execution_count": 0,
      "outputs": [
        {
          "output_type": "execute_result",
          "data": {
            "text/plain": [
              "Entityset: no_tickets\n",
              "  Entities:\n",
              "    data [Rows: 7339, Columns: 17]\n",
              "  Relationships:\n",
              "    No relationships"
            ]
          },
          "metadata": {
            "tags": []
          },
          "execution_count": 156
        }
      ]
    },
    {
      "cell_type": "code",
      "metadata": {
        "id": "RYcfcI1rJibq",
        "colab_type": "code",
        "outputId": "232bbc89-ec59-4449-c1c1-818f9df93791",
        "colab": {
          "base_uri": "https://localhost:8080/",
          "height": 381
        }
      },
      "source": [
        "es['data']"
      ],
      "execution_count": 0,
      "outputs": [
        {
          "output_type": "execute_result",
          "data": {
            "text/plain": [
              "Entity: data\n",
              "  Variables:\n",
              "    ride_id (dtype: index)\n",
              "    travel_from (dtype: categorical)\n",
              "    car_type (dtype: numeric)\n",
              "    max_capacity (dtype: numeric)\n",
              "    hour_booked (dtype: numeric)\n",
              "    period (dtype: numeric)\n",
              "    travel_time_enc (dtype: numeric)\n",
              "    hour_booked_freq (dtype: numeric)\n",
              "    day (dtype: categorical)\n",
              "    month (dtype: categorical)\n",
              "    year (dtype: numeric)\n",
              "    hour_map (dtype: numeric)\n",
              "    month_year (dtype: datetime)\n",
              "    month_year_freq (dtype: numeric)\n",
              "    month_year_counts (dtype: numeric)\n",
              "    travel_from_freq (dtype: numeric)\n",
              "    travel_from_counts (dtype: numeric)\n",
              "  Shape:\n",
              "    (Rows: 7339, Columns: 17)"
            ]
          },
          "metadata": {
            "tags": []
          },
          "execution_count": 157
        }
      ]
    },
    {
      "cell_type": "code",
      "metadata": {
        "id": "N-SOUR-_0c1T",
        "colab_type": "code",
        "outputId": "20c9e7a3-c43f-4d0a-da49-9af57042d804",
        "colab": {
          "base_uri": "https://localhost:8080/",
          "height": 121
        }
      },
      "source": [
        "es.normalize_entity(base_entity_id='data',new_entity_id='period',index ='ride_id',additional_variables =['period','hour_booked','travel_from','month_year','year','month','hour_map'])"
      ],
      "execution_count": 0,
      "outputs": [
        {
          "output_type": "execute_result",
          "data": {
            "text/plain": [
              "Entityset: no_tickets\n",
              "  Entities:\n",
              "    data [Rows: 7339, Columns: 10]\n",
              "    period [Rows: 7339, Columns: 8]\n",
              "  Relationships:\n",
              "    data.ride_id -> period.ride_id"
            ]
          },
          "metadata": {
            "tags": []
          },
          "execution_count": 158
        }
      ]
    },
    {
      "cell_type": "code",
      "metadata": {
        "id": "rTcrSqEpIgK_",
        "colab_type": "code",
        "outputId": "2203659e-c014-411a-fb25-d118eb8c9045",
        "colab": {
          "base_uri": "https://localhost:8080/",
          "height": 260
        }
      },
      "source": [
        "es['data']"
      ],
      "execution_count": 0,
      "outputs": [
        {
          "output_type": "execute_result",
          "data": {
            "text/plain": [
              "Entity: data\n",
              "  Variables:\n",
              "    ride_id (dtype: id)\n",
              "    car_type (dtype: numeric)\n",
              "    max_capacity (dtype: numeric)\n",
              "    travel_time_enc (dtype: numeric)\n",
              "    hour_booked_freq (dtype: numeric)\n",
              "    day (dtype: categorical)\n",
              "    month_year_freq (dtype: numeric)\n",
              "    month_year_counts (dtype: numeric)\n",
              "    travel_from_freq (dtype: numeric)\n",
              "    travel_from_counts (dtype: numeric)\n",
              "  Shape:\n",
              "    (Rows: 7339, Columns: 10)"
            ]
          },
          "metadata": {
            "tags": []
          },
          "execution_count": 159
        }
      ]
    },
    {
      "cell_type": "code",
      "metadata": {
        "id": "r-4NC_49JFPm",
        "colab_type": "code",
        "outputId": "453c3f74-0f67-414f-90fd-5f2dbd7833c0",
        "colab": {
          "base_uri": "https://localhost:8080/",
          "height": 225
        }
      },
      "source": [
        "es['period']"
      ],
      "execution_count": 0,
      "outputs": [
        {
          "output_type": "execute_result",
          "data": {
            "text/plain": [
              "Entity: period\n",
              "  Variables:\n",
              "    ride_id (dtype: index)\n",
              "    period (dtype: numeric)\n",
              "    hour_booked (dtype: numeric)\n",
              "    travel_from (dtype: categorical)\n",
              "    month_year (dtype: datetime)\n",
              "    year (dtype: numeric)\n",
              "    month (dtype: categorical)\n",
              "    hour_map (dtype: numeric)\n",
              "  Shape:\n",
              "    (Rows: 7339, Columns: 8)"
            ]
          },
          "metadata": {
            "tags": []
          },
          "execution_count": 160
        }
      ]
    },
    {
      "cell_type": "code",
      "metadata": {
        "id": "MmVJwBcwfzLn",
        "colab_type": "code",
        "outputId": "0050b391-2123-45c6-bb04-1b4d02533913",
        "colab": {
          "base_uri": "https://localhost:8080/",
          "height": 69
        }
      },
      "source": [
        "feature_matrix, feature_names = ft.dfs(entityset=es, \n",
        "target_entity='data', \n",
        "max_depth = 2, \n",
        "verbose = 1, \n",
        "n_jobs = -1)"
      ],
      "execution_count": 0,
      "outputs": [
        {
          "output_type": "stream",
          "text": [
            "Built 69 features\n",
            "EntitySet scattered to workers in 1.071 seconds\n",
            "Elapsed: 00:19 | Remaining: 00:00 | Progress: 100%|██████████| Calculated: 11/11 chunks\n"
          ],
          "name": "stdout"
        }
      ]
    },
    {
      "cell_type": "code",
      "metadata": {
        "id": "9HlF0fICARE1",
        "colab_type": "code",
        "colab": {}
      },
      "source": [
        "feature_matrix.dropna(axis=1,inplace=True)"
      ],
      "execution_count": 0,
      "outputs": []
    },
    {
      "cell_type": "code",
      "metadata": {
        "id": "pRumbQtC_0aq",
        "colab_type": "code",
        "outputId": "b2024d1f-fe74-457d-8978-a5e5fbcae0b5",
        "colab": {
          "base_uri": "https://localhost:8080/",
          "height": 1674
        }
      },
      "source": [
        "feature_matrix.head().transpose()"
      ],
      "execution_count": 0,
      "outputs": [
        {
          "output_type": "execute_result",
          "data": {
            "text/html": [
              "<div>\n",
              "<style scoped>\n",
              "    .dataframe tbody tr th:only-of-type {\n",
              "        vertical-align: middle;\n",
              "    }\n",
              "\n",
              "    .dataframe tbody tr th {\n",
              "        vertical-align: top;\n",
              "    }\n",
              "\n",
              "    .dataframe thead th {\n",
              "        text-align: right;\n",
              "    }\n",
              "</style>\n",
              "<table border=\"1\" class=\"dataframe\">\n",
              "  <thead>\n",
              "    <tr style=\"text-align: right;\">\n",
              "      <th>ride_id</th>\n",
              "      <th>247</th>\n",
              "      <th>256</th>\n",
              "      <th>275</th>\n",
              "      <th>285</th>\n",
              "      <th>286</th>\n",
              "    </tr>\n",
              "  </thead>\n",
              "  <tbody>\n",
              "    <tr>\n",
              "      <th>car_type</th>\n",
              "      <td>1</td>\n",
              "      <td>2</td>\n",
              "      <td>2</td>\n",
              "      <td>2</td>\n",
              "      <td>2</td>\n",
              "    </tr>\n",
              "    <tr>\n",
              "      <th>max_capacity</th>\n",
              "      <td>49</td>\n",
              "      <td>11</td>\n",
              "      <td>11</td>\n",
              "      <td>11</td>\n",
              "      <td>11</td>\n",
              "    </tr>\n",
              "    <tr>\n",
              "      <th>travel_time_enc</th>\n",
              "      <td>426</td>\n",
              "      <td>668</td>\n",
              "      <td>300</td>\n",
              "      <td>550</td>\n",
              "      <td>560</td>\n",
              "    </tr>\n",
              "    <tr>\n",
              "      <th>hour_booked_freq</th>\n",
              "      <td>0.433843</td>\n",
              "      <td>0.0468047</td>\n",
              "      <td>0.0441044</td>\n",
              "      <td>0.0621062</td>\n",
              "      <td>0.0621062</td>\n",
              "    </tr>\n",
              "    <tr>\n",
              "      <th>day</th>\n",
              "      <td>1</td>\n",
              "      <td>0</td>\n",
              "      <td>5</td>\n",
              "      <td>5</td>\n",
              "      <td>5</td>\n",
              "    </tr>\n",
              "    <tr>\n",
              "      <th>month_year_freq</th>\n",
              "      <td>0.326733</td>\n",
              "      <td>0.326733</td>\n",
              "      <td>0.326733</td>\n",
              "      <td>0.326733</td>\n",
              "      <td>0.326733</td>\n",
              "    </tr>\n",
              "    <tr>\n",
              "      <th>month_year_counts</th>\n",
              "      <td>3.63</td>\n",
              "      <td>3.63</td>\n",
              "      <td>3.63</td>\n",
              "      <td>3.63</td>\n",
              "      <td>3.63</td>\n",
              "    </tr>\n",
              "    <tr>\n",
              "      <th>travel_from_freq</th>\n",
              "      <td>0.490549</td>\n",
              "      <td>0.490549</td>\n",
              "      <td>0.490549</td>\n",
              "      <td>0.490549</td>\n",
              "      <td>0.490549</td>\n",
              "    </tr>\n",
              "    <tr>\n",
              "      <th>travel_from_counts</th>\n",
              "      <td>5.45</td>\n",
              "      <td>5.45</td>\n",
              "      <td>5.45</td>\n",
              "      <td>5.45</td>\n",
              "      <td>5.45</td>\n",
              "    </tr>\n",
              "    <tr>\n",
              "      <th>period.period</th>\n",
              "      <td>6</td>\n",
              "      <td>4</td>\n",
              "      <td>1</td>\n",
              "      <td>2</td>\n",
              "      <td>2</td>\n",
              "    </tr>\n",
              "    <tr>\n",
              "      <th>period.hour_booked</th>\n",
              "      <td>7</td>\n",
              "      <td>11</td>\n",
              "      <td>5</td>\n",
              "      <td>9</td>\n",
              "      <td>9</td>\n",
              "    </tr>\n",
              "    <tr>\n",
              "      <th>period.travel_from</th>\n",
              "      <td>Kisii</td>\n",
              "      <td>Kisii</td>\n",
              "      <td>Kisii</td>\n",
              "      <td>Kisii</td>\n",
              "      <td>Kisii</td>\n",
              "    </tr>\n",
              "    <tr>\n",
              "      <th>period.year</th>\n",
              "      <td>1</td>\n",
              "      <td>1</td>\n",
              "      <td>1</td>\n",
              "      <td>1</td>\n",
              "      <td>1</td>\n",
              "    </tr>\n",
              "    <tr>\n",
              "      <th>period.month</th>\n",
              "      <td>05</td>\n",
              "      <td>05</td>\n",
              "      <td>05</td>\n",
              "      <td>05</td>\n",
              "      <td>05</td>\n",
              "    </tr>\n",
              "    <tr>\n",
              "      <th>period.hour_map</th>\n",
              "      <td>9</td>\n",
              "      <td>2</td>\n",
              "      <td>4</td>\n",
              "      <td>6</td>\n",
              "      <td>6</td>\n",
              "    </tr>\n",
              "    <tr>\n",
              "      <th>period.SUM(data.car_type)</th>\n",
              "      <td>1</td>\n",
              "      <td>2</td>\n",
              "      <td>2</td>\n",
              "      <td>2</td>\n",
              "      <td>2</td>\n",
              "    </tr>\n",
              "    <tr>\n",
              "      <th>period.SUM(data.max_capacity)</th>\n",
              "      <td>49</td>\n",
              "      <td>11</td>\n",
              "      <td>11</td>\n",
              "      <td>11</td>\n",
              "      <td>11</td>\n",
              "    </tr>\n",
              "    <tr>\n",
              "      <th>period.SUM(data.travel_time_enc)</th>\n",
              "      <td>426</td>\n",
              "      <td>668</td>\n",
              "      <td>300</td>\n",
              "      <td>550</td>\n",
              "      <td>560</td>\n",
              "    </tr>\n",
              "    <tr>\n",
              "      <th>period.SUM(data.hour_booked_freq)</th>\n",
              "      <td>0.433843</td>\n",
              "      <td>0.0468047</td>\n",
              "      <td>0.0441044</td>\n",
              "      <td>0.0621062</td>\n",
              "      <td>0.0621062</td>\n",
              "    </tr>\n",
              "    <tr>\n",
              "      <th>period.SUM(data.month_year_freq)</th>\n",
              "      <td>0.326733</td>\n",
              "      <td>0.326733</td>\n",
              "      <td>0.326733</td>\n",
              "      <td>0.326733</td>\n",
              "      <td>0.326733</td>\n",
              "    </tr>\n",
              "    <tr>\n",
              "      <th>period.SUM(data.month_year_counts)</th>\n",
              "      <td>3.63</td>\n",
              "      <td>3.63</td>\n",
              "      <td>3.63</td>\n",
              "      <td>3.63</td>\n",
              "      <td>3.63</td>\n",
              "    </tr>\n",
              "    <tr>\n",
              "      <th>period.SUM(data.travel_from_freq)</th>\n",
              "      <td>0.490549</td>\n",
              "      <td>0.490549</td>\n",
              "      <td>0.490549</td>\n",
              "      <td>0.490549</td>\n",
              "      <td>0.490549</td>\n",
              "    </tr>\n",
              "    <tr>\n",
              "      <th>period.SUM(data.travel_from_counts)</th>\n",
              "      <td>5.45</td>\n",
              "      <td>5.45</td>\n",
              "      <td>5.45</td>\n",
              "      <td>5.45</td>\n",
              "      <td>5.45</td>\n",
              "    </tr>\n",
              "    <tr>\n",
              "      <th>period.MAX(data.car_type)</th>\n",
              "      <td>1</td>\n",
              "      <td>2</td>\n",
              "      <td>2</td>\n",
              "      <td>2</td>\n",
              "      <td>2</td>\n",
              "    </tr>\n",
              "    <tr>\n",
              "      <th>period.MAX(data.max_capacity)</th>\n",
              "      <td>49</td>\n",
              "      <td>11</td>\n",
              "      <td>11</td>\n",
              "      <td>11</td>\n",
              "      <td>11</td>\n",
              "    </tr>\n",
              "    <tr>\n",
              "      <th>period.MAX(data.travel_time_enc)</th>\n",
              "      <td>426</td>\n",
              "      <td>668</td>\n",
              "      <td>300</td>\n",
              "      <td>550</td>\n",
              "      <td>560</td>\n",
              "    </tr>\n",
              "    <tr>\n",
              "      <th>period.MAX(data.hour_booked_freq)</th>\n",
              "      <td>0.433843</td>\n",
              "      <td>0.0468047</td>\n",
              "      <td>0.0441044</td>\n",
              "      <td>0.0621062</td>\n",
              "      <td>0.0621062</td>\n",
              "    </tr>\n",
              "    <tr>\n",
              "      <th>period.MAX(data.month_year_freq)</th>\n",
              "      <td>0.326733</td>\n",
              "      <td>0.326733</td>\n",
              "      <td>0.326733</td>\n",
              "      <td>0.326733</td>\n",
              "      <td>0.326733</td>\n",
              "    </tr>\n",
              "    <tr>\n",
              "      <th>period.MAX(data.month_year_counts)</th>\n",
              "      <td>3.63</td>\n",
              "      <td>3.63</td>\n",
              "      <td>3.63</td>\n",
              "      <td>3.63</td>\n",
              "      <td>3.63</td>\n",
              "    </tr>\n",
              "    <tr>\n",
              "      <th>period.MAX(data.travel_from_freq)</th>\n",
              "      <td>0.490549</td>\n",
              "      <td>0.490549</td>\n",
              "      <td>0.490549</td>\n",
              "      <td>0.490549</td>\n",
              "      <td>0.490549</td>\n",
              "    </tr>\n",
              "    <tr>\n",
              "      <th>period.MAX(data.travel_from_counts)</th>\n",
              "      <td>5.45</td>\n",
              "      <td>5.45</td>\n",
              "      <td>5.45</td>\n",
              "      <td>5.45</td>\n",
              "      <td>5.45</td>\n",
              "    </tr>\n",
              "    <tr>\n",
              "      <th>period.MIN(data.car_type)</th>\n",
              "      <td>1</td>\n",
              "      <td>2</td>\n",
              "      <td>2</td>\n",
              "      <td>2</td>\n",
              "      <td>2</td>\n",
              "    </tr>\n",
              "    <tr>\n",
              "      <th>period.MIN(data.max_capacity)</th>\n",
              "      <td>49</td>\n",
              "      <td>11</td>\n",
              "      <td>11</td>\n",
              "      <td>11</td>\n",
              "      <td>11</td>\n",
              "    </tr>\n",
              "    <tr>\n",
              "      <th>period.MIN(data.travel_time_enc)</th>\n",
              "      <td>426</td>\n",
              "      <td>668</td>\n",
              "      <td>300</td>\n",
              "      <td>550</td>\n",
              "      <td>560</td>\n",
              "    </tr>\n",
              "    <tr>\n",
              "      <th>period.MIN(data.hour_booked_freq)</th>\n",
              "      <td>0.433843</td>\n",
              "      <td>0.0468047</td>\n",
              "      <td>0.0441044</td>\n",
              "      <td>0.0621062</td>\n",
              "      <td>0.0621062</td>\n",
              "    </tr>\n",
              "    <tr>\n",
              "      <th>period.MIN(data.month_year_freq)</th>\n",
              "      <td>0.326733</td>\n",
              "      <td>0.326733</td>\n",
              "      <td>0.326733</td>\n",
              "      <td>0.326733</td>\n",
              "      <td>0.326733</td>\n",
              "    </tr>\n",
              "    <tr>\n",
              "      <th>period.MIN(data.month_year_counts)</th>\n",
              "      <td>3.63</td>\n",
              "      <td>3.63</td>\n",
              "      <td>3.63</td>\n",
              "      <td>3.63</td>\n",
              "      <td>3.63</td>\n",
              "    </tr>\n",
              "    <tr>\n",
              "      <th>period.MIN(data.travel_from_freq)</th>\n",
              "      <td>0.490549</td>\n",
              "      <td>0.490549</td>\n",
              "      <td>0.490549</td>\n",
              "      <td>0.490549</td>\n",
              "      <td>0.490549</td>\n",
              "    </tr>\n",
              "    <tr>\n",
              "      <th>period.MIN(data.travel_from_counts)</th>\n",
              "      <td>5.45</td>\n",
              "      <td>5.45</td>\n",
              "      <td>5.45</td>\n",
              "      <td>5.45</td>\n",
              "      <td>5.45</td>\n",
              "    </tr>\n",
              "    <tr>\n",
              "      <th>period.MEAN(data.car_type)</th>\n",
              "      <td>1</td>\n",
              "      <td>2</td>\n",
              "      <td>2</td>\n",
              "      <td>2</td>\n",
              "      <td>2</td>\n",
              "    </tr>\n",
              "    <tr>\n",
              "      <th>period.MEAN(data.max_capacity)</th>\n",
              "      <td>49</td>\n",
              "      <td>11</td>\n",
              "      <td>11</td>\n",
              "      <td>11</td>\n",
              "      <td>11</td>\n",
              "    </tr>\n",
              "    <tr>\n",
              "      <th>period.MEAN(data.travel_time_enc)</th>\n",
              "      <td>426</td>\n",
              "      <td>668</td>\n",
              "      <td>300</td>\n",
              "      <td>550</td>\n",
              "      <td>560</td>\n",
              "    </tr>\n",
              "    <tr>\n",
              "      <th>period.MEAN(data.hour_booked_freq)</th>\n",
              "      <td>0.433843</td>\n",
              "      <td>0.0468047</td>\n",
              "      <td>0.0441044</td>\n",
              "      <td>0.0621062</td>\n",
              "      <td>0.0621062</td>\n",
              "    </tr>\n",
              "    <tr>\n",
              "      <th>period.MEAN(data.month_year_freq)</th>\n",
              "      <td>0.326733</td>\n",
              "      <td>0.326733</td>\n",
              "      <td>0.326733</td>\n",
              "      <td>0.326733</td>\n",
              "      <td>0.326733</td>\n",
              "    </tr>\n",
              "    <tr>\n",
              "      <th>period.MEAN(data.month_year_counts)</th>\n",
              "      <td>3.63</td>\n",
              "      <td>3.63</td>\n",
              "      <td>3.63</td>\n",
              "      <td>3.63</td>\n",
              "      <td>3.63</td>\n",
              "    </tr>\n",
              "    <tr>\n",
              "      <th>period.MEAN(data.travel_from_freq)</th>\n",
              "      <td>0.490549</td>\n",
              "      <td>0.490549</td>\n",
              "      <td>0.490549</td>\n",
              "      <td>0.490549</td>\n",
              "      <td>0.490549</td>\n",
              "    </tr>\n",
              "    <tr>\n",
              "      <th>period.MEAN(data.travel_from_counts)</th>\n",
              "      <td>5.45</td>\n",
              "      <td>5.45</td>\n",
              "      <td>5.45</td>\n",
              "      <td>5.45</td>\n",
              "      <td>5.45</td>\n",
              "    </tr>\n",
              "    <tr>\n",
              "      <th>period.NUM_UNIQUE(data.day)</th>\n",
              "      <td>1</td>\n",
              "      <td>1</td>\n",
              "      <td>1</td>\n",
              "      <td>1</td>\n",
              "      <td>1</td>\n",
              "    </tr>\n",
              "    <tr>\n",
              "      <th>period.MODE(data.day)</th>\n",
              "      <td>1</td>\n",
              "      <td>0</td>\n",
              "      <td>5</td>\n",
              "      <td>5</td>\n",
              "      <td>5</td>\n",
              "    </tr>\n",
              "    <tr>\n",
              "      <th>period.DAY(month_year)</th>\n",
              "      <td>1</td>\n",
              "      <td>1</td>\n",
              "      <td>1</td>\n",
              "      <td>1</td>\n",
              "      <td>1</td>\n",
              "    </tr>\n",
              "    <tr>\n",
              "      <th>period.YEAR(month_year)</th>\n",
              "      <td>2018</td>\n",
              "      <td>2018</td>\n",
              "      <td>2018</td>\n",
              "      <td>2018</td>\n",
              "      <td>2018</td>\n",
              "    </tr>\n",
              "    <tr>\n",
              "      <th>period.MONTH(month_year)</th>\n",
              "      <td>5</td>\n",
              "      <td>5</td>\n",
              "      <td>5</td>\n",
              "      <td>5</td>\n",
              "      <td>5</td>\n",
              "    </tr>\n",
              "    <tr>\n",
              "      <th>period.WEEKDAY(month_year)</th>\n",
              "      <td>1</td>\n",
              "      <td>1</td>\n",
              "      <td>1</td>\n",
              "      <td>1</td>\n",
              "      <td>1</td>\n",
              "    </tr>\n",
              "  </tbody>\n",
              "</table>\n",
              "</div>"
            ],
            "text/plain": [
              "ride_id                                    247        256        275  \\\n",
              "car_type                                     1          2          2   \n",
              "max_capacity                                49         11         11   \n",
              "travel_time_enc                            426        668        300   \n",
              "hour_booked_freq                      0.433843  0.0468047  0.0441044   \n",
              "day                                          1          0          5   \n",
              "month_year_freq                       0.326733   0.326733   0.326733   \n",
              "month_year_counts                         3.63       3.63       3.63   \n",
              "travel_from_freq                      0.490549   0.490549   0.490549   \n",
              "travel_from_counts                        5.45       5.45       5.45   \n",
              "period.period                                6          4          1   \n",
              "period.hour_booked                           7         11          5   \n",
              "period.travel_from                       Kisii      Kisii      Kisii   \n",
              "period.year                                  1          1          1   \n",
              "period.month                                05         05         05   \n",
              "period.hour_map                              9          2          4   \n",
              "period.SUM(data.car_type)                    1          2          2   \n",
              "period.SUM(data.max_capacity)               49         11         11   \n",
              "period.SUM(data.travel_time_enc)           426        668        300   \n",
              "period.SUM(data.hour_booked_freq)     0.433843  0.0468047  0.0441044   \n",
              "period.SUM(data.month_year_freq)      0.326733   0.326733   0.326733   \n",
              "period.SUM(data.month_year_counts)        3.63       3.63       3.63   \n",
              "period.SUM(data.travel_from_freq)     0.490549   0.490549   0.490549   \n",
              "period.SUM(data.travel_from_counts)       5.45       5.45       5.45   \n",
              "period.MAX(data.car_type)                    1          2          2   \n",
              "period.MAX(data.max_capacity)               49         11         11   \n",
              "period.MAX(data.travel_time_enc)           426        668        300   \n",
              "period.MAX(data.hour_booked_freq)     0.433843  0.0468047  0.0441044   \n",
              "period.MAX(data.month_year_freq)      0.326733   0.326733   0.326733   \n",
              "period.MAX(data.month_year_counts)        3.63       3.63       3.63   \n",
              "period.MAX(data.travel_from_freq)     0.490549   0.490549   0.490549   \n",
              "period.MAX(data.travel_from_counts)       5.45       5.45       5.45   \n",
              "period.MIN(data.car_type)                    1          2          2   \n",
              "period.MIN(data.max_capacity)               49         11         11   \n",
              "period.MIN(data.travel_time_enc)           426        668        300   \n",
              "period.MIN(data.hour_booked_freq)     0.433843  0.0468047  0.0441044   \n",
              "period.MIN(data.month_year_freq)      0.326733   0.326733   0.326733   \n",
              "period.MIN(data.month_year_counts)        3.63       3.63       3.63   \n",
              "period.MIN(data.travel_from_freq)     0.490549   0.490549   0.490549   \n",
              "period.MIN(data.travel_from_counts)       5.45       5.45       5.45   \n",
              "period.MEAN(data.car_type)                   1          2          2   \n",
              "period.MEAN(data.max_capacity)              49         11         11   \n",
              "period.MEAN(data.travel_time_enc)          426        668        300   \n",
              "period.MEAN(data.hour_booked_freq)    0.433843  0.0468047  0.0441044   \n",
              "period.MEAN(data.month_year_freq)     0.326733   0.326733   0.326733   \n",
              "period.MEAN(data.month_year_counts)       3.63       3.63       3.63   \n",
              "period.MEAN(data.travel_from_freq)    0.490549   0.490549   0.490549   \n",
              "period.MEAN(data.travel_from_counts)      5.45       5.45       5.45   \n",
              "period.NUM_UNIQUE(data.day)                  1          1          1   \n",
              "period.MODE(data.day)                        1          0          5   \n",
              "period.DAY(month_year)                       1          1          1   \n",
              "period.YEAR(month_year)                   2018       2018       2018   \n",
              "period.MONTH(month_year)                     5          5          5   \n",
              "period.WEEKDAY(month_year)                   1          1          1   \n",
              "\n",
              "ride_id                                     285        286  \n",
              "car_type                                      2          2  \n",
              "max_capacity                                 11         11  \n",
              "travel_time_enc                             550        560  \n",
              "hour_booked_freq                      0.0621062  0.0621062  \n",
              "day                                           5          5  \n",
              "month_year_freq                        0.326733   0.326733  \n",
              "month_year_counts                          3.63       3.63  \n",
              "travel_from_freq                       0.490549   0.490549  \n",
              "travel_from_counts                         5.45       5.45  \n",
              "period.period                                 2          2  \n",
              "period.hour_booked                            9          9  \n",
              "period.travel_from                        Kisii      Kisii  \n",
              "period.year                                   1          1  \n",
              "period.month                                 05         05  \n",
              "period.hour_map                               6          6  \n",
              "period.SUM(data.car_type)                     2          2  \n",
              "period.SUM(data.max_capacity)                11         11  \n",
              "period.SUM(data.travel_time_enc)            550        560  \n",
              "period.SUM(data.hour_booked_freq)     0.0621062  0.0621062  \n",
              "period.SUM(data.month_year_freq)       0.326733   0.326733  \n",
              "period.SUM(data.month_year_counts)         3.63       3.63  \n",
              "period.SUM(data.travel_from_freq)      0.490549   0.490549  \n",
              "period.SUM(data.travel_from_counts)        5.45       5.45  \n",
              "period.MAX(data.car_type)                     2          2  \n",
              "period.MAX(data.max_capacity)                11         11  \n",
              "period.MAX(data.travel_time_enc)            550        560  \n",
              "period.MAX(data.hour_booked_freq)     0.0621062  0.0621062  \n",
              "period.MAX(data.month_year_freq)       0.326733   0.326733  \n",
              "period.MAX(data.month_year_counts)         3.63       3.63  \n",
              "period.MAX(data.travel_from_freq)      0.490549   0.490549  \n",
              "period.MAX(data.travel_from_counts)        5.45       5.45  \n",
              "period.MIN(data.car_type)                     2          2  \n",
              "period.MIN(data.max_capacity)                11         11  \n",
              "period.MIN(data.travel_time_enc)            550        560  \n",
              "period.MIN(data.hour_booked_freq)     0.0621062  0.0621062  \n",
              "period.MIN(data.month_year_freq)       0.326733   0.326733  \n",
              "period.MIN(data.month_year_counts)         3.63       3.63  \n",
              "period.MIN(data.travel_from_freq)      0.490549   0.490549  \n",
              "period.MIN(data.travel_from_counts)        5.45       5.45  \n",
              "period.MEAN(data.car_type)                    2          2  \n",
              "period.MEAN(data.max_capacity)               11         11  \n",
              "period.MEAN(data.travel_time_enc)           550        560  \n",
              "period.MEAN(data.hour_booked_freq)    0.0621062  0.0621062  \n",
              "period.MEAN(data.month_year_freq)      0.326733   0.326733  \n",
              "period.MEAN(data.month_year_counts)        3.63       3.63  \n",
              "period.MEAN(data.travel_from_freq)     0.490549   0.490549  \n",
              "period.MEAN(data.travel_from_counts)       5.45       5.45  \n",
              "period.NUM_UNIQUE(data.day)                   1          1  \n",
              "period.MODE(data.day)                         5          5  \n",
              "period.DAY(month_year)                        1          1  \n",
              "period.YEAR(month_year)                    2018       2018  \n",
              "period.MONTH(month_year)                      5          5  \n",
              "period.WEEKDAY(month_year)                    1          1  "
            ]
          },
          "metadata": {
            "tags": []
          },
          "execution_count": 163
        }
      ]
    },
    {
      "cell_type": "code",
      "metadata": {
        "id": "xZa_l0MaExBd",
        "colab_type": "code",
        "outputId": "52d2f217-685b-486a-c6f1-fb4c0e54ef3e",
        "colab": {
          "base_uri": "https://localhost:8080/",
          "height": 34
        }
      },
      "source": [
        "feature_matrix.shape"
      ],
      "execution_count": 0,
      "outputs": [
        {
          "output_type": "execute_result",
          "data": {
            "text/plain": [
              "(7339, 53)"
            ]
          },
          "metadata": {
            "tags": []
          },
          "execution_count": 164
        }
      ]
    },
    {
      "cell_type": "code",
      "metadata": {
        "id": "e6WUSQvpzUQ0",
        "colab_type": "code",
        "colab": {}
      },
      "source": [
        "feature_matrix = feature_matrix.reindex(index=data['ride_id'])\n",
        "feature_matrix = feature_matrix.reset_index()"
      ],
      "execution_count": 0,
      "outputs": []
    },
    {
      "cell_type": "code",
      "metadata": {
        "id": "QbuHMzsEzk5i",
        "colab_type": "code",
        "outputId": "bc374e7a-9b3f-4506-cd2d-281f40b48685",
        "colab": {
          "base_uri": "https://localhost:8080/",
          "height": 34
        }
      },
      "source": [
        "feature_matrix.shape"
      ],
      "execution_count": 0,
      "outputs": [
        {
          "output_type": "execute_result",
          "data": {
            "text/plain": [
              "(7339, 54)"
            ]
          },
          "metadata": {
            "tags": []
          },
          "execution_count": 166
        }
      ]
    },
    {
      "cell_type": "code",
      "metadata": {
        "id": "e7RiFxDzboP2",
        "colab_type": "code",
        "outputId": "1ce2dac6-396e-4a0a-90b6-028dfb76329d",
        "colab": {
          "base_uri": "https://localhost:8080/",
          "height": 1040
        }
      },
      "source": [
        "feature_matrix.info()"
      ],
      "execution_count": 0,
      "outputs": [
        {
          "output_type": "stream",
          "text": [
            "<class 'pandas.core.frame.DataFrame'>\n",
            "RangeIndex: 7339 entries, 0 to 7338\n",
            "Data columns (total 54 columns):\n",
            "ride_id                                 7339 non-null int64\n",
            "car_type                                7339 non-null int64\n",
            "max_capacity                            7339 non-null int64\n",
            "travel_time_enc                         7339 non-null int64\n",
            "hour_booked_freq                        7339 non-null float64\n",
            "day                                     7339 non-null object\n",
            "month_year_freq                         7339 non-null float64\n",
            "month_year_counts                       7339 non-null float64\n",
            "travel_from_freq                        7339 non-null float64\n",
            "travel_from_counts                      7339 non-null float64\n",
            "period.period                           7339 non-null int64\n",
            "period.hour_booked                      7339 non-null int64\n",
            "period.travel_from                      7339 non-null object\n",
            "period.year                             7339 non-null int64\n",
            "period.month                            7339 non-null object\n",
            "period.hour_map                         7339 non-null int64\n",
            "period.SUM(data.car_type)               7339 non-null int64\n",
            "period.SUM(data.max_capacity)           7339 non-null int64\n",
            "period.SUM(data.travel_time_enc)        7339 non-null int64\n",
            "period.SUM(data.hour_booked_freq)       7339 non-null float64\n",
            "period.SUM(data.month_year_freq)        7339 non-null float64\n",
            "period.SUM(data.month_year_counts)      7339 non-null float64\n",
            "period.SUM(data.travel_from_freq)       7339 non-null float64\n",
            "period.SUM(data.travel_from_counts)     7339 non-null float64\n",
            "period.MAX(data.car_type)               7339 non-null int64\n",
            "period.MAX(data.max_capacity)           7339 non-null int64\n",
            "period.MAX(data.travel_time_enc)        7339 non-null int64\n",
            "period.MAX(data.hour_booked_freq)       7339 non-null float64\n",
            "period.MAX(data.month_year_freq)        7339 non-null float64\n",
            "period.MAX(data.month_year_counts)      7339 non-null float64\n",
            "period.MAX(data.travel_from_freq)       7339 non-null float64\n",
            "period.MAX(data.travel_from_counts)     7339 non-null float64\n",
            "period.MIN(data.car_type)               7339 non-null int64\n",
            "period.MIN(data.max_capacity)           7339 non-null int64\n",
            "period.MIN(data.travel_time_enc)        7339 non-null int64\n",
            "period.MIN(data.hour_booked_freq)       7339 non-null float64\n",
            "period.MIN(data.month_year_freq)        7339 non-null float64\n",
            "period.MIN(data.month_year_counts)      7339 non-null float64\n",
            "period.MIN(data.travel_from_freq)       7339 non-null float64\n",
            "period.MIN(data.travel_from_counts)     7339 non-null float64\n",
            "period.MEAN(data.car_type)              7339 non-null int64\n",
            "period.MEAN(data.max_capacity)          7339 non-null int64\n",
            "period.MEAN(data.travel_time_enc)       7339 non-null int64\n",
            "period.MEAN(data.hour_booked_freq)      7339 non-null float64\n",
            "period.MEAN(data.month_year_freq)       7339 non-null float64\n",
            "period.MEAN(data.month_year_counts)     7339 non-null float64\n",
            "period.MEAN(data.travel_from_freq)      7339 non-null float64\n",
            "period.MEAN(data.travel_from_counts)    7339 non-null float64\n",
            "period.NUM_UNIQUE(data.day)             7339 non-null int64\n",
            "period.MODE(data.day)                   7339 non-null object\n",
            "period.DAY(month_year)                  7339 non-null int64\n",
            "period.YEAR(month_year)                 7339 non-null int64\n",
            "period.MONTH(month_year)                7339 non-null int64\n",
            "period.WEEKDAY(month_year)              7339 non-null int64\n",
            "dtypes: float64(25), int64(25), object(4)\n",
            "memory usage: 3.0+ MB\n"
          ],
          "name": "stdout"
        }
      ]
    },
    {
      "cell_type": "code",
      "metadata": {
        "id": "OnACFkXmzyOv",
        "colab_type": "code",
        "outputId": "d14fe7dd-6111-4c24-a6b9-48390b4a0bb5",
        "colab": {
          "base_uri": "https://localhost:8080/",
          "height": 245
        }
      },
      "source": [
        "!pip install catboost"
      ],
      "execution_count": 0,
      "outputs": [
        {
          "output_type": "stream",
          "text": [
            "Collecting catboost\n",
            "\u001b[?25l  Downloading https://files.pythonhosted.org/packages/dc/13/45eeea60104062709223ddcf5ef75f870a07bb40c8a9550bede9633c4e3b/catboost-0.12.0-cp36-none-manylinux1_x86_64.whl (55.3MB)\n",
            "\u001b[K    100% |████████████████████████████████| 55.3MB 828kB/s \n",
            "\u001b[?25hRequirement already satisfied: numpy>=1.11.1 in /usr/local/lib/python3.6/dist-packages (from catboost) (1.14.6)\n",
            "Collecting enum34 (from catboost)\n",
            "  Downloading https://files.pythonhosted.org/packages/af/42/cb9355df32c69b553e72a2e28daee25d1611d2c0d9c272aa1d34204205b2/enum34-1.1.6-py3-none-any.whl\n",
            "Requirement already satisfied: six in /usr/local/lib/python3.6/dist-packages (from catboost) (1.11.0)\n",
            "Requirement already satisfied: pandas>=0.19.1 in /usr/local/lib/python3.6/dist-packages (from catboost) (0.23.4)\n",
            "Requirement already satisfied: pytz>=2011k in /usr/local/lib/python3.6/dist-packages (from pandas>=0.19.1->catboost) (2018.7)\n",
            "Requirement already satisfied: python-dateutil>=2.5.0 in /usr/local/lib/python3.6/dist-packages (from pandas>=0.19.1->catboost) (2.5.3)\n",
            "Installing collected packages: enum34, catboost\n",
            "Successfully installed catboost-0.12.0 enum34-1.1.6\n"
          ],
          "name": "stdout"
        }
      ]
    },
    {
      "cell_type": "code",
      "metadata": {
        "id": "VOuK2sCXExXx",
        "colab_type": "code",
        "outputId": "72e27eaa-7c71-46ea-b681-39457708aa96",
        "colab": {
          "base_uri": "https://localhost:8080/",
          "height": 86
        }
      },
      "source": [
        "!pip install lightgbm"
      ],
      "execution_count": 0,
      "outputs": [
        {
          "output_type": "stream",
          "text": [
            "Requirement already satisfied: lightgbm in /usr/local/lib/python3.6/dist-packages (2.2.2)\n",
            "Requirement already satisfied: scipy in /usr/local/lib/python3.6/dist-packages (from lightgbm) (1.1.0)\n",
            "Requirement already satisfied: numpy in /usr/local/lib/python3.6/dist-packages (from lightgbm) (1.14.6)\n",
            "Requirement already satisfied: scikit-learn in /usr/local/lib/python3.6/dist-packages (from lightgbm) (0.20.1)\n"
          ],
          "name": "stdout"
        }
      ]
    },
    {
      "cell_type": "code",
      "metadata": {
        "id": "HA_3_JQrE1US",
        "colab_type": "code",
        "outputId": "ea3e1192-f501-4947-998d-0f67011ce54f",
        "colab": {
          "base_uri": "https://localhost:8080/",
          "height": 69
        }
      },
      "source": [
        "!pip install xgboost"
      ],
      "execution_count": 0,
      "outputs": [
        {
          "output_type": "stream",
          "text": [
            "Requirement already satisfied: xgboost in /usr/local/lib/python3.6/dist-packages (0.7.post4)\n",
            "Requirement already satisfied: numpy in /usr/local/lib/python3.6/dist-packages (from xgboost) (1.14.6)\n",
            "Requirement already satisfied: scipy in /usr/local/lib/python3.6/dist-packages (from xgboost) (1.1.0)\n"
          ],
          "name": "stdout"
        }
      ]
    },
    {
      "cell_type": "code",
      "metadata": {
        "id": "OKvsgTuArEjy",
        "colab_type": "code",
        "colab": {}
      },
      "source": [
        "#feature_matrix.drop(['ride_id'], axis=1, inplace=True)\n",
        "traindata = feature_matrix[:6228]\n",
        "testdata = feature_matrix[6228:]"
      ],
      "execution_count": 0,
      "outputs": []
    },
    {
      "cell_type": "code",
      "metadata": {
        "id": "obxCVk-uFyBp",
        "colab_type": "code",
        "outputId": "165504b9-0628-4b8c-dad0-72b1d689d0ac",
        "colab": {
          "base_uri": "https://localhost:8080/",
          "height": 34
        }
      },
      "source": [
        "traindata.shape"
      ],
      "execution_count": 0,
      "outputs": [
        {
          "output_type": "execute_result",
          "data": {
            "text/plain": [
              "(6228, 54)"
            ]
          },
          "metadata": {
            "tags": []
          },
          "execution_count": 169
        }
      ]
    },
    {
      "cell_type": "code",
      "metadata": {
        "id": "P4-xMQH-ysSB",
        "colab_type": "code",
        "outputId": "39798098-5a79-437c-f6a7-f218c824ad4c",
        "colab": {
          "base_uri": "https://localhost:8080/",
          "height": 34
        }
      },
      "source": [
        "testdata.shape"
      ],
      "execution_count": 0,
      "outputs": [
        {
          "output_type": "execute_result",
          "data": {
            "text/plain": [
              "(1111, 54)"
            ]
          },
          "metadata": {
            "tags": []
          },
          "execution_count": 170
        }
      ]
    },
    {
      "cell_type": "code",
      "metadata": {
        "id": "KFl0gyfimgpT",
        "colab_type": "code",
        "outputId": "b9b6a38c-c182-4c2e-c631-08876e9664c2",
        "colab": {
          "base_uri": "https://localhost:8080/",
          "height": 252
        }
      },
      "source": [
        "traindata.head()"
      ],
      "execution_count": 0,
      "outputs": [
        {
          "output_type": "execute_result",
          "data": {
            "text/html": [
              "<div>\n",
              "<style scoped>\n",
              "    .dataframe tbody tr th:only-of-type {\n",
              "        vertical-align: middle;\n",
              "    }\n",
              "\n",
              "    .dataframe tbody tr th {\n",
              "        vertical-align: top;\n",
              "    }\n",
              "\n",
              "    .dataframe thead th {\n",
              "        text-align: right;\n",
              "    }\n",
              "</style>\n",
              "<table border=\"1\" class=\"dataframe\">\n",
              "  <thead>\n",
              "    <tr style=\"text-align: right;\">\n",
              "      <th></th>\n",
              "      <th>ride_id</th>\n",
              "      <th>car_type</th>\n",
              "      <th>max_capacity</th>\n",
              "      <th>travel_time_enc</th>\n",
              "      <th>hour_booked_freq</th>\n",
              "      <th>day</th>\n",
              "      <th>month_year_freq</th>\n",
              "      <th>month_year_counts</th>\n",
              "      <th>travel_from_freq</th>\n",
              "      <th>travel_from_counts</th>\n",
              "      <th>...</th>\n",
              "      <th>period.MEAN(data.month_year_freq)</th>\n",
              "      <th>period.MEAN(data.month_year_counts)</th>\n",
              "      <th>period.MEAN(data.travel_from_freq)</th>\n",
              "      <th>period.MEAN(data.travel_from_counts)</th>\n",
              "      <th>period.NUM_UNIQUE(data.day)</th>\n",
              "      <th>period.MODE(data.day)</th>\n",
              "      <th>period.DAY(month_year)</th>\n",
              "      <th>period.YEAR(month_year)</th>\n",
              "      <th>period.MONTH(month_year)</th>\n",
              "      <th>period.WEEKDAY(month_year)</th>\n",
              "    </tr>\n",
              "  </thead>\n",
              "  <tbody>\n",
              "    <tr>\n",
              "      <th>0</th>\n",
              "      <td>1442</td>\n",
              "      <td>1</td>\n",
              "      <td>49</td>\n",
              "      <td>435</td>\n",
              "      <td>0.513487</td>\n",
              "      <td>2</td>\n",
              "      <td>0.015254</td>\n",
              "      <td>0.95</td>\n",
              "      <td>0.061978</td>\n",
              "      <td>3.86</td>\n",
              "      <td>...</td>\n",
              "      <td>0.015254</td>\n",
              "      <td>0.95</td>\n",
              "      <td>0.061978</td>\n",
              "      <td>3.86</td>\n",
              "      <td>1</td>\n",
              "      <td>2</td>\n",
              "      <td>1</td>\n",
              "      <td>2017</td>\n",
              "      <td>10</td>\n",
              "      <td>6</td>\n",
              "    </tr>\n",
              "    <tr>\n",
              "      <th>1</th>\n",
              "      <td>5437</td>\n",
              "      <td>1</td>\n",
              "      <td>49</td>\n",
              "      <td>432</td>\n",
              "      <td>0.513487</td>\n",
              "      <td>0</td>\n",
              "      <td>0.029223</td>\n",
              "      <td>1.82</td>\n",
              "      <td>0.061978</td>\n",
              "      <td>3.86</td>\n",
              "      <td>...</td>\n",
              "      <td>0.029223</td>\n",
              "      <td>1.82</td>\n",
              "      <td>0.061978</td>\n",
              "      <td>3.86</td>\n",
              "      <td>1</td>\n",
              "      <td>0</td>\n",
              "      <td>1</td>\n",
              "      <td>2017</td>\n",
              "      <td>11</td>\n",
              "      <td>2</td>\n",
              "    </tr>\n",
              "    <tr>\n",
              "      <th>2</th>\n",
              "      <td>5710</td>\n",
              "      <td>1</td>\n",
              "      <td>49</td>\n",
              "      <td>425</td>\n",
              "      <td>0.513487</td>\n",
              "      <td>0</td>\n",
              "      <td>0.029223</td>\n",
              "      <td>1.82</td>\n",
              "      <td>0.050096</td>\n",
              "      <td>3.12</td>\n",
              "      <td>...</td>\n",
              "      <td>0.029223</td>\n",
              "      <td>1.82</td>\n",
              "      <td>0.050096</td>\n",
              "      <td>3.12</td>\n",
              "      <td>1</td>\n",
              "      <td>0</td>\n",
              "      <td>1</td>\n",
              "      <td>2017</td>\n",
              "      <td>11</td>\n",
              "      <td>2</td>\n",
              "    </tr>\n",
              "    <tr>\n",
              "      <th>3</th>\n",
              "      <td>5777</td>\n",
              "      <td>1</td>\n",
              "      <td>49</td>\n",
              "      <td>430</td>\n",
              "      <td>0.513487</td>\n",
              "      <td>1</td>\n",
              "      <td>0.029223</td>\n",
              "      <td>1.82</td>\n",
              "      <td>0.057161</td>\n",
              "      <td>3.56</td>\n",
              "      <td>...</td>\n",
              "      <td>0.029223</td>\n",
              "      <td>1.82</td>\n",
              "      <td>0.057161</td>\n",
              "      <td>3.56</td>\n",
              "      <td>1</td>\n",
              "      <td>1</td>\n",
              "      <td>1</td>\n",
              "      <td>2017</td>\n",
              "      <td>11</td>\n",
              "      <td>2</td>\n",
              "    </tr>\n",
              "    <tr>\n",
              "      <th>4</th>\n",
              "      <td>5778</td>\n",
              "      <td>1</td>\n",
              "      <td>49</td>\n",
              "      <td>432</td>\n",
              "      <td>0.513487</td>\n",
              "      <td>1</td>\n",
              "      <td>0.029223</td>\n",
              "      <td>1.82</td>\n",
              "      <td>0.061978</td>\n",
              "      <td>3.86</td>\n",
              "      <td>...</td>\n",
              "      <td>0.029223</td>\n",
              "      <td>1.82</td>\n",
              "      <td>0.061978</td>\n",
              "      <td>3.86</td>\n",
              "      <td>1</td>\n",
              "      <td>1</td>\n",
              "      <td>1</td>\n",
              "      <td>2017</td>\n",
              "      <td>11</td>\n",
              "      <td>2</td>\n",
              "    </tr>\n",
              "  </tbody>\n",
              "</table>\n",
              "<p>5 rows × 54 columns</p>\n",
              "</div>"
            ],
            "text/plain": [
              "   ride_id  car_type  max_capacity  travel_time_enc  hour_booked_freq day  \\\n",
              "0     1442         1            49              435          0.513487   2   \n",
              "1     5437         1            49              432          0.513487   0   \n",
              "2     5710         1            49              425          0.513487   0   \n",
              "3     5777         1            49              430          0.513487   1   \n",
              "4     5778         1            49              432          0.513487   1   \n",
              "\n",
              "   month_year_freq  month_year_counts  travel_from_freq  travel_from_counts  \\\n",
              "0         0.015254               0.95          0.061978                3.86   \n",
              "1         0.029223               1.82          0.061978                3.86   \n",
              "2         0.029223               1.82          0.050096                3.12   \n",
              "3         0.029223               1.82          0.057161                3.56   \n",
              "4         0.029223               1.82          0.061978                3.86   \n",
              "\n",
              "              ...              period.MEAN(data.month_year_freq)  \\\n",
              "0             ...                                       0.015254   \n",
              "1             ...                                       0.029223   \n",
              "2             ...                                       0.029223   \n",
              "3             ...                                       0.029223   \n",
              "4             ...                                       0.029223   \n",
              "\n",
              "   period.MEAN(data.month_year_counts) period.MEAN(data.travel_from_freq)  \\\n",
              "0                                 0.95                           0.061978   \n",
              "1                                 1.82                           0.061978   \n",
              "2                                 1.82                           0.050096   \n",
              "3                                 1.82                           0.057161   \n",
              "4                                 1.82                           0.061978   \n",
              "\n",
              "   period.MEAN(data.travel_from_counts) period.NUM_UNIQUE(data.day)  \\\n",
              "0                                  3.86                           1   \n",
              "1                                  3.86                           1   \n",
              "2                                  3.12                           1   \n",
              "3                                  3.56                           1   \n",
              "4                                  3.86                           1   \n",
              "\n",
              "   period.MODE(data.day)  period.DAY(month_year)  period.YEAR(month_year)  \\\n",
              "0                      2                       1                     2017   \n",
              "1                      0                       1                     2017   \n",
              "2                      0                       1                     2017   \n",
              "3                      1                       1                     2017   \n",
              "4                      1                       1                     2017   \n",
              "\n",
              "   period.MONTH(month_year)  period.WEEKDAY(month_year)  \n",
              "0                        10                           6  \n",
              "1                        11                           2  \n",
              "2                        11                           2  \n",
              "3                        11                           2  \n",
              "4                        11                           2  \n",
              "\n",
              "[5 rows x 54 columns]"
            ]
          },
          "metadata": {
            "tags": []
          },
          "execution_count": 171
        }
      ]
    },
    {
      "cell_type": "code",
      "metadata": {
        "id": "Vu0IXqkymqwB",
        "colab_type": "code",
        "outputId": "950eb44a-a947-4c9e-c7a3-6e012fa23637",
        "colab": {
          "base_uri": "https://localhost:8080/",
          "height": 252
        }
      },
      "source": [
        "testdata.head()"
      ],
      "execution_count": 0,
      "outputs": [
        {
          "output_type": "execute_result",
          "data": {
            "text/html": [
              "<div>\n",
              "<style scoped>\n",
              "    .dataframe tbody tr th:only-of-type {\n",
              "        vertical-align: middle;\n",
              "    }\n",
              "\n",
              "    .dataframe tbody tr th {\n",
              "        vertical-align: top;\n",
              "    }\n",
              "\n",
              "    .dataframe thead th {\n",
              "        text-align: right;\n",
              "    }\n",
              "</style>\n",
              "<table border=\"1\" class=\"dataframe\">\n",
              "  <thead>\n",
              "    <tr style=\"text-align: right;\">\n",
              "      <th></th>\n",
              "      <th>ride_id</th>\n",
              "      <th>car_type</th>\n",
              "      <th>max_capacity</th>\n",
              "      <th>travel_time_enc</th>\n",
              "      <th>hour_booked_freq</th>\n",
              "      <th>day</th>\n",
              "      <th>month_year_freq</th>\n",
              "      <th>month_year_counts</th>\n",
              "      <th>travel_from_freq</th>\n",
              "      <th>travel_from_counts</th>\n",
              "      <th>...</th>\n",
              "      <th>period.MEAN(data.month_year_freq)</th>\n",
              "      <th>period.MEAN(data.month_year_counts)</th>\n",
              "      <th>period.MEAN(data.travel_from_freq)</th>\n",
              "      <th>period.MEAN(data.travel_from_counts)</th>\n",
              "      <th>period.NUM_UNIQUE(data.day)</th>\n",
              "      <th>period.MODE(data.day)</th>\n",
              "      <th>period.DAY(month_year)</th>\n",
              "      <th>period.YEAR(month_year)</th>\n",
              "      <th>period.MONTH(month_year)</th>\n",
              "      <th>period.WEEKDAY(month_year)</th>\n",
              "    </tr>\n",
              "  </thead>\n",
              "  <tbody>\n",
              "    <tr>\n",
              "      <th>6228</th>\n",
              "      <td>247</td>\n",
              "      <td>1</td>\n",
              "      <td>49</td>\n",
              "      <td>426</td>\n",
              "      <td>0.433843</td>\n",
              "      <td>1</td>\n",
              "      <td>0.326733</td>\n",
              "      <td>3.63</td>\n",
              "      <td>0.490549</td>\n",
              "      <td>5.45</td>\n",
              "      <td>...</td>\n",
              "      <td>0.326733</td>\n",
              "      <td>3.63</td>\n",
              "      <td>0.490549</td>\n",
              "      <td>5.45</td>\n",
              "      <td>1</td>\n",
              "      <td>1</td>\n",
              "      <td>1</td>\n",
              "      <td>2018</td>\n",
              "      <td>5</td>\n",
              "      <td>1</td>\n",
              "    </tr>\n",
              "    <tr>\n",
              "      <th>6229</th>\n",
              "      <td>256</td>\n",
              "      <td>2</td>\n",
              "      <td>11</td>\n",
              "      <td>668</td>\n",
              "      <td>0.046805</td>\n",
              "      <td>0</td>\n",
              "      <td>0.326733</td>\n",
              "      <td>3.63</td>\n",
              "      <td>0.490549</td>\n",
              "      <td>5.45</td>\n",
              "      <td>...</td>\n",
              "      <td>0.326733</td>\n",
              "      <td>3.63</td>\n",
              "      <td>0.490549</td>\n",
              "      <td>5.45</td>\n",
              "      <td>1</td>\n",
              "      <td>0</td>\n",
              "      <td>1</td>\n",
              "      <td>2018</td>\n",
              "      <td>5</td>\n",
              "      <td>1</td>\n",
              "    </tr>\n",
              "    <tr>\n",
              "      <th>6230</th>\n",
              "      <td>275</td>\n",
              "      <td>2</td>\n",
              "      <td>11</td>\n",
              "      <td>300</td>\n",
              "      <td>0.044104</td>\n",
              "      <td>5</td>\n",
              "      <td>0.326733</td>\n",
              "      <td>3.63</td>\n",
              "      <td>0.490549</td>\n",
              "      <td>5.45</td>\n",
              "      <td>...</td>\n",
              "      <td>0.326733</td>\n",
              "      <td>3.63</td>\n",
              "      <td>0.490549</td>\n",
              "      <td>5.45</td>\n",
              "      <td>1</td>\n",
              "      <td>5</td>\n",
              "      <td>1</td>\n",
              "      <td>2018</td>\n",
              "      <td>5</td>\n",
              "      <td>1</td>\n",
              "    </tr>\n",
              "    <tr>\n",
              "      <th>6231</th>\n",
              "      <td>285</td>\n",
              "      <td>2</td>\n",
              "      <td>11</td>\n",
              "      <td>550</td>\n",
              "      <td>0.062106</td>\n",
              "      <td>5</td>\n",
              "      <td>0.326733</td>\n",
              "      <td>3.63</td>\n",
              "      <td>0.490549</td>\n",
              "      <td>5.45</td>\n",
              "      <td>...</td>\n",
              "      <td>0.326733</td>\n",
              "      <td>3.63</td>\n",
              "      <td>0.490549</td>\n",
              "      <td>5.45</td>\n",
              "      <td>1</td>\n",
              "      <td>5</td>\n",
              "      <td>1</td>\n",
              "      <td>2018</td>\n",
              "      <td>5</td>\n",
              "      <td>1</td>\n",
              "    </tr>\n",
              "    <tr>\n",
              "      <th>6232</th>\n",
              "      <td>286</td>\n",
              "      <td>2</td>\n",
              "      <td>11</td>\n",
              "      <td>560</td>\n",
              "      <td>0.062106</td>\n",
              "      <td>5</td>\n",
              "      <td>0.326733</td>\n",
              "      <td>3.63</td>\n",
              "      <td>0.490549</td>\n",
              "      <td>5.45</td>\n",
              "      <td>...</td>\n",
              "      <td>0.326733</td>\n",
              "      <td>3.63</td>\n",
              "      <td>0.490549</td>\n",
              "      <td>5.45</td>\n",
              "      <td>1</td>\n",
              "      <td>5</td>\n",
              "      <td>1</td>\n",
              "      <td>2018</td>\n",
              "      <td>5</td>\n",
              "      <td>1</td>\n",
              "    </tr>\n",
              "  </tbody>\n",
              "</table>\n",
              "<p>5 rows × 54 columns</p>\n",
              "</div>"
            ],
            "text/plain": [
              "      ride_id  car_type  max_capacity  travel_time_enc  hour_booked_freq day  \\\n",
              "6228      247         1            49              426          0.433843   1   \n",
              "6229      256         2            11              668          0.046805   0   \n",
              "6230      275         2            11              300          0.044104   5   \n",
              "6231      285         2            11              550          0.062106   5   \n",
              "6232      286         2            11              560          0.062106   5   \n",
              "\n",
              "      month_year_freq  month_year_counts  travel_from_freq  \\\n",
              "6228         0.326733               3.63          0.490549   \n",
              "6229         0.326733               3.63          0.490549   \n",
              "6230         0.326733               3.63          0.490549   \n",
              "6231         0.326733               3.63          0.490549   \n",
              "6232         0.326733               3.63          0.490549   \n",
              "\n",
              "      travel_from_counts             ...              \\\n",
              "6228                5.45             ...               \n",
              "6229                5.45             ...               \n",
              "6230                5.45             ...               \n",
              "6231                5.45             ...               \n",
              "6232                5.45             ...               \n",
              "\n",
              "      period.MEAN(data.month_year_freq)  period.MEAN(data.month_year_counts)  \\\n",
              "6228                           0.326733                                 3.63   \n",
              "6229                           0.326733                                 3.63   \n",
              "6230                           0.326733                                 3.63   \n",
              "6231                           0.326733                                 3.63   \n",
              "6232                           0.326733                                 3.63   \n",
              "\n",
              "     period.MEAN(data.travel_from_freq)  period.MEAN(data.travel_from_counts)  \\\n",
              "6228                           0.490549                                  5.45   \n",
              "6229                           0.490549                                  5.45   \n",
              "6230                           0.490549                                  5.45   \n",
              "6231                           0.490549                                  5.45   \n",
              "6232                           0.490549                                  5.45   \n",
              "\n",
              "     period.NUM_UNIQUE(data.day)  period.MODE(data.day)  \\\n",
              "6228                           1                      1   \n",
              "6229                           1                      0   \n",
              "6230                           1                      5   \n",
              "6231                           1                      5   \n",
              "6232                           1                      5   \n",
              "\n",
              "      period.DAY(month_year)  period.YEAR(month_year)  \\\n",
              "6228                       1                     2018   \n",
              "6229                       1                     2018   \n",
              "6230                       1                     2018   \n",
              "6231                       1                     2018   \n",
              "6232                       1                     2018   \n",
              "\n",
              "      period.MONTH(month_year)  period.WEEKDAY(month_year)  \n",
              "6228                         5                           1  \n",
              "6229                         5                           1  \n",
              "6230                         5                           1  \n",
              "6231                         5                           1  \n",
              "6232                         5                           1  \n",
              "\n",
              "[5 rows x 54 columns]"
            ]
          },
          "metadata": {
            "tags": []
          },
          "execution_count": 172
        }
      ]
    },
    {
      "cell_type": "code",
      "metadata": {
        "id": "x419LFSXnIPT",
        "colab_type": "code",
        "colab": {}
      },
      "source": [
        "from catboost import CatBoostRegressor"
      ],
      "execution_count": 0,
      "outputs": []
    },
    {
      "cell_type": "code",
      "metadata": {
        "id": "ehtq71hDoQa2",
        "colab_type": "code",
        "colab": {}
      },
      "source": [
        "catdata = traindata\n",
        "testcat = testdata"
      ],
      "execution_count": 0,
      "outputs": []
    },
    {
      "cell_type": "code",
      "metadata": {
        "id": "xL8MOy-_r-Rp",
        "colab_type": "code",
        "colab": {}
      },
      "source": [
        "categorical_features = np.where(catdata.dtypes =='object')[0]\n",
        "for i in categorical_features:\n",
        "    catdata.iloc[:,i] = catdata.iloc[:,i].astype('str')"
      ],
      "execution_count": 0,
      "outputs": []
    },
    {
      "cell_type": "code",
      "metadata": {
        "id": "CLnI4TWJwTti",
        "colab_type": "code",
        "colab": {}
      },
      "source": [
        "categorical_features = np.where(testcat.dtypes =='object')[0]\n",
        "for i in categorical_features:\n",
        "    testcat.iloc[:,i] = testcat.iloc[:,i].astype('str')"
      ],
      "execution_count": 0,
      "outputs": []
    },
    {
      "cell_type": "code",
      "metadata": {
        "id": "xDd_vtSxoWW5",
        "colab_type": "code",
        "colab": {}
      },
      "source": [
        "categorical_features = np.where(catdata.dtypes == 'object')[0]"
      ],
      "execution_count": 0,
      "outputs": []
    },
    {
      "cell_type": "code",
      "metadata": {
        "id": "VX70uCgmsodg",
        "colab_type": "code",
        "outputId": "f3358bd3-a976-4a64-b3aa-d90fa0ea88d9",
        "colab": {
          "base_uri": "https://localhost:8080/",
          "height": 34
        }
      },
      "source": [
        "categorical_features"
      ],
      "execution_count": 0,
      "outputs": [
        {
          "output_type": "execute_result",
          "data": {
            "text/plain": [
              "array([ 5, 12, 14, 49])"
            ]
          },
          "metadata": {
            "tags": []
          },
          "execution_count": 189
        }
      ]
    },
    {
      "cell_type": "code",
      "metadata": {
        "id": "64QQKcgpoWPl",
        "colab_type": "code",
        "colab": {}
      },
      "source": [
        "params = {'depth': [4, 7, 10],\n",
        "          'learning_rate' : [0.03, 0.1, 0.15],\n",
        "         'l2_leaf_reg': [1,4,9],\n",
        "         'iterations': [300]}"
      ],
      "execution_count": 0,
      "outputs": []
    },
    {
      "cell_type": "code",
      "metadata": {
        "id": "hU-RQAYdpg_8",
        "colab_type": "code",
        "colab": {}
      },
      "source": [
        "from sklearn.metrics import mean_absolute_error"
      ],
      "execution_count": 0,
      "outputs": []
    },
    {
      "cell_type": "code",
      "metadata": {
        "id": "p2G5y2pTpqzV",
        "colab_type": "code",
        "colab": {}
      },
      "source": [
        "from sklearn.model_selection import GridSearchCV"
      ],
      "execution_count": 0,
      "outputs": []
    },
    {
      "cell_type": "code",
      "metadata": {
        "id": "2OicovcCoWKJ",
        "colab_type": "code",
        "colab": {}
      },
      "source": [
        "cb_model= GridSearchCV(CatBoostRegressor(), params, scoring=\"neg_mean_absolute_error\", cv = 3)"
      ],
      "execution_count": 0,
      "outputs": []
    },
    {
      "cell_type": "code",
      "metadata": {
        "id": "VkBzuiy-rgpf",
        "colab_type": "code",
        "colab": {}
      },
      "source": [
        "#catdata['period.travel_from'].value_counts()"
      ],
      "execution_count": 0,
      "outputs": []
    },
    {
      "cell_type": "code",
      "metadata": {
        "id": "DxDsIPrhoWGm",
        "colab_type": "code",
        "colab": {}
      },
      "source": [
        "#cb_model.fit(catdata,target)"
      ],
      "execution_count": 0,
      "outputs": []
    },
    {
      "cell_type": "code",
      "metadata": {
        "id": "jQX_ZpYVoWDM",
        "colab_type": "code",
        "colab": {}
      },
      "source": [
        ""
      ],
      "execution_count": 0,
      "outputs": []
    },
    {
      "cell_type": "code",
      "metadata": {
        "id": "-hCdGuI-oV_l",
        "colab_type": "code",
        "colab": {}
      },
      "source": [
        ""
      ],
      "execution_count": 0,
      "outputs": []
    },
    {
      "cell_type": "code",
      "metadata": {
        "id": "qDhiiB1aoV7x",
        "colab_type": "code",
        "colab": {}
      },
      "source": [
        "xgtest=testdata.drop(['day','period.month','period.MODE(data.day)'],axis=1)"
      ],
      "execution_count": 0,
      "outputs": []
    },
    {
      "cell_type": "code",
      "metadata": {
        "id": "CP_Ys6OboV2s",
        "colab_type": "code",
        "colab": {}
      },
      "source": [
        "xgtrain=traindata.drop(['day','period.month','period.MODE(data.day)'],axis=1)"
      ],
      "execution_count": 0,
      "outputs": []
    },
    {
      "cell_type": "code",
      "metadata": {
        "id": "pPvQPxHooVys",
        "colab_type": "code",
        "colab": {}
      },
      "source": [
        "xgtrain['period.travel_from']=xgtrain['period.travel_from'].replace(travel_from_dict,regex=True)"
      ],
      "execution_count": 0,
      "outputs": []
    },
    {
      "cell_type": "code",
      "metadata": {
        "id": "kn2ei3dcyjbu",
        "colab_type": "code",
        "colab": {}
      },
      "source": [
        "xgtest['period.travel_from']=xgtest['period.travel_from'].replace(travel_from_dict,regex=True)"
      ],
      "execution_count": 0,
      "outputs": []
    },
    {
      "cell_type": "code",
      "metadata": {
        "id": "iSN9QdakxCk3",
        "colab_type": "code",
        "colab": {}
      },
      "source": [
        "#xgtest.info()"
      ],
      "execution_count": 0,
      "outputs": []
    },
    {
      "cell_type": "code",
      "metadata": {
        "id": "Y9fs533xzJdY",
        "colab_type": "code",
        "colab": {}
      },
      "source": [
        "import xgboost as xgb"
      ],
      "execution_count": 0,
      "outputs": []
    },
    {
      "cell_type": "code",
      "metadata": {
        "id": "0aa6wQrqMAZv",
        "colab_type": "code",
        "colab": {}
      },
      "source": [
        "xg_model=xgb.XGBRegressor()"
      ],
      "execution_count": 0,
      "outputs": []
    },
    {
      "cell_type": "code",
      "metadata": {
        "id": "8lkaPE0YLM-5",
        "colab_type": "code",
        "colab": {}
      },
      "source": [
        "param_dist = {\"max_depth\": [5,10,15],\n",
        "              \"min_child_weight\" : [1,3,6,9],\n",
        "              \"n_estimators\": [400],\n",
        "              \"learning_rate\": [0.05, 0.1,0.16],}"
      ],
      "execution_count": 0,
      "outputs": []
    },
    {
      "cell_type": "code",
      "metadata": {
        "id": "gppk4kf1LT26",
        "colab_type": "code",
        "colab": {}
      },
      "source": [
        "grid_search = GridSearchCV(xg_model,param_grid=param_dist,cv =3,n_jobs=-1)"
      ],
      "execution_count": 0,
      "outputs": []
    },
    {
      "cell_type": "code",
      "metadata": {
        "id": "QOZRJkXCLdnl",
        "colab_type": "code",
        "outputId": "250ae831-dfba-4e01-f98f-c8b9f29a8d51",
        "colab": {
          "base_uri": "https://localhost:8080/",
          "height": 208
        }
      },
      "source": [
        "grid_search.fit(xgtrain,target)"
      ],
      "execution_count": 0,
      "outputs": [
        {
          "output_type": "execute_result",
          "data": {
            "text/plain": [
              "GridSearchCV(cv=3, error_score='raise-deprecating',\n",
              "       estimator=XGBRegressor(base_score=0.5, booster='gbtree', colsample_bylevel=1,\n",
              "       colsample_bytree=1, gamma=0, learning_rate=0.05, max_delta_step=0,\n",
              "       max_depth=5, min_child_weight=1, missing=None, n_estimators=300,\n",
              "       n_jobs=1, nthread=None, objective='reg:linear', random_state=0,\n",
              "       reg_alpha=0, reg_lambda=1, scale_pos_weight=1, seed=None,\n",
              "       silent=True, subsample=1),\n",
              "       fit_params=None, iid='warn', n_jobs=-1,\n",
              "       param_grid={'max_depth': [5, 10, 15], 'min_child_weight': [1, 3, 6, 9], 'n_estimators': [400], 'learning_rate': [0.05, 0.1, 0.16]},\n",
              "       pre_dispatch='2*n_jobs', refit=True, return_train_score='warn',\n",
              "       scoring=None, verbose=0)"
            ]
          },
          "metadata": {
            "tags": []
          },
          "execution_count": 229
        }
      ]
    },
    {
      "cell_type": "code",
      "metadata": {
        "id": "YLlsv-cYLmXW",
        "colab_type": "code",
        "outputId": "26518904-4611-49dc-cdab-818163ebad0b",
        "colab": {
          "base_uri": "https://localhost:8080/",
          "height": 121
        }
      },
      "source": [
        "grid_search.best_estimator_ "
      ],
      "execution_count": 0,
      "outputs": [
        {
          "output_type": "execute_result",
          "data": {
            "text/plain": [
              "XGBRegressor(base_score=0.5, booster='gbtree', colsample_bylevel=1,\n",
              "       colsample_bytree=1, gamma=0, learning_rate=0.05, max_delta_step=0,\n",
              "       max_depth=5, min_child_weight=1, missing=None, n_estimators=400,\n",
              "       n_jobs=1, nthread=None, objective='reg:linear', random_state=0,\n",
              "       reg_alpha=0, reg_lambda=1, scale_pos_weight=1, seed=None,\n",
              "       silent=True, subsample=1)"
            ]
          },
          "metadata": {
            "tags": []
          },
          "execution_count": 230
        }
      ]
    },
    {
      "cell_type": "code",
      "metadata": {
        "id": "gLV3Wi150--F",
        "colab_type": "code",
        "colab": {}
      },
      "source": [
        "xg_model=grid_search.best_estimator_ "
      ],
      "execution_count": 0,
      "outputs": []
    },
    {
      "cell_type": "code",
      "metadata": {
        "id": "euE4GZhGLrno",
        "colab_type": "code",
        "colab": {}
      },
      "source": [
        "#model = xgb.XGBRegressor(max_depth=5, min_child_weight=6,  n_estimators=4000, n_jobs=-1 ,learning_rate=0.05)"
      ],
      "execution_count": 0,
      "outputs": []
    },
    {
      "cell_type": "code",
      "metadata": {
        "id": "OexQATAnLuYf",
        "colab_type": "code",
        "outputId": "69d3691b-e6a2-4ed5-c602-44135669d622",
        "colab": {
          "base_uri": "https://localhost:8080/",
          "height": 121
        }
      },
      "source": [
        "xg_model.fit(xgtrain,target)"
      ],
      "execution_count": 0,
      "outputs": [
        {
          "output_type": "execute_result",
          "data": {
            "text/plain": [
              "XGBRegressor(base_score=0.5, booster='gbtree', colsample_bylevel=1,\n",
              "       colsample_bytree=1, gamma=0, learning_rate=0.05, max_delta_step=0,\n",
              "       max_depth=5, min_child_weight=1, missing=None, n_estimators=400,\n",
              "       n_jobs=1, nthread=None, objective='reg:linear', random_state=0,\n",
              "       reg_alpha=0, reg_lambda=1, scale_pos_weight=1, seed=None,\n",
              "       silent=True, subsample=1)"
            ]
          },
          "metadata": {
            "tags": []
          },
          "execution_count": 232
        }
      ]
    },
    {
      "cell_type": "code",
      "metadata": {
        "id": "xJL_vUzUJzz2",
        "colab_type": "code",
        "colab": {}
      },
      "source": [
        "predictionsxgb=xg_model.predict(xgtest)"
      ],
      "execution_count": 0,
      "outputs": []
    },
    {
      "cell_type": "code",
      "metadata": {
        "id": "HJUIJnlOKDA_",
        "colab_type": "code",
        "outputId": "7832d42c-33bf-4b02-b8c9-27ae1c80e3ff",
        "colab": {
          "base_uri": "https://localhost:8080/",
          "height": 34
        }
      },
      "source": [
        "predictionsxgb.shape"
      ],
      "execution_count": 0,
      "outputs": [
        {
          "output_type": "execute_result",
          "data": {
            "text/plain": [
              "(1111,)"
            ]
          },
          "metadata": {
            "tags": []
          },
          "execution_count": 234
        }
      ]
    },
    {
      "cell_type": "code",
      "metadata": {
        "id": "RlKY1FfPKHhd",
        "colab_type": "code",
        "colab": {}
      },
      "source": [
        "submission={'ride_id':test[\"ride_id\"],'number_of_ticket': predictionsxgb}\n",
        "df_predictions= pd.DataFrame(data=submission)\n",
        "df_predictions= df_predictions[['ride_id','number_of_ticket']]"
      ],
      "execution_count": 0,
      "outputs": []
    },
    {
      "cell_type": "code",
      "metadata": {
        "id": "UsP0z4hPKNDo",
        "colab_type": "code",
        "colab": {}
      },
      "source": [
        "df_predictions.to_csv('xgboost.csv',index=False)"
      ],
      "execution_count": 0,
      "outputs": []
    },
    {
      "cell_type": "code",
      "metadata": {
        "id": "5E28JzHYKRzK",
        "colab_type": "code",
        "outputId": "6bf4372f-14df-4bde-ab30-fdb9216f7504",
        "colab": {
          "base_uri": "https://localhost:8080/",
          "height": 202
        }
      },
      "source": [
        "df_predictions.head()"
      ],
      "execution_count": 0,
      "outputs": [
        {
          "output_type": "execute_result",
          "data": {
            "text/html": [
              "<div>\n",
              "<style scoped>\n",
              "    .dataframe tbody tr th:only-of-type {\n",
              "        vertical-align: middle;\n",
              "    }\n",
              "\n",
              "    .dataframe tbody tr th {\n",
              "        vertical-align: top;\n",
              "    }\n",
              "\n",
              "    .dataframe thead th {\n",
              "        text-align: right;\n",
              "    }\n",
              "</style>\n",
              "<table border=\"1\" class=\"dataframe\">\n",
              "  <thead>\n",
              "    <tr style=\"text-align: right;\">\n",
              "      <th></th>\n",
              "      <th>ride_id</th>\n",
              "      <th>number_of_ticket</th>\n",
              "    </tr>\n",
              "  </thead>\n",
              "  <tbody>\n",
              "    <tr>\n",
              "      <th>0</th>\n",
              "      <td>247</td>\n",
              "      <td>-2.412837</td>\n",
              "    </tr>\n",
              "    <tr>\n",
              "      <th>1</th>\n",
              "      <td>256</td>\n",
              "      <td>-5.990525</td>\n",
              "    </tr>\n",
              "    <tr>\n",
              "      <th>2</th>\n",
              "      <td>275</td>\n",
              "      <td>-3.510873</td>\n",
              "    </tr>\n",
              "    <tr>\n",
              "      <th>3</th>\n",
              "      <td>285</td>\n",
              "      <td>-4.530958</td>\n",
              "    </tr>\n",
              "    <tr>\n",
              "      <th>4</th>\n",
              "      <td>286</td>\n",
              "      <td>-4.530958</td>\n",
              "    </tr>\n",
              "  </tbody>\n",
              "</table>\n",
              "</div>"
            ],
            "text/plain": [
              "   ride_id  number_of_ticket\n",
              "0      247         -2.412837\n",
              "1      256         -5.990525\n",
              "2      275         -3.510873\n",
              "3      285         -4.530958\n",
              "4      286         -4.530958"
            ]
          },
          "metadata": {
            "tags": []
          },
          "execution_count": 237
        }
      ]
    },
    {
      "cell_type": "code",
      "metadata": {
        "id": "vIJ1X0O4E_0w",
        "colab_type": "code",
        "colab": {}
      },
      "source": [
        "lg = lgb.LGBMRegressor()\n"
      ],
      "execution_count": 0,
      "outputs": []
    },
    {
      "cell_type": "code",
      "metadata": {
        "id": "hVfyoG08FIs9",
        "colab_type": "code",
        "colab": {}
      },
      "source": [
        "param_dist = {\"max_depth\": [5,10,25,50, 75],\n",
        "              \"learning_rate\" : [0.01,0.05,0.1],\n",
        "              \"num_leaves\": [300,900,1200],\n",
        "              \"n_estimators\": [200]\n",
        "             }"
      ],
      "execution_count": 0,
      "outputs": []
    },
    {
      "cell_type": "code",
      "metadata": {
        "id": "ya_ZXKlsFe1X",
        "colab_type": "code",
        "outputId": "5b41eb69-cea9-4161-89b4-a4b0ce8726e3",
        "colab": {
          "base_uri": "https://localhost:8080/",
          "height": 316
        }
      },
      "source": [
        "grid_search = GridSearchCV(lg, n_jobs=-1, param_grid=param_dist, cv = 3,verbose=5)\n",
        "grid_search.fit(traindata,target)"
      ],
      "execution_count": 0,
      "outputs": [
        {
          "output_type": "stream",
          "text": [
            "Fitting 3 folds for each of 45 candidates, totalling 135 fits\n"
          ],
          "name": "stdout"
        },
        {
          "output_type": "stream",
          "text": [
            "[Parallel(n_jobs=-1)]: Using backend LokyBackend with 2 concurrent workers.\n",
            "[Parallel(n_jobs=-1)]: Done  14 tasks      | elapsed:    9.2s\n",
            "[Parallel(n_jobs=-1)]: Done  68 tasks      | elapsed:  1.2min\n",
            "[Parallel(n_jobs=-1)]: Done 135 out of 135 | elapsed:  2.6min finished\n"
          ],
          "name": "stderr"
        },
        {
          "output_type": "execute_result",
          "data": {
            "text/plain": [
              "GridSearchCV(cv=3, error_score='raise-deprecating',\n",
              "       estimator=LGBMRegressor(boosting_type='gbdt', class_weight=None, colsample_bytree=1.0,\n",
              "       importance_type='split', learning_rate=0.1, max_depth=-1,\n",
              "       min_child_samples=20, min_child_weight=0.001, min_split_gain=0.0,\n",
              "       n_estimators=100, n_jobs=-1, num_leaves=31, objective=None,\n",
              "       random_state=None, reg_alpha=0.0, reg_lambda=0.0, silent=True,\n",
              "       subsample=1.0, subsample_for_bin=200000, subsample_freq=0),\n",
              "       fit_params=None, iid='warn', n_jobs=-1,\n",
              "       param_grid={'max_depth': [5, 10, 25, 50, 75], 'learning_rate': [0.01, 0.05, 0.1], 'num_leaves': [300, 900, 1200], 'n_estimators': [200]},\n",
              "       pre_dispatch='2*n_jobs', refit=True, return_train_score='warn',\n",
              "       scoring=None, verbose=5)"
            ]
          },
          "metadata": {
            "tags": []
          },
          "execution_count": 269
        }
      ]
    },
    {
      "cell_type": "code",
      "metadata": {
        "id": "8jOp-fkzFxnE",
        "colab_type": "code",
        "outputId": "3037cc27-e1d8-4391-bf0f-5c2336ab5499",
        "colab": {
          "base_uri": "https://localhost:8080/",
          "height": 129
        }
      },
      "source": [
        "grid_search.best_estimator_"
      ],
      "execution_count": 0,
      "outputs": [
        {
          "output_type": "execute_result",
          "data": {
            "text/plain": [
              "LGBMRegressor(boosting_type='gbdt', class_weight=None, colsample_bytree=1.0,\n",
              "       importance_type='split', learning_rate=0.01, max_depth=10,\n",
              "       min_child_samples=20, min_child_weight=0.001, min_split_gain=0.0,\n",
              "       n_estimators=200, n_jobs=-1, num_leaves=300, objective=None,\n",
              "       random_state=None, reg_alpha=0.0, reg_lambda=0.0, silent=True,\n",
              "       subsample=1.0, subsample_for_bin=200000, subsample_freq=0)"
            ]
          },
          "metadata": {
            "tags": []
          },
          "execution_count": 273
        }
      ]
    },
    {
      "cell_type": "code",
      "metadata": {
        "id": "Wjjz1LdoF4SL",
        "colab_type": "code",
        "colab": {}
      },
      "source": [
        "d_train = lgb.Dataset(traindata, label=target)\n"
      ],
      "execution_count": 0,
      "outputs": []
    },
    {
      "cell_type": "code",
      "metadata": {
        "id": "Tv015VjFG9EZ",
        "colab_type": "code",
        "colab": {}
      },
      "source": [
        "params = {\"max_depth\": 10, \"learning_rate\" : 0.01, \"num_leaves\": 300,  \"n_estimators\": 200}"
      ],
      "execution_count": 0,
      "outputs": []
    },
    {
      "cell_type": "code",
      "metadata": {
        "id": "RlpPiOxPGya6",
        "colab_type": "code",
        "outputId": "e57445b3-5e62-4251-84a4-60ce9379da4b",
        "colab": {
          "base_uri": "https://localhost:8080/",
          "height": 54
        }
      },
      "source": [
        "model2=lgb.train(params, d_train)"
      ],
      "execution_count": 0,
      "outputs": [
        {
          "output_type": "stream",
          "text": [
            "/usr/local/lib/python3.6/dist-packages/lightgbm/engine.py:116: UserWarning: Found `n_estimators` in params. Will use it instead of argument\n",
            "  warnings.warn(\"Found `{}` in params. Will use it instead of argument\".format(alias))\n"
          ],
          "name": "stderr"
        }
      ]
    },
    {
      "cell_type": "code",
      "metadata": {
        "id": "6cBCv8BCHZip",
        "colab_type": "code",
        "colab": {}
      },
      "source": [
        "predictions2=model2.predict(testdata)"
      ],
      "execution_count": 0,
      "outputs": []
    },
    {
      "cell_type": "code",
      "metadata": {
        "id": "9je7PtAdHect",
        "colab_type": "code",
        "outputId": "43605168-bc43-4bcc-c78a-cb66437d2462",
        "colab": {
          "base_uri": "https://localhost:8080/",
          "height": 36
        }
      },
      "source": [
        "predictions2.shape"
      ],
      "execution_count": 0,
      "outputs": [
        {
          "output_type": "execute_result",
          "data": {
            "text/plain": [
              "(1111,)"
            ]
          },
          "metadata": {
            "tags": []
          },
          "execution_count": 282
        }
      ]
    },
    {
      "cell_type": "code",
      "metadata": {
        "id": "rkja7P_RHnmF",
        "colab_type": "code",
        "colab": {}
      },
      "source": [
        "submission={'ride_id':test[\"ride_id\"],'number_of_ticket': predictions2}\n",
        "df_predictions= pd.DataFrame(data=submission)\n",
        "df_predictions= df_predictions[['ride_id','number_of_ticket']]"
      ],
      "execution_count": 0,
      "outputs": []
    },
    {
      "cell_type": "code",
      "metadata": {
        "id": "jtA8sZVOHxI3",
        "colab_type": "code",
        "colab": {}
      },
      "source": [
        "df_predictions.to_csv('lightgbm.csv',index=False)"
      ],
      "execution_count": 0,
      "outputs": []
    },
    {
      "cell_type": "code",
      "metadata": {
        "id": "XDZPfdGyH2WY",
        "colab_type": "code",
        "outputId": "e01ce2df-05fa-42e8-d1ae-65dba0fb57f1",
        "colab": {
          "base_uri": "https://localhost:8080/",
          "height": 202
        }
      },
      "source": [
        "df_predictions.head()"
      ],
      "execution_count": 0,
      "outputs": [
        {
          "output_type": "execute_result",
          "data": {
            "text/html": [
              "<div>\n",
              "<style scoped>\n",
              "    .dataframe tbody tr th:only-of-type {\n",
              "        vertical-align: middle;\n",
              "    }\n",
              "\n",
              "    .dataframe tbody tr th {\n",
              "        vertical-align: top;\n",
              "    }\n",
              "\n",
              "    .dataframe thead th {\n",
              "        text-align: right;\n",
              "    }\n",
              "</style>\n",
              "<table border=\"1\" class=\"dataframe\">\n",
              "  <thead>\n",
              "    <tr style=\"text-align: right;\">\n",
              "      <th></th>\n",
              "      <th>ride_id</th>\n",
              "      <th>number_of_ticket</th>\n",
              "    </tr>\n",
              "  </thead>\n",
              "  <tbody>\n",
              "    <tr>\n",
              "      <th>0</th>\n",
              "      <td>247</td>\n",
              "      <td>8.608443</td>\n",
              "    </tr>\n",
              "    <tr>\n",
              "      <th>1</th>\n",
              "      <td>256</td>\n",
              "      <td>8.097491</td>\n",
              "    </tr>\n",
              "    <tr>\n",
              "      <th>2</th>\n",
              "      <td>275</td>\n",
              "      <td>3.099544</td>\n",
              "    </tr>\n",
              "    <tr>\n",
              "      <th>3</th>\n",
              "      <td>285</td>\n",
              "      <td>8.280606</td>\n",
              "    </tr>\n",
              "    <tr>\n",
              "      <th>4</th>\n",
              "      <td>286</td>\n",
              "      <td>8.280606</td>\n",
              "    </tr>\n",
              "  </tbody>\n",
              "</table>\n",
              "</div>"
            ],
            "text/plain": [
              "   ride_id  number_of_ticket\n",
              "0      247          8.608443\n",
              "1      256          8.097491\n",
              "2      275          3.099544\n",
              "3      285          8.280606\n",
              "4      286          8.280606"
            ]
          },
          "metadata": {
            "tags": []
          },
          "execution_count": 285
        }
      ]
    },
    {
      "cell_type": "code",
      "metadata": {
        "id": "T22sp362H4Om",
        "colab_type": "code",
        "colab": {}
      },
      "source": [
        ""
      ],
      "execution_count": 0,
      "outputs": []
    }
  ]
}