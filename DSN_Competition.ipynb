{
  "nbformat": 4,
  "nbformat_minor": 0,
  "metadata": {
    "colab": {
      "name": "DSN_Competition.ipynb",
      "provenance": [],
      "collapsed_sections": [
        "MQKR9ViCSWxe",
        "mRsKjJpTSWxq",
        "fBxckeBdPnpn",
        "ojXoeP6qJ_3z",
        "BvW901JZPnqu",
        "Bb76YA2RPnqw",
        "VhkLaW48PnsV",
        "KByLi5_d94pj",
        "B_6j-Gum3ZNR",
        "Y6TgMZVH3iTl"
      ],
      "toc_visible": true
    },
    "kernelspec": {
      "display_name": "Python 3",
      "language": "python",
      "name": "python3"
    },
    "accelerator": "TPU"
  },
  "cells": [
    {
      "cell_type": "code",
      "metadata": {
        "id": "08eb9Oh1Pnm2",
        "colab_type": "code",
        "outputId": "bac15cc0-0116-457b-b2cf-257851b5a78c",
        "colab": {}
      },
      "source": [
        "!ls"
      ],
      "execution_count": 0,
      "outputs": [
        {
          "output_type": "stream",
          "text": [
            " DSN_Competition.ipynb\t     testdemographics.csv   traindemographics.csv\r\n",
            "'SampleSubmission (1).csv'   testperf.csv\t    trainperf.csv\r\n",
            " submission10.csv\t     testprevloans.csv\t    trainprevloans.csv\r\n",
            " Test.csv\t\t     Train.csv\r\n"
          ],
          "name": "stdout"
        }
      ]
    },
    {
      "cell_type": "code",
      "metadata": {
        "colab_type": "code",
        "id": "VEeGyNuKSWwV",
        "colab": {}
      },
      "source": [
        "import pandas as pd\n",
        "\n",
        "SampleSub = pd.read_csv('SampleSubmission (1).csv')\n",
        "TrainPerf = pd.read_csv('trainperf.csv')\n",
        "TestPerf = pd.read_csv('testperf.csv')\n",
        "TrainPrev = pd.read_csv('trainprevloans.csv')\n",
        "TestPrev = pd.read_csv('testprevloans.csv')\n",
        "TrainDemographics = pd.read_csv('traindemographics.csv')\n",
        "TestDemographics = pd.read_csv('testdemographics.csv')"
      ],
      "execution_count": 0,
      "outputs": []
    },
    {
      "cell_type": "markdown",
      "metadata": {
        "id": "ZA3Cakg1PnnI",
        "colab_type": "text"
      },
      "source": [
        "## Join train and test for Customer Demographics, Previous Loans and Performance"
      ]
    },
    {
      "cell_type": "code",
      "metadata": {
        "colab_type": "code",
        "id": "2A2tXX7dSWwa",
        "outputId": "8842ea87-652d-4356-ea7d-23b3f616589c",
        "colab": {}
      },
      "source": [
        "Tperformance = pd.concat([TrainPerf, TestPerf]) # We can seperate them later, using the good_bad_flag\n",
        "# Creating a column to make seperation easier\n",
        "TrainDemographics['sep'] = 'Train'\n",
        "TestDemographics['sep'] = 'Test'\n",
        "Tdemographics = pd.concat([TrainDemographics,TestDemographics])\n",
        "# Creating a column to make seperation easier\n",
        "TrainPrev['sep'] = 'Train'\n",
        "TestPrev['sep'] = 'Test'\n",
        "Tprev = pd.concat([TrainPrev,TestPrev])"
      ],
      "execution_count": 0,
      "outputs": [
        {
          "output_type": "stream",
          "text": [
            "/home/stanley/anaconda3/lib/python3.6/site-packages/ipykernel_launcher.py:1: FutureWarning: Sorting because non-concatenation axis is not aligned. A future version\n",
            "of pandas will change to not sort by default.\n",
            "\n",
            "To accept the future behavior, pass 'sort=True'.\n",
            "\n",
            "To retain the current behavior and silence the warning, pass sort=False\n",
            "\n",
            "  \"\"\"Entry point for launching an IPython kernel.\n"
          ],
          "name": "stderr"
        }
      ]
    },
    {
      "cell_type": "markdown",
      "metadata": {
        "colab_type": "text",
        "id": "4FjDfJiT3ynX"
      },
      "source": [
        "## Previous Loans"
      ]
    },
    {
      "cell_type": "code",
      "metadata": {
        "colab_type": "code",
        "id": "1QIcG_QP56xP",
        "outputId": "c49e970e-311d-484b-b90d-21ebbe84cf3c",
        "colab": {
          "base_uri": "https://localhost:8080/",
          "height": 309
        }
      },
      "source": [
        "Tprev.head()"
      ],
      "execution_count": 0,
      "outputs": [
        {
          "output_type": "execute_result",
          "data": {
            "text/html": [
              "<div>\n",
              "<style scoped>\n",
              "    .dataframe tbody tr th:only-of-type {\n",
              "        vertical-align: middle;\n",
              "    }\n",
              "\n",
              "    .dataframe tbody tr th {\n",
              "        vertical-align: top;\n",
              "    }\n",
              "\n",
              "    .dataframe thead th {\n",
              "        text-align: right;\n",
              "    }\n",
              "</style>\n",
              "<table border=\"1\" class=\"dataframe\">\n",
              "  <thead>\n",
              "    <tr style=\"text-align: right;\">\n",
              "      <th></th>\n",
              "      <th>customerid</th>\n",
              "      <th>systemloanid</th>\n",
              "      <th>loannumber</th>\n",
              "      <th>approveddate</th>\n",
              "      <th>creationdate</th>\n",
              "      <th>loanamount</th>\n",
              "      <th>totaldue</th>\n",
              "      <th>termdays</th>\n",
              "      <th>closeddate</th>\n",
              "      <th>referredby</th>\n",
              "      <th>firstduedate</th>\n",
              "      <th>firstrepaiddate</th>\n",
              "      <th>sep</th>\n",
              "    </tr>\n",
              "  </thead>\n",
              "  <tbody>\n",
              "    <tr>\n",
              "      <th>0</th>\n",
              "      <td>8a2a81a74ce8c05d014cfb32a0da1049</td>\n",
              "      <td>301682320</td>\n",
              "      <td>2</td>\n",
              "      <td>2016-08-15 18:22:40.000000</td>\n",
              "      <td>2016-08-15 17:22:32.000000</td>\n",
              "      <td>10000.0</td>\n",
              "      <td>13000.0</td>\n",
              "      <td>30</td>\n",
              "      <td>2016-09-01 16:06:48.000000</td>\n",
              "      <td>NaN</td>\n",
              "      <td>2016-09-14 00:00:00.000000</td>\n",
              "      <td>2016-09-01 15:51:43.000000</td>\n",
              "      <td>Train</td>\n",
              "    </tr>\n",
              "    <tr>\n",
              "      <th>1</th>\n",
              "      <td>8a2a81a74ce8c05d014cfb32a0da1049</td>\n",
              "      <td>301883808</td>\n",
              "      <td>9</td>\n",
              "      <td>2017-04-28 18:39:07.000000</td>\n",
              "      <td>2017-04-28 17:38:53.000000</td>\n",
              "      <td>10000.0</td>\n",
              "      <td>13000.0</td>\n",
              "      <td>30</td>\n",
              "      <td>2017-05-28 14:44:49.000000</td>\n",
              "      <td>NaN</td>\n",
              "      <td>2017-05-30 00:00:00.000000</td>\n",
              "      <td>2017-05-26 00:00:00.000000</td>\n",
              "      <td>Train</td>\n",
              "    </tr>\n",
              "    <tr>\n",
              "      <th>2</th>\n",
              "      <td>8a2a81a74ce8c05d014cfb32a0da1049</td>\n",
              "      <td>301831714</td>\n",
              "      <td>8</td>\n",
              "      <td>2017-03-05 10:56:25.000000</td>\n",
              "      <td>2017-03-05 09:56:19.000000</td>\n",
              "      <td>20000.0</td>\n",
              "      <td>23800.0</td>\n",
              "      <td>30</td>\n",
              "      <td>2017-04-26 22:18:56.000000</td>\n",
              "      <td>NaN</td>\n",
              "      <td>2017-04-04 00:00:00.000000</td>\n",
              "      <td>2017-04-26 22:03:47.000000</td>\n",
              "      <td>Train</td>\n",
              "    </tr>\n",
              "    <tr>\n",
              "      <th>3</th>\n",
              "      <td>8a8588f35438fe12015444567666018e</td>\n",
              "      <td>301861541</td>\n",
              "      <td>5</td>\n",
              "      <td>2017-04-09 18:25:55.000000</td>\n",
              "      <td>2017-04-09 17:25:42.000000</td>\n",
              "      <td>10000.0</td>\n",
              "      <td>11500.0</td>\n",
              "      <td>15</td>\n",
              "      <td>2017-04-24 01:35:52.000000</td>\n",
              "      <td>NaN</td>\n",
              "      <td>2017-04-24 00:00:00.000000</td>\n",
              "      <td>2017-04-24 00:48:43.000000</td>\n",
              "      <td>Train</td>\n",
              "    </tr>\n",
              "    <tr>\n",
              "      <th>4</th>\n",
              "      <td>8a85890754145ace015429211b513e16</td>\n",
              "      <td>301941754</td>\n",
              "      <td>2</td>\n",
              "      <td>2017-06-17 09:29:57.000000</td>\n",
              "      <td>2017-06-17 08:29:50.000000</td>\n",
              "      <td>10000.0</td>\n",
              "      <td>11500.0</td>\n",
              "      <td>15</td>\n",
              "      <td>2017-07-14 21:18:43.000000</td>\n",
              "      <td>NaN</td>\n",
              "      <td>2017-07-03 00:00:00.000000</td>\n",
              "      <td>2017-07-14 21:08:35.000000</td>\n",
              "      <td>Train</td>\n",
              "    </tr>\n",
              "  </tbody>\n",
              "</table>\n",
              "</div>"
            ],
            "text/plain": [
              "                         customerid  systemloanid  loannumber  \\\n",
              "0  8a2a81a74ce8c05d014cfb32a0da1049     301682320           2   \n",
              "1  8a2a81a74ce8c05d014cfb32a0da1049     301883808           9   \n",
              "2  8a2a81a74ce8c05d014cfb32a0da1049     301831714           8   \n",
              "3  8a8588f35438fe12015444567666018e     301861541           5   \n",
              "4  8a85890754145ace015429211b513e16     301941754           2   \n",
              "\n",
              "                 approveddate                creationdate  loanamount  \\\n",
              "0  2016-08-15 18:22:40.000000  2016-08-15 17:22:32.000000     10000.0   \n",
              "1  2017-04-28 18:39:07.000000  2017-04-28 17:38:53.000000     10000.0   \n",
              "2  2017-03-05 10:56:25.000000  2017-03-05 09:56:19.000000     20000.0   \n",
              "3  2017-04-09 18:25:55.000000  2017-04-09 17:25:42.000000     10000.0   \n",
              "4  2017-06-17 09:29:57.000000  2017-06-17 08:29:50.000000     10000.0   \n",
              "\n",
              "   totaldue  termdays                  closeddate referredby  \\\n",
              "0   13000.0        30  2016-09-01 16:06:48.000000        NaN   \n",
              "1   13000.0        30  2017-05-28 14:44:49.000000        NaN   \n",
              "2   23800.0        30  2017-04-26 22:18:56.000000        NaN   \n",
              "3   11500.0        15  2017-04-24 01:35:52.000000        NaN   \n",
              "4   11500.0        15  2017-07-14 21:18:43.000000        NaN   \n",
              "\n",
              "                 firstduedate             firstrepaiddate    sep  \n",
              "0  2016-09-14 00:00:00.000000  2016-09-01 15:51:43.000000  Train  \n",
              "1  2017-05-30 00:00:00.000000  2017-05-26 00:00:00.000000  Train  \n",
              "2  2017-04-04 00:00:00.000000  2017-04-26 22:03:47.000000  Train  \n",
              "3  2017-04-24 00:00:00.000000  2017-04-24 00:48:43.000000  Train  \n",
              "4  2017-07-03 00:00:00.000000  2017-07-14 21:08:35.000000  Train  "
            ]
          },
          "metadata": {
            "tags": []
          },
          "execution_count": 5
        }
      ]
    },
    {
      "cell_type": "markdown",
      "metadata": {
        "colab_type": "text",
        "id": "3LXvb281SWwh"
      },
      "source": [
        "### Picking out TotalProfit features "
      ]
    },
    {
      "cell_type": "code",
      "metadata": {
        "colab_type": "code",
        "id": "nxaO9CDDSWwj",
        "outputId": "fcf2dd3b-e240-401d-d798-e5f1612ad2fc",
        "colab": {}
      },
      "source": [
        "# First, we get the profit for each loans in the record\n",
        "Tprev['TotalProfit']=Tprev.totaldue-Tprev.loanamount\n",
        "Tprev.head()"
      ],
      "execution_count": 0,
      "outputs": [
        {
          "output_type": "execute_result",
          "data": {
            "text/html": [
              "<div>\n",
              "<style scoped>\n",
              "    .dataframe tbody tr th:only-of-type {\n",
              "        vertical-align: middle;\n",
              "    }\n",
              "\n",
              "    .dataframe tbody tr th {\n",
              "        vertical-align: top;\n",
              "    }\n",
              "\n",
              "    .dataframe thead th {\n",
              "        text-align: right;\n",
              "    }\n",
              "</style>\n",
              "<table border=\"1\" class=\"dataframe\">\n",
              "  <thead>\n",
              "    <tr style=\"text-align: right;\">\n",
              "      <th></th>\n",
              "      <th>customerid</th>\n",
              "      <th>systemloanid</th>\n",
              "      <th>loannumber</th>\n",
              "      <th>approveddate</th>\n",
              "      <th>creationdate</th>\n",
              "      <th>loanamount</th>\n",
              "      <th>totaldue</th>\n",
              "      <th>termdays</th>\n",
              "      <th>closeddate</th>\n",
              "      <th>referredby</th>\n",
              "      <th>firstduedate</th>\n",
              "      <th>firstrepaiddate</th>\n",
              "      <th>sep</th>\n",
              "      <th>TotalProfit</th>\n",
              "    </tr>\n",
              "  </thead>\n",
              "  <tbody>\n",
              "    <tr>\n",
              "      <th>0</th>\n",
              "      <td>8a2a81a74ce8c05d014cfb32a0da1049</td>\n",
              "      <td>301682320</td>\n",
              "      <td>2</td>\n",
              "      <td>2016-08-15 18:22:40.000000</td>\n",
              "      <td>2016-08-15 17:22:32.000000</td>\n",
              "      <td>10000.0</td>\n",
              "      <td>13000.0</td>\n",
              "      <td>30</td>\n",
              "      <td>2016-09-01 16:06:48.000000</td>\n",
              "      <td>NaN</td>\n",
              "      <td>2016-09-14 00:00:00.000000</td>\n",
              "      <td>2016-09-01 15:51:43.000000</td>\n",
              "      <td>Train</td>\n",
              "      <td>3000.0</td>\n",
              "    </tr>\n",
              "    <tr>\n",
              "      <th>1</th>\n",
              "      <td>8a2a81a74ce8c05d014cfb32a0da1049</td>\n",
              "      <td>301883808</td>\n",
              "      <td>9</td>\n",
              "      <td>2017-04-28 18:39:07.000000</td>\n",
              "      <td>2017-04-28 17:38:53.000000</td>\n",
              "      <td>10000.0</td>\n",
              "      <td>13000.0</td>\n",
              "      <td>30</td>\n",
              "      <td>2017-05-28 14:44:49.000000</td>\n",
              "      <td>NaN</td>\n",
              "      <td>2017-05-30 00:00:00.000000</td>\n",
              "      <td>2017-05-26 00:00:00.000000</td>\n",
              "      <td>Train</td>\n",
              "      <td>3000.0</td>\n",
              "    </tr>\n",
              "    <tr>\n",
              "      <th>2</th>\n",
              "      <td>8a2a81a74ce8c05d014cfb32a0da1049</td>\n",
              "      <td>301831714</td>\n",
              "      <td>8</td>\n",
              "      <td>2017-03-05 10:56:25.000000</td>\n",
              "      <td>2017-03-05 09:56:19.000000</td>\n",
              "      <td>20000.0</td>\n",
              "      <td>23800.0</td>\n",
              "      <td>30</td>\n",
              "      <td>2017-04-26 22:18:56.000000</td>\n",
              "      <td>NaN</td>\n",
              "      <td>2017-04-04 00:00:00.000000</td>\n",
              "      <td>2017-04-26 22:03:47.000000</td>\n",
              "      <td>Train</td>\n",
              "      <td>3800.0</td>\n",
              "    </tr>\n",
              "    <tr>\n",
              "      <th>3</th>\n",
              "      <td>8a8588f35438fe12015444567666018e</td>\n",
              "      <td>301861541</td>\n",
              "      <td>5</td>\n",
              "      <td>2017-04-09 18:25:55.000000</td>\n",
              "      <td>2017-04-09 17:25:42.000000</td>\n",
              "      <td>10000.0</td>\n",
              "      <td>11500.0</td>\n",
              "      <td>15</td>\n",
              "      <td>2017-04-24 01:35:52.000000</td>\n",
              "      <td>NaN</td>\n",
              "      <td>2017-04-24 00:00:00.000000</td>\n",
              "      <td>2017-04-24 00:48:43.000000</td>\n",
              "      <td>Train</td>\n",
              "      <td>1500.0</td>\n",
              "    </tr>\n",
              "    <tr>\n",
              "      <th>4</th>\n",
              "      <td>8a85890754145ace015429211b513e16</td>\n",
              "      <td>301941754</td>\n",
              "      <td>2</td>\n",
              "      <td>2017-06-17 09:29:57.000000</td>\n",
              "      <td>2017-06-17 08:29:50.000000</td>\n",
              "      <td>10000.0</td>\n",
              "      <td>11500.0</td>\n",
              "      <td>15</td>\n",
              "      <td>2017-07-14 21:18:43.000000</td>\n",
              "      <td>NaN</td>\n",
              "      <td>2017-07-03 00:00:00.000000</td>\n",
              "      <td>2017-07-14 21:08:35.000000</td>\n",
              "      <td>Train</td>\n",
              "      <td>1500.0</td>\n",
              "    </tr>\n",
              "  </tbody>\n",
              "</table>\n",
              "</div>"
            ],
            "text/plain": [
              "                         customerid  systemloanid  loannumber  \\\n",
              "0  8a2a81a74ce8c05d014cfb32a0da1049     301682320           2   \n",
              "1  8a2a81a74ce8c05d014cfb32a0da1049     301883808           9   \n",
              "2  8a2a81a74ce8c05d014cfb32a0da1049     301831714           8   \n",
              "3  8a8588f35438fe12015444567666018e     301861541           5   \n",
              "4  8a85890754145ace015429211b513e16     301941754           2   \n",
              "\n",
              "                 approveddate                creationdate  loanamount  \\\n",
              "0  2016-08-15 18:22:40.000000  2016-08-15 17:22:32.000000     10000.0   \n",
              "1  2017-04-28 18:39:07.000000  2017-04-28 17:38:53.000000     10000.0   \n",
              "2  2017-03-05 10:56:25.000000  2017-03-05 09:56:19.000000     20000.0   \n",
              "3  2017-04-09 18:25:55.000000  2017-04-09 17:25:42.000000     10000.0   \n",
              "4  2017-06-17 09:29:57.000000  2017-06-17 08:29:50.000000     10000.0   \n",
              "\n",
              "   totaldue  termdays                  closeddate referredby  \\\n",
              "0   13000.0        30  2016-09-01 16:06:48.000000        NaN   \n",
              "1   13000.0        30  2017-05-28 14:44:49.000000        NaN   \n",
              "2   23800.0        30  2017-04-26 22:18:56.000000        NaN   \n",
              "3   11500.0        15  2017-04-24 01:35:52.000000        NaN   \n",
              "4   11500.0        15  2017-07-14 21:18:43.000000        NaN   \n",
              "\n",
              "                 firstduedate             firstrepaiddate    sep  TotalProfit  \n",
              "0  2016-09-14 00:00:00.000000  2016-09-01 15:51:43.000000  Train       3000.0  \n",
              "1  2017-05-30 00:00:00.000000  2017-05-26 00:00:00.000000  Train       3000.0  \n",
              "2  2017-04-04 00:00:00.000000  2017-04-26 22:03:47.000000  Train       3800.0  \n",
              "3  2017-04-24 00:00:00.000000  2017-04-24 00:48:43.000000  Train       1500.0  \n",
              "4  2017-07-03 00:00:00.000000  2017-07-14 21:08:35.000000  Train       1500.0  "
            ]
          },
          "metadata": {
            "tags": []
          },
          "execution_count": 6
        }
      ]
    },
    {
      "cell_type": "code",
      "metadata": {
        "colab_type": "code",
        "id": "cfNmvW2sSWwm",
        "colab": {}
      },
      "source": [
        "# Then we get the total profit the bank makes on each customer, based on their id\n",
        "for i in Tprev.customerid.unique():\n",
        "    mask= Tprev.customerid==i\n",
        "    summation=sum(Tprev.loc[mask,'TotalProfit'])\n",
        "    Tprev.loc[mask,'TotalProfit']=summation"
      ],
      "execution_count": 0,
      "outputs": []
    },
    {
      "cell_type": "markdown",
      "metadata": {
        "colab_type": "text",
        "id": "dH15L8osNemZ"
      },
      "source": [
        "### Get total Loan amounts for each customer"
      ]
    },
    {
      "cell_type": "code",
      "metadata": {
        "colab_type": "code",
        "id": "1uudEmI7Nbhq",
        "colab": {}
      },
      "source": [
        "for i in Tprev.customerid.unique():\n",
        "    mask= Tprev.customerid==i\n",
        "    summation=sum(Tprev.loc[mask,'loanamount'])\n",
        "    Tprev.loc[mask,'loanamount']=summation"
      ],
      "execution_count": 0,
      "outputs": []
    },
    {
      "cell_type": "code",
      "metadata": {
        "id": "sBubOJNQPnns",
        "colab_type": "code",
        "outputId": "322f6faa-b485-4cca-9f50-0efcffbce3db",
        "colab": {}
      },
      "source": [
        "Tprev.head()"
      ],
      "execution_count": 0,
      "outputs": [
        {
          "output_type": "execute_result",
          "data": {
            "text/html": [
              "<div>\n",
              "<style scoped>\n",
              "    .dataframe tbody tr th:only-of-type {\n",
              "        vertical-align: middle;\n",
              "    }\n",
              "\n",
              "    .dataframe tbody tr th {\n",
              "        vertical-align: top;\n",
              "    }\n",
              "\n",
              "    .dataframe thead th {\n",
              "        text-align: right;\n",
              "    }\n",
              "</style>\n",
              "<table border=\"1\" class=\"dataframe\">\n",
              "  <thead>\n",
              "    <tr style=\"text-align: right;\">\n",
              "      <th></th>\n",
              "      <th>customerid</th>\n",
              "      <th>systemloanid</th>\n",
              "      <th>loannumber</th>\n",
              "      <th>approveddate</th>\n",
              "      <th>creationdate</th>\n",
              "      <th>loanamount</th>\n",
              "      <th>totaldue</th>\n",
              "      <th>termdays</th>\n",
              "      <th>closeddate</th>\n",
              "      <th>referredby</th>\n",
              "      <th>firstduedate</th>\n",
              "      <th>firstrepaiddate</th>\n",
              "      <th>sep</th>\n",
              "      <th>TotalProfit</th>\n",
              "    </tr>\n",
              "  </thead>\n",
              "  <tbody>\n",
              "    <tr>\n",
              "      <th>0</th>\n",
              "      <td>8a2a81a74ce8c05d014cfb32a0da1049</td>\n",
              "      <td>301682320</td>\n",
              "      <td>2</td>\n",
              "      <td>2016-08-15 18:22:40.000000</td>\n",
              "      <td>2016-08-15 17:22:32.000000</td>\n",
              "      <td>200000.0</td>\n",
              "      <td>13000.0</td>\n",
              "      <td>30</td>\n",
              "      <td>2016-09-01 16:06:48.000000</td>\n",
              "      <td>NaN</td>\n",
              "      <td>2016-09-14 00:00:00.000000</td>\n",
              "      <td>2016-09-01 15:51:43.000000</td>\n",
              "      <td>Train</td>\n",
              "      <td>42900.0</td>\n",
              "    </tr>\n",
              "    <tr>\n",
              "      <th>1</th>\n",
              "      <td>8a2a81a74ce8c05d014cfb32a0da1049</td>\n",
              "      <td>301883808</td>\n",
              "      <td>9</td>\n",
              "      <td>2017-04-28 18:39:07.000000</td>\n",
              "      <td>2017-04-28 17:38:53.000000</td>\n",
              "      <td>200000.0</td>\n",
              "      <td>13000.0</td>\n",
              "      <td>30</td>\n",
              "      <td>2017-05-28 14:44:49.000000</td>\n",
              "      <td>NaN</td>\n",
              "      <td>2017-05-30 00:00:00.000000</td>\n",
              "      <td>2017-05-26 00:00:00.000000</td>\n",
              "      <td>Train</td>\n",
              "      <td>42900.0</td>\n",
              "    </tr>\n",
              "    <tr>\n",
              "      <th>2</th>\n",
              "      <td>8a2a81a74ce8c05d014cfb32a0da1049</td>\n",
              "      <td>301831714</td>\n",
              "      <td>8</td>\n",
              "      <td>2017-03-05 10:56:25.000000</td>\n",
              "      <td>2017-03-05 09:56:19.000000</td>\n",
              "      <td>200000.0</td>\n",
              "      <td>23800.0</td>\n",
              "      <td>30</td>\n",
              "      <td>2017-04-26 22:18:56.000000</td>\n",
              "      <td>NaN</td>\n",
              "      <td>2017-04-04 00:00:00.000000</td>\n",
              "      <td>2017-04-26 22:03:47.000000</td>\n",
              "      <td>Train</td>\n",
              "      <td>42900.0</td>\n",
              "    </tr>\n",
              "    <tr>\n",
              "      <th>3</th>\n",
              "      <td>8a8588f35438fe12015444567666018e</td>\n",
              "      <td>301861541</td>\n",
              "      <td>5</td>\n",
              "      <td>2017-04-09 18:25:55.000000</td>\n",
              "      <td>2017-04-09 17:25:42.000000</td>\n",
              "      <td>60000.0</td>\n",
              "      <td>11500.0</td>\n",
              "      <td>15</td>\n",
              "      <td>2017-04-24 01:35:52.000000</td>\n",
              "      <td>NaN</td>\n",
              "      <td>2017-04-24 00:00:00.000000</td>\n",
              "      <td>2017-04-24 00:48:43.000000</td>\n",
              "      <td>Train</td>\n",
              "      <td>10500.0</td>\n",
              "    </tr>\n",
              "    <tr>\n",
              "      <th>4</th>\n",
              "      <td>8a85890754145ace015429211b513e16</td>\n",
              "      <td>301941754</td>\n",
              "      <td>2</td>\n",
              "      <td>2017-06-17 09:29:57.000000</td>\n",
              "      <td>2017-06-17 08:29:50.000000</td>\n",
              "      <td>20000.0</td>\n",
              "      <td>11500.0</td>\n",
              "      <td>15</td>\n",
              "      <td>2017-07-14 21:18:43.000000</td>\n",
              "      <td>NaN</td>\n",
              "      <td>2017-07-03 00:00:00.000000</td>\n",
              "      <td>2017-07-14 21:08:35.000000</td>\n",
              "      <td>Train</td>\n",
              "      <td>4500.0</td>\n",
              "    </tr>\n",
              "  </tbody>\n",
              "</table>\n",
              "</div>"
            ],
            "text/plain": [
              "                         customerid  systemloanid  loannumber  \\\n",
              "0  8a2a81a74ce8c05d014cfb32a0da1049     301682320           2   \n",
              "1  8a2a81a74ce8c05d014cfb32a0da1049     301883808           9   \n",
              "2  8a2a81a74ce8c05d014cfb32a0da1049     301831714           8   \n",
              "3  8a8588f35438fe12015444567666018e     301861541           5   \n",
              "4  8a85890754145ace015429211b513e16     301941754           2   \n",
              "\n",
              "                 approveddate                creationdate  loanamount  \\\n",
              "0  2016-08-15 18:22:40.000000  2016-08-15 17:22:32.000000    200000.0   \n",
              "1  2017-04-28 18:39:07.000000  2017-04-28 17:38:53.000000    200000.0   \n",
              "2  2017-03-05 10:56:25.000000  2017-03-05 09:56:19.000000    200000.0   \n",
              "3  2017-04-09 18:25:55.000000  2017-04-09 17:25:42.000000     60000.0   \n",
              "4  2017-06-17 09:29:57.000000  2017-06-17 08:29:50.000000     20000.0   \n",
              "\n",
              "   totaldue  termdays                  closeddate referredby  \\\n",
              "0   13000.0        30  2016-09-01 16:06:48.000000        NaN   \n",
              "1   13000.0        30  2017-05-28 14:44:49.000000        NaN   \n",
              "2   23800.0        30  2017-04-26 22:18:56.000000        NaN   \n",
              "3   11500.0        15  2017-04-24 01:35:52.000000        NaN   \n",
              "4   11500.0        15  2017-07-14 21:18:43.000000        NaN   \n",
              "\n",
              "                 firstduedate             firstrepaiddate    sep  TotalProfit  \n",
              "0  2016-09-14 00:00:00.000000  2016-09-01 15:51:43.000000  Train      42900.0  \n",
              "1  2017-05-30 00:00:00.000000  2017-05-26 00:00:00.000000  Train      42900.0  \n",
              "2  2017-04-04 00:00:00.000000  2017-04-26 22:03:47.000000  Train      42900.0  \n",
              "3  2017-04-24 00:00:00.000000  2017-04-24 00:48:43.000000  Train      10500.0  \n",
              "4  2017-07-03 00:00:00.000000  2017-07-14 21:08:35.000000  Train       4500.0  "
            ]
          },
          "metadata": {
            "tags": []
          },
          "execution_count": 9
        }
      ]
    },
    {
      "cell_type": "markdown",
      "metadata": {
        "colab_type": "text",
        "id": "0OLxFpT5SWws"
      },
      "source": [
        "### Picking out no_late_payment, average_payment_days, Most recent payment (Late or Early)"
      ]
    },
    {
      "cell_type": "markdown",
      "metadata": {
        "colab_type": "text",
        "id": "fwAYTz5zSWwu"
      },
      "source": [
        "#### Get each customers most recent payment (Late or Early)"
      ]
    },
    {
      "cell_type": "code",
      "metadata": {
        "colab_type": "code",
        "id": "SPrVygPZSWwu",
        "colab": {}
      },
      "source": [
        "# Sort the previous loans based on their customerid and loannumber, get customerid, approveddate and closeddate, drop duplicate customerids and keep the last\n",
        "Arrangeddate=Tprev.sort_values(by=['customerid','loannumber'])[['customerid','approveddate','closeddate']].drop_duplicates(subset=['customerid'], keep='last')"
      ],
      "execution_count": 0,
      "outputs": []
    },
    {
      "cell_type": "code",
      "metadata": {
        "colab_type": "code",
        "id": "XJgbYHXaSWw1",
        "outputId": "95efe93e-adde-4223-8dd9-370c47b64937",
        "colab": {
          "base_uri": "https://localhost:8080/",
          "height": 260
        }
      },
      "source": [
        "# Get how long the customer took before paying back for the last loan\n",
        "Arrangeddate['Last_pay_interval']=Arrangeddate['closeddate'].astype('datetime64')-Arrangeddate['approveddate'].astype('datetime64')\n",
        "Arrangeddate.head()"
      ],
      "execution_count": 0,
      "outputs": [
        {
          "output_type": "execute_result",
          "data": {
            "text/html": [
              "<div>\n",
              "<style scoped>\n",
              "    .dataframe tbody tr th:only-of-type {\n",
              "        vertical-align: middle;\n",
              "    }\n",
              "\n",
              "    .dataframe tbody tr th {\n",
              "        vertical-align: top;\n",
              "    }\n",
              "\n",
              "    .dataframe thead th {\n",
              "        text-align: right;\n",
              "    }\n",
              "</style>\n",
              "<table border=\"1\" class=\"dataframe\">\n",
              "  <thead>\n",
              "    <tr style=\"text-align: right;\">\n",
              "      <th></th>\n",
              "      <th>customerid</th>\n",
              "      <th>approveddate</th>\n",
              "      <th>closeddate</th>\n",
              "      <th>Last_pay_interval</th>\n",
              "    </tr>\n",
              "  </thead>\n",
              "  <tbody>\n",
              "    <tr>\n",
              "      <th>1893</th>\n",
              "      <td>8a1088a0484472eb01484669e3ce4e0b</td>\n",
              "      <td>2017-07-02 19:19:01.000000</td>\n",
              "      <td>2017-07-24 20:50:43.000000</td>\n",
              "      <td>22 days 01:31:42</td>\n",
              "    </tr>\n",
              "    <tr>\n",
              "      <th>16602</th>\n",
              "      <td>8a1a1e7e4f707f8b014f797718316cad</td>\n",
              "      <td>2017-06-21 22:09:51.000000</td>\n",
              "      <td>2017-07-26 19:48:11.000000</td>\n",
              "      <td>34 days 21:38:20</td>\n",
              "    </tr>\n",
              "    <tr>\n",
              "      <th>12199</th>\n",
              "      <td>8a1a32fc49b632520149c3b8fdf85139</td>\n",
              "      <td>2017-06-13 11:02:36.000000</td>\n",
              "      <td>2017-07-13 18:45:26.000000</td>\n",
              "      <td>30 days 07:42:50</td>\n",
              "    </tr>\n",
              "    <tr>\n",
              "      <th>6990</th>\n",
              "      <td>8a1eb5ba49a682300149c3c068b806c7</td>\n",
              "      <td>2017-05-23 08:25:46.000000</td>\n",
              "      <td>2017-07-12 13:02:44.000000</td>\n",
              "      <td>50 days 04:36:58</td>\n",
              "    </tr>\n",
              "    <tr>\n",
              "      <th>10637</th>\n",
              "      <td>8a1edbf14734127f0147356fdb1b1eb2</td>\n",
              "      <td>2017-06-05 17:01:03.000000</td>\n",
              "      <td>2017-06-27 18:13:52.000000</td>\n",
              "      <td>22 days 01:12:49</td>\n",
              "    </tr>\n",
              "  </tbody>\n",
              "</table>\n",
              "</div>"
            ],
            "text/plain": [
              "                             customerid                approveddate  \\\n",
              "1893   8a1088a0484472eb01484669e3ce4e0b  2017-07-02 19:19:01.000000   \n",
              "16602  8a1a1e7e4f707f8b014f797718316cad  2017-06-21 22:09:51.000000   \n",
              "12199  8a1a32fc49b632520149c3b8fdf85139  2017-06-13 11:02:36.000000   \n",
              "6990   8a1eb5ba49a682300149c3c068b806c7  2017-05-23 08:25:46.000000   \n",
              "10637  8a1edbf14734127f0147356fdb1b1eb2  2017-06-05 17:01:03.000000   \n",
              "\n",
              "                       closeddate Last_pay_interval  \n",
              "1893   2017-07-24 20:50:43.000000  22 days 01:31:42  \n",
              "16602  2017-07-26 19:48:11.000000  34 days 21:38:20  \n",
              "12199  2017-07-13 18:45:26.000000  30 days 07:42:50  \n",
              "6990   2017-07-12 13:02:44.000000  50 days 04:36:58  \n",
              "10637  2017-06-27 18:13:52.000000  22 days 01:12:49  "
            ]
          },
          "metadata": {
            "tags": []
          },
          "execution_count": 11
        }
      ]
    },
    {
      "cell_type": "code",
      "metadata": {
        "colab_type": "code",
        "id": "sIzK1eW_SWw6",
        "colab": {}
      },
      "source": [
        "# Get only the number of days and convert to int64\n",
        "Arrangeddate['Last_pay_interval']=Arrangeddate['Last_pay_interval'].apply(lambda x:str(x)[:2])\n",
        "Arrangeddate['Last_pay_interval']=Arrangeddate['Last_pay_interval'].astype('int64')"
      ],
      "execution_count": 0,
      "outputs": []
    },
    {
      "cell_type": "code",
      "metadata": {
        "colab_type": "code",
        "id": "HGXz6nmeSWw9",
        "colab": {}
      },
      "source": [
        "# Merge with the previous loans table, based on customerid\n",
        "Tprev=Tprev.join(Arrangeddate[['Last_pay_interval','customerid']].set_index('customerid'),on='customerid',how='inner')"
      ],
      "execution_count": 0,
      "outputs": []
    },
    {
      "cell_type": "code",
      "metadata": {
        "colab_type": "code",
        "id": "Acpx6UKvCYFy",
        "colab": {}
      },
      "source": [
        "# Get pay interval of each loan\n",
        "Tprev['Avg_pay_interval']=Tprev['closeddate'].astype('datetime64')-Tprev['approveddate'].astype('datetime64')\n",
        "Tprev['Avg_pay_interval']=Tprev['Avg_pay_interval'].apply(lambda x:str(x)[:2])\n",
        "Tprev['Avg_pay_interval']=Tprev['Avg_pay_interval'].astype('int64')"
      ],
      "execution_count": 0,
      "outputs": []
    },
    {
      "cell_type": "code",
      "metadata": {
        "colab_type": "code",
        "id": "_mSO3eq5DiOC",
        "colab": {}
      },
      "source": [
        "# Find the average pay interval for each unique customer\n",
        "for i in Tprev.customerid.unique():\n",
        "    mask= Tprev.customerid==i\n",
        "    average_pay_interval=Tprev.loc[mask,'Avg_pay_interval'].mean()\n",
        "    Tprev.loc[mask,'Avg_pay_interval']=average_pay_interval"
      ],
      "execution_count": 0,
      "outputs": []
    },
    {
      "cell_type": "code",
      "metadata": {
        "colab_type": "code",
        "id": "XSMudB8wDEP4",
        "outputId": "f215c8f0-faff-4f1e-e670-28825a2511d4",
        "colab": {
          "base_uri": "https://localhost:8080/",
          "height": 309
        }
      },
      "source": [
        "Tprev.head()"
      ],
      "execution_count": 0,
      "outputs": [
        {
          "output_type": "execute_result",
          "data": {
            "text/html": [
              "<div>\n",
              "<style scoped>\n",
              "    .dataframe tbody tr th:only-of-type {\n",
              "        vertical-align: middle;\n",
              "    }\n",
              "\n",
              "    .dataframe tbody tr th {\n",
              "        vertical-align: top;\n",
              "    }\n",
              "\n",
              "    .dataframe thead th {\n",
              "        text-align: right;\n",
              "    }\n",
              "</style>\n",
              "<table border=\"1\" class=\"dataframe\">\n",
              "  <thead>\n",
              "    <tr style=\"text-align: right;\">\n",
              "      <th></th>\n",
              "      <th>customerid</th>\n",
              "      <th>systemloanid</th>\n",
              "      <th>loannumber</th>\n",
              "      <th>approveddate</th>\n",
              "      <th>creationdate</th>\n",
              "      <th>loanamount</th>\n",
              "      <th>totaldue</th>\n",
              "      <th>termdays</th>\n",
              "      <th>closeddate</th>\n",
              "      <th>referredby</th>\n",
              "      <th>firstduedate</th>\n",
              "      <th>firstrepaiddate</th>\n",
              "      <th>sep</th>\n",
              "      <th>TotalProfit</th>\n",
              "      <th>Last_pay_interval</th>\n",
              "      <th>Avg_pay_interval</th>\n",
              "      <th>Last_pay</th>\n",
              "    </tr>\n",
              "  </thead>\n",
              "  <tbody>\n",
              "    <tr>\n",
              "      <th>0</th>\n",
              "      <td>8a2a81a74ce8c05d014cfb32a0da1049</td>\n",
              "      <td>301682320</td>\n",
              "      <td>2</td>\n",
              "      <td>2016-08-15 18:22:40.000000</td>\n",
              "      <td>2016-08-15 17:22:32.000000</td>\n",
              "      <td>200000.0</td>\n",
              "      <td>13000.0</td>\n",
              "      <td>30</td>\n",
              "      <td>2016-09-01 16:06:48.000000</td>\n",
              "      <td>NaN</td>\n",
              "      <td>2016-09-14 00:00:00.000000</td>\n",
              "      <td>2016-09-01 15:51:43.000000</td>\n",
              "      <td>Train</td>\n",
              "      <td>42900.0</td>\n",
              "      <td>26</td>\n",
              "      <td>29.454545</td>\n",
              "      <td>0</td>\n",
              "    </tr>\n",
              "    <tr>\n",
              "      <th>1</th>\n",
              "      <td>8a2a81a74ce8c05d014cfb32a0da1049</td>\n",
              "      <td>301883808</td>\n",
              "      <td>9</td>\n",
              "      <td>2017-04-28 18:39:07.000000</td>\n",
              "      <td>2017-04-28 17:38:53.000000</td>\n",
              "      <td>200000.0</td>\n",
              "      <td>13000.0</td>\n",
              "      <td>30</td>\n",
              "      <td>2017-05-28 14:44:49.000000</td>\n",
              "      <td>NaN</td>\n",
              "      <td>2017-05-30 00:00:00.000000</td>\n",
              "      <td>2017-05-26 00:00:00.000000</td>\n",
              "      <td>Train</td>\n",
              "      <td>42900.0</td>\n",
              "      <td>26</td>\n",
              "      <td>29.454545</td>\n",
              "      <td>0</td>\n",
              "    </tr>\n",
              "    <tr>\n",
              "      <th>2</th>\n",
              "      <td>8a2a81a74ce8c05d014cfb32a0da1049</td>\n",
              "      <td>301831714</td>\n",
              "      <td>8</td>\n",
              "      <td>2017-03-05 10:56:25.000000</td>\n",
              "      <td>2017-03-05 09:56:19.000000</td>\n",
              "      <td>200000.0</td>\n",
              "      <td>23800.0</td>\n",
              "      <td>30</td>\n",
              "      <td>2017-04-26 22:18:56.000000</td>\n",
              "      <td>NaN</td>\n",
              "      <td>2017-04-04 00:00:00.000000</td>\n",
              "      <td>2017-04-26 22:03:47.000000</td>\n",
              "      <td>Train</td>\n",
              "      <td>42900.0</td>\n",
              "      <td>26</td>\n",
              "      <td>29.454545</td>\n",
              "      <td>0</td>\n",
              "    </tr>\n",
              "    <tr>\n",
              "      <th>55</th>\n",
              "      <td>8a2a81a74ce8c05d014cfb32a0da1049</td>\n",
              "      <td>301923941</td>\n",
              "      <td>10</td>\n",
              "      <td>2017-06-01 13:34:30.000000</td>\n",
              "      <td>2017-06-01 12:34:21.000000</td>\n",
              "      <td>200000.0</td>\n",
              "      <td>24500.0</td>\n",
              "      <td>30</td>\n",
              "      <td>2017-06-25 15:24:06.000000</td>\n",
              "      <td>NaN</td>\n",
              "      <td>2017-07-03 00:00:00.000000</td>\n",
              "      <td>2017-06-25 15:13:56.000000</td>\n",
              "      <td>Train</td>\n",
              "      <td>42900.0</td>\n",
              "      <td>26</td>\n",
              "      <td>29.454545</td>\n",
              "      <td>0</td>\n",
              "    </tr>\n",
              "    <tr>\n",
              "      <th>56</th>\n",
              "      <td>8a2a81a74ce8c05d014cfb32a0da1049</td>\n",
              "      <td>301954468</td>\n",
              "      <td>11</td>\n",
              "      <td>2017-06-28 10:58:34.000000</td>\n",
              "      <td>2017-06-28 09:58:25.000000</td>\n",
              "      <td>200000.0</td>\n",
              "      <td>24500.0</td>\n",
              "      <td>30</td>\n",
              "      <td>2017-07-25 08:14:36.000000</td>\n",
              "      <td>NaN</td>\n",
              "      <td>2017-07-31 00:00:00.000000</td>\n",
              "      <td>2017-07-25 08:04:27.000000</td>\n",
              "      <td>Train</td>\n",
              "      <td>42900.0</td>\n",
              "      <td>26</td>\n",
              "      <td>29.454545</td>\n",
              "      <td>0</td>\n",
              "    </tr>\n",
              "  </tbody>\n",
              "</table>\n",
              "</div>"
            ],
            "text/plain": [
              "                          customerid  systemloanid  loannumber  \\\n",
              "0   8a2a81a74ce8c05d014cfb32a0da1049     301682320           2   \n",
              "1   8a2a81a74ce8c05d014cfb32a0da1049     301883808           9   \n",
              "2   8a2a81a74ce8c05d014cfb32a0da1049     301831714           8   \n",
              "55  8a2a81a74ce8c05d014cfb32a0da1049     301923941          10   \n",
              "56  8a2a81a74ce8c05d014cfb32a0da1049     301954468          11   \n",
              "\n",
              "                  approveddate                creationdate  loanamount  \\\n",
              "0   2016-08-15 18:22:40.000000  2016-08-15 17:22:32.000000    200000.0   \n",
              "1   2017-04-28 18:39:07.000000  2017-04-28 17:38:53.000000    200000.0   \n",
              "2   2017-03-05 10:56:25.000000  2017-03-05 09:56:19.000000    200000.0   \n",
              "55  2017-06-01 13:34:30.000000  2017-06-01 12:34:21.000000    200000.0   \n",
              "56  2017-06-28 10:58:34.000000  2017-06-28 09:58:25.000000    200000.0   \n",
              "\n",
              "    totaldue  termdays                  closeddate referredby  \\\n",
              "0    13000.0        30  2016-09-01 16:06:48.000000        NaN   \n",
              "1    13000.0        30  2017-05-28 14:44:49.000000        NaN   \n",
              "2    23800.0        30  2017-04-26 22:18:56.000000        NaN   \n",
              "55   24500.0        30  2017-06-25 15:24:06.000000        NaN   \n",
              "56   24500.0        30  2017-07-25 08:14:36.000000        NaN   \n",
              "\n",
              "                  firstduedate             firstrepaiddate    sep  \\\n",
              "0   2016-09-14 00:00:00.000000  2016-09-01 15:51:43.000000  Train   \n",
              "1   2017-05-30 00:00:00.000000  2017-05-26 00:00:00.000000  Train   \n",
              "2   2017-04-04 00:00:00.000000  2017-04-26 22:03:47.000000  Train   \n",
              "55  2017-07-03 00:00:00.000000  2017-06-25 15:13:56.000000  Train   \n",
              "56  2017-07-31 00:00:00.000000  2017-07-25 08:04:27.000000  Train   \n",
              "\n",
              "    TotalProfit  Last_pay_interval  Avg_pay_interval  Last_pay  \n",
              "0       42900.0                 26         29.454545         0  \n",
              "1       42900.0                 26         29.454545         0  \n",
              "2       42900.0                 26         29.454545         0  \n",
              "55      42900.0                 26         29.454545         0  \n",
              "56      42900.0                 26         29.454545         0  "
            ]
          },
          "metadata": {
            "tags": []
          },
          "execution_count": 19
        }
      ]
    },
    {
      "cell_type": "code",
      "metadata": {
        "colab_type": "code",
        "id": "s56tMurmSWxD",
        "colab": {}
      },
      "source": [
        "# 0 if the customer paid his last loan early, 1 if late\n",
        "Tprev['Last_pay']=(Tprev['termdays']-Tprev['Last_pay_interval']).apply(lambda x:1 if x<1 else 0)"
      ],
      "execution_count": 0,
      "outputs": []
    },
    {
      "cell_type": "markdown",
      "metadata": {
        "colab_type": "text",
        "id": "MQKR9ViCSWxe"
      },
      "source": [
        "#### No of Late Payment"
      ]
    },
    {
      "cell_type": "code",
      "metadata": {
        "colab_type": "code",
        "id": "OZMwufFKGYrz",
        "outputId": "1a505d71-121a-43a1-8ea7-f77f0b80fe03",
        "colab": {
          "base_uri": "https://localhost:8080/",
          "height": 345
        }
      },
      "source": [
        "# No of days taken before customer paid\n",
        "Tprev['Timeinterval']=Tprev.closeddate.astype('datetime64')-Tprev.approveddate.astype('datetime64')\n",
        "Tprev['Timeinterval']=Tprev.Timeinterval.apply(lambda x:int(str(x)[:2]))\n",
        "Tprev.head()"
      ],
      "execution_count": 0,
      "outputs": [
        {
          "output_type": "execute_result",
          "data": {
            "text/html": [
              "<div>\n",
              "<style scoped>\n",
              "    .dataframe tbody tr th:only-of-type {\n",
              "        vertical-align: middle;\n",
              "    }\n",
              "\n",
              "    .dataframe tbody tr th {\n",
              "        vertical-align: top;\n",
              "    }\n",
              "\n",
              "    .dataframe thead th {\n",
              "        text-align: right;\n",
              "    }\n",
              "</style>\n",
              "<table border=\"1\" class=\"dataframe\">\n",
              "  <thead>\n",
              "    <tr style=\"text-align: right;\">\n",
              "      <th></th>\n",
              "      <th>customerid</th>\n",
              "      <th>systemloanid</th>\n",
              "      <th>loannumber</th>\n",
              "      <th>approveddate</th>\n",
              "      <th>creationdate</th>\n",
              "      <th>loanamount</th>\n",
              "      <th>totaldue</th>\n",
              "      <th>termdays</th>\n",
              "      <th>closeddate</th>\n",
              "      <th>referredby</th>\n",
              "      <th>firstduedate</th>\n",
              "      <th>firstrepaiddate</th>\n",
              "      <th>sep</th>\n",
              "      <th>TotalProfit</th>\n",
              "      <th>Last_pay_interval</th>\n",
              "      <th>Avg_pay_interval</th>\n",
              "      <th>Last_pay</th>\n",
              "      <th>Timeinterval</th>\n",
              "    </tr>\n",
              "  </thead>\n",
              "  <tbody>\n",
              "    <tr>\n",
              "      <th>0</th>\n",
              "      <td>8a2a81a74ce8c05d014cfb32a0da1049</td>\n",
              "      <td>301682320</td>\n",
              "      <td>2</td>\n",
              "      <td>2016-08-15 18:22:40.000000</td>\n",
              "      <td>2016-08-15 17:22:32.000000</td>\n",
              "      <td>200000.0</td>\n",
              "      <td>13000.0</td>\n",
              "      <td>30</td>\n",
              "      <td>2016-09-01 16:06:48.000000</td>\n",
              "      <td>NaN</td>\n",
              "      <td>2016-09-14 00:00:00.000000</td>\n",
              "      <td>2016-09-01 15:51:43.000000</td>\n",
              "      <td>Train</td>\n",
              "      <td>42900.0</td>\n",
              "      <td>26</td>\n",
              "      <td>29.454545</td>\n",
              "      <td>0</td>\n",
              "      <td>16</td>\n",
              "    </tr>\n",
              "    <tr>\n",
              "      <th>1</th>\n",
              "      <td>8a2a81a74ce8c05d014cfb32a0da1049</td>\n",
              "      <td>301883808</td>\n",
              "      <td>9</td>\n",
              "      <td>2017-04-28 18:39:07.000000</td>\n",
              "      <td>2017-04-28 17:38:53.000000</td>\n",
              "      <td>200000.0</td>\n",
              "      <td>13000.0</td>\n",
              "      <td>30</td>\n",
              "      <td>2017-05-28 14:44:49.000000</td>\n",
              "      <td>NaN</td>\n",
              "      <td>2017-05-30 00:00:00.000000</td>\n",
              "      <td>2017-05-26 00:00:00.000000</td>\n",
              "      <td>Train</td>\n",
              "      <td>42900.0</td>\n",
              "      <td>26</td>\n",
              "      <td>29.454545</td>\n",
              "      <td>0</td>\n",
              "      <td>29</td>\n",
              "    </tr>\n",
              "    <tr>\n",
              "      <th>2</th>\n",
              "      <td>8a2a81a74ce8c05d014cfb32a0da1049</td>\n",
              "      <td>301831714</td>\n",
              "      <td>8</td>\n",
              "      <td>2017-03-05 10:56:25.000000</td>\n",
              "      <td>2017-03-05 09:56:19.000000</td>\n",
              "      <td>200000.0</td>\n",
              "      <td>23800.0</td>\n",
              "      <td>30</td>\n",
              "      <td>2017-04-26 22:18:56.000000</td>\n",
              "      <td>NaN</td>\n",
              "      <td>2017-04-04 00:00:00.000000</td>\n",
              "      <td>2017-04-26 22:03:47.000000</td>\n",
              "      <td>Train</td>\n",
              "      <td>42900.0</td>\n",
              "      <td>26</td>\n",
              "      <td>29.454545</td>\n",
              "      <td>0</td>\n",
              "      <td>52</td>\n",
              "    </tr>\n",
              "    <tr>\n",
              "      <th>55</th>\n",
              "      <td>8a2a81a74ce8c05d014cfb32a0da1049</td>\n",
              "      <td>301923941</td>\n",
              "      <td>10</td>\n",
              "      <td>2017-06-01 13:34:30.000000</td>\n",
              "      <td>2017-06-01 12:34:21.000000</td>\n",
              "      <td>200000.0</td>\n",
              "      <td>24500.0</td>\n",
              "      <td>30</td>\n",
              "      <td>2017-06-25 15:24:06.000000</td>\n",
              "      <td>NaN</td>\n",
              "      <td>2017-07-03 00:00:00.000000</td>\n",
              "      <td>2017-06-25 15:13:56.000000</td>\n",
              "      <td>Train</td>\n",
              "      <td>42900.0</td>\n",
              "      <td>26</td>\n",
              "      <td>29.454545</td>\n",
              "      <td>0</td>\n",
              "      <td>24</td>\n",
              "    </tr>\n",
              "    <tr>\n",
              "      <th>56</th>\n",
              "      <td>8a2a81a74ce8c05d014cfb32a0da1049</td>\n",
              "      <td>301954468</td>\n",
              "      <td>11</td>\n",
              "      <td>2017-06-28 10:58:34.000000</td>\n",
              "      <td>2017-06-28 09:58:25.000000</td>\n",
              "      <td>200000.0</td>\n",
              "      <td>24500.0</td>\n",
              "      <td>30</td>\n",
              "      <td>2017-07-25 08:14:36.000000</td>\n",
              "      <td>NaN</td>\n",
              "      <td>2017-07-31 00:00:00.000000</td>\n",
              "      <td>2017-07-25 08:04:27.000000</td>\n",
              "      <td>Train</td>\n",
              "      <td>42900.0</td>\n",
              "      <td>26</td>\n",
              "      <td>29.454545</td>\n",
              "      <td>0</td>\n",
              "      <td>26</td>\n",
              "    </tr>\n",
              "  </tbody>\n",
              "</table>\n",
              "</div>"
            ],
            "text/plain": [
              "                          customerid  systemloanid  loannumber  \\\n",
              "0   8a2a81a74ce8c05d014cfb32a0da1049     301682320           2   \n",
              "1   8a2a81a74ce8c05d014cfb32a0da1049     301883808           9   \n",
              "2   8a2a81a74ce8c05d014cfb32a0da1049     301831714           8   \n",
              "55  8a2a81a74ce8c05d014cfb32a0da1049     301923941          10   \n",
              "56  8a2a81a74ce8c05d014cfb32a0da1049     301954468          11   \n",
              "\n",
              "                  approveddate                creationdate  loanamount  \\\n",
              "0   2016-08-15 18:22:40.000000  2016-08-15 17:22:32.000000    200000.0   \n",
              "1   2017-04-28 18:39:07.000000  2017-04-28 17:38:53.000000    200000.0   \n",
              "2   2017-03-05 10:56:25.000000  2017-03-05 09:56:19.000000    200000.0   \n",
              "55  2017-06-01 13:34:30.000000  2017-06-01 12:34:21.000000    200000.0   \n",
              "56  2017-06-28 10:58:34.000000  2017-06-28 09:58:25.000000    200000.0   \n",
              "\n",
              "    totaldue  termdays                  closeddate referredby  \\\n",
              "0    13000.0        30  2016-09-01 16:06:48.000000        NaN   \n",
              "1    13000.0        30  2017-05-28 14:44:49.000000        NaN   \n",
              "2    23800.0        30  2017-04-26 22:18:56.000000        NaN   \n",
              "55   24500.0        30  2017-06-25 15:24:06.000000        NaN   \n",
              "56   24500.0        30  2017-07-25 08:14:36.000000        NaN   \n",
              "\n",
              "                  firstduedate             firstrepaiddate    sep  \\\n",
              "0   2016-09-14 00:00:00.000000  2016-09-01 15:51:43.000000  Train   \n",
              "1   2017-05-30 00:00:00.000000  2017-05-26 00:00:00.000000  Train   \n",
              "2   2017-04-04 00:00:00.000000  2017-04-26 22:03:47.000000  Train   \n",
              "55  2017-07-03 00:00:00.000000  2017-06-25 15:13:56.000000  Train   \n",
              "56  2017-07-31 00:00:00.000000  2017-07-25 08:04:27.000000  Train   \n",
              "\n",
              "    TotalProfit  Last_pay_interval  Avg_pay_interval  Last_pay  Timeinterval  \n",
              "0       42900.0                 26         29.454545         0            16  \n",
              "1       42900.0                 26         29.454545         0            29  \n",
              "2       42900.0                 26         29.454545         0            52  \n",
              "55      42900.0                 26         29.454545         0            24  \n",
              "56      42900.0                 26         29.454545         0            26  "
            ]
          },
          "metadata": {
            "tags": []
          },
          "execution_count": 20
        }
      ]
    },
    {
      "cell_type": "code",
      "metadata": {
        "colab_type": "code",
        "id": "sMDpux7nSWxf",
        "outputId": "9fa469c4-3454-445a-e228-fcf8dab28247",
        "colab": {
          "base_uri": "https://localhost:8080/",
          "height": 309
        }
      },
      "source": [
        "# Get no of late payments\n",
        "Tprev['No_late_payment']=(Tprev['termdays']-Tprev['Timeinterval'])\n",
        "for i in Tprev.customerid.unique():\n",
        "    mask= Tprev.customerid==i\n",
        "    late_no=len([x for x in list(Tprev.loc[mask,'No_late_payment']) if x>=1])\n",
        "    Tprev.loc[mask,'No_late_payment']=late_no\n",
        "Tprev.head()"
      ],
      "execution_count": 0,
      "outputs": [
        {
          "output_type": "execute_result",
          "data": {
            "text/html": [
              "<div>\n",
              "<style scoped>\n",
              "    .dataframe tbody tr th:only-of-type {\n",
              "        vertical-align: middle;\n",
              "    }\n",
              "\n",
              "    .dataframe tbody tr th {\n",
              "        vertical-align: top;\n",
              "    }\n",
              "\n",
              "    .dataframe thead th {\n",
              "        text-align: right;\n",
              "    }\n",
              "</style>\n",
              "<table border=\"1\" class=\"dataframe\">\n",
              "  <thead>\n",
              "    <tr style=\"text-align: right;\">\n",
              "      <th></th>\n",
              "      <th>customerid</th>\n",
              "      <th>systemloanid</th>\n",
              "      <th>loannumber</th>\n",
              "      <th>approveddate</th>\n",
              "      <th>creationdate</th>\n",
              "      <th>loanamount</th>\n",
              "      <th>totaldue</th>\n",
              "      <th>termdays</th>\n",
              "      <th>closeddate</th>\n",
              "      <th>referredby</th>\n",
              "      <th>firstduedate</th>\n",
              "      <th>firstrepaiddate</th>\n",
              "      <th>sep</th>\n",
              "      <th>TotalProfit</th>\n",
              "      <th>Last_pay_interval</th>\n",
              "      <th>Avg_pay_interval</th>\n",
              "      <th>Last_pay</th>\n",
              "      <th>Timeinterval</th>\n",
              "      <th>No_late_payment</th>\n",
              "    </tr>\n",
              "  </thead>\n",
              "  <tbody>\n",
              "    <tr>\n",
              "      <th>0</th>\n",
              "      <td>8a2a81a74ce8c05d014cfb32a0da1049</td>\n",
              "      <td>301682320</td>\n",
              "      <td>2</td>\n",
              "      <td>2016-08-15 18:22:40.000000</td>\n",
              "      <td>2016-08-15 17:22:32.000000</td>\n",
              "      <td>200000.0</td>\n",
              "      <td>13000.0</td>\n",
              "      <td>30</td>\n",
              "      <td>2016-09-01 16:06:48.000000</td>\n",
              "      <td>NaN</td>\n",
              "      <td>2016-09-14 00:00:00.000000</td>\n",
              "      <td>2016-09-01 15:51:43.000000</td>\n",
              "      <td>Train</td>\n",
              "      <td>42900.0</td>\n",
              "      <td>26</td>\n",
              "      <td>29.454545</td>\n",
              "      <td>0</td>\n",
              "      <td>16</td>\n",
              "      <td>7</td>\n",
              "    </tr>\n",
              "    <tr>\n",
              "      <th>1</th>\n",
              "      <td>8a2a81a74ce8c05d014cfb32a0da1049</td>\n",
              "      <td>301883808</td>\n",
              "      <td>9</td>\n",
              "      <td>2017-04-28 18:39:07.000000</td>\n",
              "      <td>2017-04-28 17:38:53.000000</td>\n",
              "      <td>200000.0</td>\n",
              "      <td>13000.0</td>\n",
              "      <td>30</td>\n",
              "      <td>2017-05-28 14:44:49.000000</td>\n",
              "      <td>NaN</td>\n",
              "      <td>2017-05-30 00:00:00.000000</td>\n",
              "      <td>2017-05-26 00:00:00.000000</td>\n",
              "      <td>Train</td>\n",
              "      <td>42900.0</td>\n",
              "      <td>26</td>\n",
              "      <td>29.454545</td>\n",
              "      <td>0</td>\n",
              "      <td>29</td>\n",
              "      <td>7</td>\n",
              "    </tr>\n",
              "    <tr>\n",
              "      <th>2</th>\n",
              "      <td>8a2a81a74ce8c05d014cfb32a0da1049</td>\n",
              "      <td>301831714</td>\n",
              "      <td>8</td>\n",
              "      <td>2017-03-05 10:56:25.000000</td>\n",
              "      <td>2017-03-05 09:56:19.000000</td>\n",
              "      <td>200000.0</td>\n",
              "      <td>23800.0</td>\n",
              "      <td>30</td>\n",
              "      <td>2017-04-26 22:18:56.000000</td>\n",
              "      <td>NaN</td>\n",
              "      <td>2017-04-04 00:00:00.000000</td>\n",
              "      <td>2017-04-26 22:03:47.000000</td>\n",
              "      <td>Train</td>\n",
              "      <td>42900.0</td>\n",
              "      <td>26</td>\n",
              "      <td>29.454545</td>\n",
              "      <td>0</td>\n",
              "      <td>52</td>\n",
              "      <td>7</td>\n",
              "    </tr>\n",
              "    <tr>\n",
              "      <th>55</th>\n",
              "      <td>8a2a81a74ce8c05d014cfb32a0da1049</td>\n",
              "      <td>301923941</td>\n",
              "      <td>10</td>\n",
              "      <td>2017-06-01 13:34:30.000000</td>\n",
              "      <td>2017-06-01 12:34:21.000000</td>\n",
              "      <td>200000.0</td>\n",
              "      <td>24500.0</td>\n",
              "      <td>30</td>\n",
              "      <td>2017-06-25 15:24:06.000000</td>\n",
              "      <td>NaN</td>\n",
              "      <td>2017-07-03 00:00:00.000000</td>\n",
              "      <td>2017-06-25 15:13:56.000000</td>\n",
              "      <td>Train</td>\n",
              "      <td>42900.0</td>\n",
              "      <td>26</td>\n",
              "      <td>29.454545</td>\n",
              "      <td>0</td>\n",
              "      <td>24</td>\n",
              "      <td>7</td>\n",
              "    </tr>\n",
              "    <tr>\n",
              "      <th>56</th>\n",
              "      <td>8a2a81a74ce8c05d014cfb32a0da1049</td>\n",
              "      <td>301954468</td>\n",
              "      <td>11</td>\n",
              "      <td>2017-06-28 10:58:34.000000</td>\n",
              "      <td>2017-06-28 09:58:25.000000</td>\n",
              "      <td>200000.0</td>\n",
              "      <td>24500.0</td>\n",
              "      <td>30</td>\n",
              "      <td>2017-07-25 08:14:36.000000</td>\n",
              "      <td>NaN</td>\n",
              "      <td>2017-07-31 00:00:00.000000</td>\n",
              "      <td>2017-07-25 08:04:27.000000</td>\n",
              "      <td>Train</td>\n",
              "      <td>42900.0</td>\n",
              "      <td>26</td>\n",
              "      <td>29.454545</td>\n",
              "      <td>0</td>\n",
              "      <td>26</td>\n",
              "      <td>7</td>\n",
              "    </tr>\n",
              "  </tbody>\n",
              "</table>\n",
              "</div>"
            ],
            "text/plain": [
              "                          customerid  systemloanid  loannumber  \\\n",
              "0   8a2a81a74ce8c05d014cfb32a0da1049     301682320           2   \n",
              "1   8a2a81a74ce8c05d014cfb32a0da1049     301883808           9   \n",
              "2   8a2a81a74ce8c05d014cfb32a0da1049     301831714           8   \n",
              "55  8a2a81a74ce8c05d014cfb32a0da1049     301923941          10   \n",
              "56  8a2a81a74ce8c05d014cfb32a0da1049     301954468          11   \n",
              "\n",
              "                  approveddate                creationdate  loanamount  \\\n",
              "0   2016-08-15 18:22:40.000000  2016-08-15 17:22:32.000000    200000.0   \n",
              "1   2017-04-28 18:39:07.000000  2017-04-28 17:38:53.000000    200000.0   \n",
              "2   2017-03-05 10:56:25.000000  2017-03-05 09:56:19.000000    200000.0   \n",
              "55  2017-06-01 13:34:30.000000  2017-06-01 12:34:21.000000    200000.0   \n",
              "56  2017-06-28 10:58:34.000000  2017-06-28 09:58:25.000000    200000.0   \n",
              "\n",
              "    totaldue  termdays                  closeddate referredby  \\\n",
              "0    13000.0        30  2016-09-01 16:06:48.000000        NaN   \n",
              "1    13000.0        30  2017-05-28 14:44:49.000000        NaN   \n",
              "2    23800.0        30  2017-04-26 22:18:56.000000        NaN   \n",
              "55   24500.0        30  2017-06-25 15:24:06.000000        NaN   \n",
              "56   24500.0        30  2017-07-25 08:14:36.000000        NaN   \n",
              "\n",
              "                  firstduedate             firstrepaiddate    sep  \\\n",
              "0   2016-09-14 00:00:00.000000  2016-09-01 15:51:43.000000  Train   \n",
              "1   2017-05-30 00:00:00.000000  2017-05-26 00:00:00.000000  Train   \n",
              "2   2017-04-04 00:00:00.000000  2017-04-26 22:03:47.000000  Train   \n",
              "55  2017-07-03 00:00:00.000000  2017-06-25 15:13:56.000000  Train   \n",
              "56  2017-07-31 00:00:00.000000  2017-07-25 08:04:27.000000  Train   \n",
              "\n",
              "    TotalProfit  Last_pay_interval  Avg_pay_interval  Last_pay  Timeinterval  \\\n",
              "0       42900.0                 26         29.454545         0            16   \n",
              "1       42900.0                 26         29.454545         0            29   \n",
              "2       42900.0                 26         29.454545         0            52   \n",
              "55      42900.0                 26         29.454545         0            24   \n",
              "56      42900.0                 26         29.454545         0            26   \n",
              "\n",
              "    No_late_payment  \n",
              "0                 7  \n",
              "1                 7  \n",
              "2                 7  \n",
              "55                7  \n",
              "56                7  "
            ]
          },
          "metadata": {
            "tags": []
          },
          "execution_count": 21
        }
      ]
    },
    {
      "cell_type": "markdown",
      "metadata": {
        "colab_type": "text",
        "id": "mRsKjJpTSWxq"
      },
      "source": [
        "### Delete irreleveant columns"
      ]
    },
    {
      "cell_type": "code",
      "metadata": {
        "colab_type": "code",
        "id": "kojah-8vSWxu",
        "scrolled": false,
        "colab": {}
      },
      "source": [
        "newTprev=Tprev.drop(columns=['firstrepaiddate','totaldue', 'loannumber', 'firstduedate','approveddate','termdays','creationdate','systemloanid','closeddate', 'Timeinterval', 'Last_pay_interval'])"
      ],
      "execution_count": 0,
      "outputs": []
    },
    {
      "cell_type": "markdown",
      "metadata": {
        "id": "fBxckeBdPnpn",
        "colab_type": "text"
      },
      "source": [
        "## Get just one occurence of each customer (since each column contains the total for each customer)"
      ]
    },
    {
      "cell_type": "code",
      "metadata": {
        "colab_type": "code",
        "id": "4sRzj5pcSWx3",
        "outputId": "9ced0161-494b-4cc4-9ae7-bd6893c92e01",
        "colab": {
          "base_uri": "https://localhost:8080/",
          "height": 204
        }
      },
      "source": [
        "newTprev.rename(columns={\"loanamount\":\"loanamount_sum\"},inplace=True)\n",
        "newTprev.head()"
      ],
      "execution_count": 0,
      "outputs": [
        {
          "output_type": "execute_result",
          "data": {
            "text/html": [
              "<div>\n",
              "<style scoped>\n",
              "    .dataframe tbody tr th:only-of-type {\n",
              "        vertical-align: middle;\n",
              "    }\n",
              "\n",
              "    .dataframe tbody tr th {\n",
              "        vertical-align: top;\n",
              "    }\n",
              "\n",
              "    .dataframe thead th {\n",
              "        text-align: right;\n",
              "    }\n",
              "</style>\n",
              "<table border=\"1\" class=\"dataframe\">\n",
              "  <thead>\n",
              "    <tr style=\"text-align: right;\">\n",
              "      <th></th>\n",
              "      <th>customerid</th>\n",
              "      <th>loanamount_sum</th>\n",
              "      <th>referredby</th>\n",
              "      <th>sep</th>\n",
              "      <th>TotalProfit</th>\n",
              "      <th>Avg_pay_interval</th>\n",
              "      <th>Last_pay</th>\n",
              "      <th>No_late_payment</th>\n",
              "    </tr>\n",
              "  </thead>\n",
              "  <tbody>\n",
              "    <tr>\n",
              "      <th>0</th>\n",
              "      <td>8a2a81a74ce8c05d014cfb32a0da1049</td>\n",
              "      <td>200000.0</td>\n",
              "      <td>NaN</td>\n",
              "      <td>Train</td>\n",
              "      <td>42900.0</td>\n",
              "      <td>29.454545</td>\n",
              "      <td>0</td>\n",
              "      <td>7</td>\n",
              "    </tr>\n",
              "    <tr>\n",
              "      <th>1</th>\n",
              "      <td>8a2a81a74ce8c05d014cfb32a0da1049</td>\n",
              "      <td>200000.0</td>\n",
              "      <td>NaN</td>\n",
              "      <td>Train</td>\n",
              "      <td>42900.0</td>\n",
              "      <td>29.454545</td>\n",
              "      <td>0</td>\n",
              "      <td>7</td>\n",
              "    </tr>\n",
              "    <tr>\n",
              "      <th>2</th>\n",
              "      <td>8a2a81a74ce8c05d014cfb32a0da1049</td>\n",
              "      <td>200000.0</td>\n",
              "      <td>NaN</td>\n",
              "      <td>Train</td>\n",
              "      <td>42900.0</td>\n",
              "      <td>29.454545</td>\n",
              "      <td>0</td>\n",
              "      <td>7</td>\n",
              "    </tr>\n",
              "    <tr>\n",
              "      <th>55</th>\n",
              "      <td>8a2a81a74ce8c05d014cfb32a0da1049</td>\n",
              "      <td>200000.0</td>\n",
              "      <td>NaN</td>\n",
              "      <td>Train</td>\n",
              "      <td>42900.0</td>\n",
              "      <td>29.454545</td>\n",
              "      <td>0</td>\n",
              "      <td>7</td>\n",
              "    </tr>\n",
              "    <tr>\n",
              "      <th>56</th>\n",
              "      <td>8a2a81a74ce8c05d014cfb32a0da1049</td>\n",
              "      <td>200000.0</td>\n",
              "      <td>NaN</td>\n",
              "      <td>Train</td>\n",
              "      <td>42900.0</td>\n",
              "      <td>29.454545</td>\n",
              "      <td>0</td>\n",
              "      <td>7</td>\n",
              "    </tr>\n",
              "  </tbody>\n",
              "</table>\n",
              "</div>"
            ],
            "text/plain": [
              "                          customerid  loanamount_sum referredby    sep  \\\n",
              "0   8a2a81a74ce8c05d014cfb32a0da1049        200000.0        NaN  Train   \n",
              "1   8a2a81a74ce8c05d014cfb32a0da1049        200000.0        NaN  Train   \n",
              "2   8a2a81a74ce8c05d014cfb32a0da1049        200000.0        NaN  Train   \n",
              "55  8a2a81a74ce8c05d014cfb32a0da1049        200000.0        NaN  Train   \n",
              "56  8a2a81a74ce8c05d014cfb32a0da1049        200000.0        NaN  Train   \n",
              "\n",
              "    TotalProfit  Avg_pay_interval  Last_pay  No_late_payment  \n",
              "0       42900.0         29.454545         0                7  \n",
              "1       42900.0         29.454545         0                7  \n",
              "2       42900.0         29.454545         0                7  \n",
              "55      42900.0         29.454545         0                7  \n",
              "56      42900.0         29.454545         0                7  "
            ]
          },
          "metadata": {
            "tags": []
          },
          "execution_count": 23
        }
      ]
    },
    {
      "cell_type": "code",
      "metadata": {
        "colab_type": "code",
        "id": "g_ySsL18SWx6",
        "colab": {}
      },
      "source": [
        "newTprev.drop_duplicates(subset=['customerid'],keep='last',inplace=True)"
      ],
      "execution_count": 0,
      "outputs": []
    },
    {
      "cell_type": "code",
      "metadata": {
        "colab_type": "code",
        "id": "qAO7_6lCSWyA",
        "outputId": "b91cb92c-6c02-4841-b09e-77a8c1b00552",
        "colab": {
          "base_uri": "https://localhost:8080/",
          "height": 204
        }
      },
      "source": [
        "# 1 if customer wasn't referred, else 0 (Might not be needed)\n",
        "newTprev['referredby']=newTprev.referredby.isnull().apply(lambda x:1 if x is True else 0)\n",
        "newTprev.head()"
      ],
      "execution_count": 0,
      "outputs": [
        {
          "output_type": "execute_result",
          "data": {
            "text/html": [
              "<div>\n",
              "<style scoped>\n",
              "    .dataframe tbody tr th:only-of-type {\n",
              "        vertical-align: middle;\n",
              "    }\n",
              "\n",
              "    .dataframe tbody tr th {\n",
              "        vertical-align: top;\n",
              "    }\n",
              "\n",
              "    .dataframe thead th {\n",
              "        text-align: right;\n",
              "    }\n",
              "</style>\n",
              "<table border=\"1\" class=\"dataframe\">\n",
              "  <thead>\n",
              "    <tr style=\"text-align: right;\">\n",
              "      <th></th>\n",
              "      <th>customerid</th>\n",
              "      <th>loanamount_sum</th>\n",
              "      <th>referredby</th>\n",
              "      <th>sep</th>\n",
              "      <th>TotalProfit</th>\n",
              "      <th>Avg_pay_interval</th>\n",
              "      <th>Last_pay</th>\n",
              "      <th>No_late_payment</th>\n",
              "    </tr>\n",
              "  </thead>\n",
              "  <tbody>\n",
              "    <tr>\n",
              "      <th>1744</th>\n",
              "      <td>8a2a81a74ce8c05d014cfb32a0da1049</td>\n",
              "      <td>200000.0</td>\n",
              "      <td>1</td>\n",
              "      <td>Train</td>\n",
              "      <td>42900.0</td>\n",
              "      <td>29.454545</td>\n",
              "      <td>0</td>\n",
              "      <td>7</td>\n",
              "    </tr>\n",
              "    <tr>\n",
              "      <th>1745</th>\n",
              "      <td>8a8588f35438fe12015444567666018e</td>\n",
              "      <td>60000.0</td>\n",
              "      <td>1</td>\n",
              "      <td>Train</td>\n",
              "      <td>10500.0</td>\n",
              "      <td>18.166667</td>\n",
              "      <td>0</td>\n",
              "      <td>5</td>\n",
              "    </tr>\n",
              "    <tr>\n",
              "      <th>1746</th>\n",
              "      <td>8a85890754145ace015429211b513e16</td>\n",
              "      <td>20000.0</td>\n",
              "      <td>1</td>\n",
              "      <td>Train</td>\n",
              "      <td>4500.0</td>\n",
              "      <td>31.500000</td>\n",
              "      <td>0</td>\n",
              "      <td>0</td>\n",
              "    </tr>\n",
              "    <tr>\n",
              "      <th>1748</th>\n",
              "      <td>8a858970548359cc0154883481981866</td>\n",
              "      <td>150000.0</td>\n",
              "      <td>1</td>\n",
              "      <td>Train</td>\n",
              "      <td>38400.0</td>\n",
              "      <td>27.000000</td>\n",
              "      <td>0</td>\n",
              "      <td>8</td>\n",
              "    </tr>\n",
              "    <tr>\n",
              "      <th>1750</th>\n",
              "      <td>8a8589f35451855401546b0738c42524</td>\n",
              "      <td>100000.0</td>\n",
              "      <td>1</td>\n",
              "      <td>Train</td>\n",
              "      <td>24800.0</td>\n",
              "      <td>24.857143</td>\n",
              "      <td>1</td>\n",
              "      <td>4</td>\n",
              "    </tr>\n",
              "  </tbody>\n",
              "</table>\n",
              "</div>"
            ],
            "text/plain": [
              "                            customerid  loanamount_sum  referredby    sep  \\\n",
              "1744  8a2a81a74ce8c05d014cfb32a0da1049        200000.0           1  Train   \n",
              "1745  8a8588f35438fe12015444567666018e         60000.0           1  Train   \n",
              "1746  8a85890754145ace015429211b513e16         20000.0           1  Train   \n",
              "1748  8a858970548359cc0154883481981866        150000.0           1  Train   \n",
              "1750  8a8589f35451855401546b0738c42524        100000.0           1  Train   \n",
              "\n",
              "      TotalProfit  Avg_pay_interval  Last_pay  No_late_payment  \n",
              "1744      42900.0         29.454545         0                7  \n",
              "1745      10500.0         18.166667         0                5  \n",
              "1746       4500.0         31.500000         0                0  \n",
              "1748      38400.0         27.000000         0                8  \n",
              "1750      24800.0         24.857143         1                4  "
            ]
          },
          "metadata": {
            "tags": []
          },
          "execution_count": 328
        }
      ]
    },
    {
      "cell_type": "markdown",
      "metadata": {
        "colab_type": "text",
        "id": "ojXoeP6qJ_3z"
      },
      "source": [
        "## Performance"
      ]
    },
    {
      "cell_type": "code",
      "metadata": {
        "colab_type": "code",
        "id": "RP_zX6ghKR04",
        "outputId": "3129633e-df81-4a8c-c527-7815c43a89d9",
        "colab": {
          "base_uri": "https://localhost:8080/",
          "height": 309
        }
      },
      "source": [
        "Tperformance.head()"
      ],
      "execution_count": 0,
      "outputs": [
        {
          "output_type": "execute_result",
          "data": {
            "text/html": [
              "<div>\n",
              "<style scoped>\n",
              "    .dataframe tbody tr th:only-of-type {\n",
              "        vertical-align: middle;\n",
              "    }\n",
              "\n",
              "    .dataframe tbody tr th {\n",
              "        vertical-align: top;\n",
              "    }\n",
              "\n",
              "    .dataframe thead th {\n",
              "        text-align: right;\n",
              "    }\n",
              "</style>\n",
              "<table border=\"1\" class=\"dataframe\">\n",
              "  <thead>\n",
              "    <tr style=\"text-align: right;\">\n",
              "      <th></th>\n",
              "      <th>approveddate</th>\n",
              "      <th>creationdate</th>\n",
              "      <th>customerid</th>\n",
              "      <th>good_bad_flag</th>\n",
              "      <th>loanamount</th>\n",
              "      <th>loannumber</th>\n",
              "      <th>referredby</th>\n",
              "      <th>systemloanid</th>\n",
              "      <th>termdays</th>\n",
              "      <th>totaldue</th>\n",
              "    </tr>\n",
              "  </thead>\n",
              "  <tbody>\n",
              "    <tr>\n",
              "      <th>0</th>\n",
              "      <td>2017-07-25 08:22:56.000000</td>\n",
              "      <td>2017-07-25 07:22:47.000000</td>\n",
              "      <td>8a2a81a74ce8c05d014cfb32a0da1049</td>\n",
              "      <td>Good</td>\n",
              "      <td>30000.0</td>\n",
              "      <td>12</td>\n",
              "      <td>1</td>\n",
              "      <td>301994762</td>\n",
              "      <td>30</td>\n",
              "      <td>34500.0</td>\n",
              "    </tr>\n",
              "    <tr>\n",
              "      <th>1</th>\n",
              "      <td>2017-07-05 17:04:41.000000</td>\n",
              "      <td>2017-07-05 16:04:18.000000</td>\n",
              "      <td>8a85886e54beabf90154c0a29ae757c0</td>\n",
              "      <td>Good</td>\n",
              "      <td>15000.0</td>\n",
              "      <td>2</td>\n",
              "      <td>1</td>\n",
              "      <td>301965204</td>\n",
              "      <td>30</td>\n",
              "      <td>17250.0</td>\n",
              "    </tr>\n",
              "    <tr>\n",
              "      <th>2</th>\n",
              "      <td>2017-07-06 14:52:57.000000</td>\n",
              "      <td>2017-07-06 13:52:51.000000</td>\n",
              "      <td>8a8588f35438fe12015444567666018e</td>\n",
              "      <td>Good</td>\n",
              "      <td>20000.0</td>\n",
              "      <td>7</td>\n",
              "      <td>1</td>\n",
              "      <td>301966580</td>\n",
              "      <td>15</td>\n",
              "      <td>22250.0</td>\n",
              "    </tr>\n",
              "    <tr>\n",
              "      <th>3</th>\n",
              "      <td>2017-07-27 19:00:41.000000</td>\n",
              "      <td>2017-07-27 18:00:35.000000</td>\n",
              "      <td>8a85890754145ace015429211b513e16</td>\n",
              "      <td>Good</td>\n",
              "      <td>10000.0</td>\n",
              "      <td>3</td>\n",
              "      <td>1</td>\n",
              "      <td>301999343</td>\n",
              "      <td>15</td>\n",
              "      <td>11500.0</td>\n",
              "    </tr>\n",
              "    <tr>\n",
              "      <th>4</th>\n",
              "      <td>2017-07-03 23:42:45.000000</td>\n",
              "      <td>2017-07-03 22:42:39.000000</td>\n",
              "      <td>8a858970548359cc0154883481981866</td>\n",
              "      <td>Good</td>\n",
              "      <td>40000.0</td>\n",
              "      <td>9</td>\n",
              "      <td>1</td>\n",
              "      <td>301962360</td>\n",
              "      <td>30</td>\n",
              "      <td>44000.0</td>\n",
              "    </tr>\n",
              "  </tbody>\n",
              "</table>\n",
              "</div>"
            ],
            "text/plain": [
              "                 approveddate                creationdate  \\\n",
              "0  2017-07-25 08:22:56.000000  2017-07-25 07:22:47.000000   \n",
              "1  2017-07-05 17:04:41.000000  2017-07-05 16:04:18.000000   \n",
              "2  2017-07-06 14:52:57.000000  2017-07-06 13:52:51.000000   \n",
              "3  2017-07-27 19:00:41.000000  2017-07-27 18:00:35.000000   \n",
              "4  2017-07-03 23:42:45.000000  2017-07-03 22:42:39.000000   \n",
              "\n",
              "                         customerid good_bad_flag  loanamount  loannumber  \\\n",
              "0  8a2a81a74ce8c05d014cfb32a0da1049          Good     30000.0          12   \n",
              "1  8a85886e54beabf90154c0a29ae757c0          Good     15000.0           2   \n",
              "2  8a8588f35438fe12015444567666018e          Good     20000.0           7   \n",
              "3  8a85890754145ace015429211b513e16          Good     10000.0           3   \n",
              "4  8a858970548359cc0154883481981866          Good     40000.0           9   \n",
              "\n",
              "   referredby  systemloanid  termdays  totaldue  \n",
              "0           1     301994762        30   34500.0  \n",
              "1           1     301965204        30   17250.0  \n",
              "2           1     301966580        15   22250.0  \n",
              "3           1     301999343        15   11500.0  \n",
              "4           1     301962360        30   44000.0  "
            ]
          },
          "metadata": {
            "tags": []
          },
          "execution_count": 31
        }
      ]
    },
    {
      "cell_type": "code",
      "metadata": {
        "colab_type": "code",
        "id": "1F6Pr1eZSWyG",
        "colab": {}
      },
      "source": [
        "Tperformance['referredby']=Tperformance.referredby.isnull().apply(lambda x:1 if x is True else 0)"
      ],
      "execution_count": 0,
      "outputs": []
    },
    {
      "cell_type": "code",
      "metadata": {
        "colab_type": "code",
        "id": "GSe6QTKKSWyM",
        "outputId": "0728c31c-8ea3-4e2f-9521-274fe6ed8908",
        "colab": {
          "base_uri": "https://localhost:8080/",
          "height": 309
        }
      },
      "source": [
        "# Merge info from Previous Loans to Performance\n",
        "result = pd.merge(newTprev.reset_index(), Tperformance.reset_index(),on=['customerid'], how='outer')\n",
        "result.head()"
      ],
      "execution_count": 0,
      "outputs": [
        {
          "output_type": "execute_result",
          "data": {
            "text/html": [
              "<div>\n",
              "<style scoped>\n",
              "    .dataframe tbody tr th:only-of-type {\n",
              "        vertical-align: middle;\n",
              "    }\n",
              "\n",
              "    .dataframe tbody tr th {\n",
              "        vertical-align: top;\n",
              "    }\n",
              "\n",
              "    .dataframe thead th {\n",
              "        text-align: right;\n",
              "    }\n",
              "</style>\n",
              "<table border=\"1\" class=\"dataframe\">\n",
              "  <thead>\n",
              "    <tr style=\"text-align: right;\">\n",
              "      <th></th>\n",
              "      <th>index_x</th>\n",
              "      <th>customerid</th>\n",
              "      <th>loanamount_sum</th>\n",
              "      <th>referredby_x</th>\n",
              "      <th>sep</th>\n",
              "      <th>TotalProfit</th>\n",
              "      <th>Avg_pay_interval</th>\n",
              "      <th>Last_pay</th>\n",
              "      <th>No_late_payment</th>\n",
              "      <th>index_y</th>\n",
              "      <th>approveddate</th>\n",
              "      <th>creationdate</th>\n",
              "      <th>good_bad_flag</th>\n",
              "      <th>loanamount</th>\n",
              "      <th>loannumber</th>\n",
              "      <th>referredby_y</th>\n",
              "      <th>systemloanid</th>\n",
              "      <th>termdays</th>\n",
              "      <th>totaldue</th>\n",
              "    </tr>\n",
              "  </thead>\n",
              "  <tbody>\n",
              "    <tr>\n",
              "      <th>0</th>\n",
              "      <td>1744.0</td>\n",
              "      <td>8a2a81a74ce8c05d014cfb32a0da1049</td>\n",
              "      <td>200000.0</td>\n",
              "      <td>NaN</td>\n",
              "      <td>Train</td>\n",
              "      <td>42900.0</td>\n",
              "      <td>29.454545</td>\n",
              "      <td>0.0</td>\n",
              "      <td>7.0</td>\n",
              "      <td>0</td>\n",
              "      <td>2017-07-25 08:22:56.000000</td>\n",
              "      <td>2017-07-25 07:22:47.000000</td>\n",
              "      <td>Good</td>\n",
              "      <td>30000.0</td>\n",
              "      <td>12</td>\n",
              "      <td>0</td>\n",
              "      <td>301994762</td>\n",
              "      <td>30</td>\n",
              "      <td>34500.0</td>\n",
              "    </tr>\n",
              "    <tr>\n",
              "      <th>1</th>\n",
              "      <td>1745.0</td>\n",
              "      <td>8a8588f35438fe12015444567666018e</td>\n",
              "      <td>60000.0</td>\n",
              "      <td>NaN</td>\n",
              "      <td>Train</td>\n",
              "      <td>10500.0</td>\n",
              "      <td>18.166667</td>\n",
              "      <td>0.0</td>\n",
              "      <td>5.0</td>\n",
              "      <td>2</td>\n",
              "      <td>2017-07-06 14:52:57.000000</td>\n",
              "      <td>2017-07-06 13:52:51.000000</td>\n",
              "      <td>Good</td>\n",
              "      <td>20000.0</td>\n",
              "      <td>7</td>\n",
              "      <td>0</td>\n",
              "      <td>301966580</td>\n",
              "      <td>15</td>\n",
              "      <td>22250.0</td>\n",
              "    </tr>\n",
              "    <tr>\n",
              "      <th>2</th>\n",
              "      <td>1746.0</td>\n",
              "      <td>8a85890754145ace015429211b513e16</td>\n",
              "      <td>20000.0</td>\n",
              "      <td>NaN</td>\n",
              "      <td>Train</td>\n",
              "      <td>4500.0</td>\n",
              "      <td>31.500000</td>\n",
              "      <td>0.0</td>\n",
              "      <td>0.0</td>\n",
              "      <td>3</td>\n",
              "      <td>2017-07-27 19:00:41.000000</td>\n",
              "      <td>2017-07-27 18:00:35.000000</td>\n",
              "      <td>Good</td>\n",
              "      <td>10000.0</td>\n",
              "      <td>3</td>\n",
              "      <td>0</td>\n",
              "      <td>301999343</td>\n",
              "      <td>15</td>\n",
              "      <td>11500.0</td>\n",
              "    </tr>\n",
              "    <tr>\n",
              "      <th>3</th>\n",
              "      <td>1748.0</td>\n",
              "      <td>8a858970548359cc0154883481981866</td>\n",
              "      <td>150000.0</td>\n",
              "      <td>NaN</td>\n",
              "      <td>Train</td>\n",
              "      <td>38400.0</td>\n",
              "      <td>27.000000</td>\n",
              "      <td>0.0</td>\n",
              "      <td>8.0</td>\n",
              "      <td>4</td>\n",
              "      <td>2017-07-03 23:42:45.000000</td>\n",
              "      <td>2017-07-03 22:42:39.000000</td>\n",
              "      <td>Good</td>\n",
              "      <td>40000.0</td>\n",
              "      <td>9</td>\n",
              "      <td>0</td>\n",
              "      <td>301962360</td>\n",
              "      <td>30</td>\n",
              "      <td>44000.0</td>\n",
              "    </tr>\n",
              "    <tr>\n",
              "      <th>4</th>\n",
              "      <td>1750.0</td>\n",
              "      <td>8a8589f35451855401546b0738c42524</td>\n",
              "      <td>100000.0</td>\n",
              "      <td>NaN</td>\n",
              "      <td>Train</td>\n",
              "      <td>24800.0</td>\n",
              "      <td>24.857143</td>\n",
              "      <td>1.0</td>\n",
              "      <td>4.0</td>\n",
              "      <td>5</td>\n",
              "      <td>2017-07-19 21:46:24.000000</td>\n",
              "      <td>2017-07-19 20:46:18.000000</td>\n",
              "      <td>Good</td>\n",
              "      <td>30000.0</td>\n",
              "      <td>8</td>\n",
              "      <td>0</td>\n",
              "      <td>301986516</td>\n",
              "      <td>60</td>\n",
              "      <td>39000.0</td>\n",
              "    </tr>\n",
              "  </tbody>\n",
              "</table>\n",
              "</div>"
            ],
            "text/plain": [
              "   index_x                        customerid  loanamount_sum referredby_x  \\\n",
              "0   1744.0  8a2a81a74ce8c05d014cfb32a0da1049        200000.0          NaN   \n",
              "1   1745.0  8a8588f35438fe12015444567666018e         60000.0          NaN   \n",
              "2   1746.0  8a85890754145ace015429211b513e16         20000.0          NaN   \n",
              "3   1748.0  8a858970548359cc0154883481981866        150000.0          NaN   \n",
              "4   1750.0  8a8589f35451855401546b0738c42524        100000.0          NaN   \n",
              "\n",
              "     sep  TotalProfit  Avg_pay_interval  Last_pay  No_late_payment  index_y  \\\n",
              "0  Train      42900.0         29.454545       0.0              7.0        0   \n",
              "1  Train      10500.0         18.166667       0.0              5.0        2   \n",
              "2  Train       4500.0         31.500000       0.0              0.0        3   \n",
              "3  Train      38400.0         27.000000       0.0              8.0        4   \n",
              "4  Train      24800.0         24.857143       1.0              4.0        5   \n",
              "\n",
              "                 approveddate                creationdate good_bad_flag  \\\n",
              "0  2017-07-25 08:22:56.000000  2017-07-25 07:22:47.000000          Good   \n",
              "1  2017-07-06 14:52:57.000000  2017-07-06 13:52:51.000000          Good   \n",
              "2  2017-07-27 19:00:41.000000  2017-07-27 18:00:35.000000          Good   \n",
              "3  2017-07-03 23:42:45.000000  2017-07-03 22:42:39.000000          Good   \n",
              "4  2017-07-19 21:46:24.000000  2017-07-19 20:46:18.000000          Good   \n",
              "\n",
              "   loanamount  loannumber  referredby_y  systemloanid  termdays  totaldue  \n",
              "0     30000.0          12             0     301994762        30   34500.0  \n",
              "1     20000.0           7             0     301966580        15   22250.0  \n",
              "2     10000.0           3             0     301999343        15   11500.0  \n",
              "3     40000.0           9             0     301962360        30   44000.0  \n",
              "4     30000.0           8             0     301986516        60   39000.0  "
            ]
          },
          "metadata": {
            "tags": []
          },
          "execution_count": 33
        }
      ]
    },
    {
      "cell_type": "code",
      "metadata": {
        "colab_type": "code",
        "id": "lEDLS_OXSWyR",
        "colab": {}
      },
      "source": [
        "# OR operation (1 if the customer was ever referred, 0 if customer was never referred)\n",
        "# result['referred']=result.referredby_x+result.referredby_y>=1"
      ],
      "execution_count": 0,
      "outputs": []
    },
    {
      "cell_type": "code",
      "metadata": {
        "colab_type": "code",
        "id": "xxmptQItSWyX",
        "colab": {}
      },
      "source": [
        "result['Profit']=result.totaldue-result.loanamount"
      ],
      "execution_count": 0,
      "outputs": []
    },
    {
      "cell_type": "code",
      "metadata": {
        "colab_type": "code",
        "id": "0Wr722wOVLg4",
        "colab": {}
      },
      "source": [
        "# Get total loan amount, total profit and then find the average of both\n",
        "result['loanamount_sum'] = result.loanamount_sum + result.loanamount\n",
        "result[\"Avg_loanamount\"] = result.loanamount_sum/result.loannumber\n",
        "result['TotalProfit'] = result.TotalProfit + result.Profit\n",
        "result[\"Avgprofit\"] = result['TotalProfit']/result.loannumber"
      ],
      "execution_count": 0,
      "outputs": []
    },
    {
      "cell_type": "code",
      "metadata": {
        "colab_type": "code",
        "id": "7DCcY8JrSWye",
        "outputId": "3b3ad221-6b65-428a-902e-6f6704644eea",
        "colab": {
          "base_uri": "https://localhost:8080/",
          "height": 449
        }
      },
      "source": [
        "result.dtypes"
      ],
      "execution_count": 0,
      "outputs": [
        {
          "output_type": "execute_result",
          "data": {
            "text/plain": [
              "index_x             float64\n",
              "customerid           object\n",
              "loanamount_sum      float64\n",
              "referredby_x         object\n",
              "sep                  object\n",
              "TotalProfit         float64\n",
              "Avg_pay_interval    float64\n",
              "Last_pay            float64\n",
              "No_late_payment     float64\n",
              "index_y               int64\n",
              "approveddate         object\n",
              "creationdate         object\n",
              "good_bad_flag        object\n",
              "loanamount          float64\n",
              "loannumber            int64\n",
              "referredby_y          int64\n",
              "systemloanid          int64\n",
              "termdays              int64\n",
              "totaldue            float64\n",
              "Profit              float64\n",
              "Avg_loanamount      float64\n",
              "Avgprofit           float64\n",
              "dtype: object"
            ]
          },
          "metadata": {
            "tags": []
          },
          "execution_count": 38
        }
      ]
    },
    {
      "cell_type": "code",
      "metadata": {
        "colab_type": "code",
        "id": "lRxHVM9gSWyu",
        "outputId": "41be48f7-9ee9-4131-e168-311bb2faaada",
        "colab": {
          "base_uri": "https://localhost:8080/",
          "height": 224
        }
      },
      "source": [
        "newResult=result.drop(columns=['referredby_x','referredby_y','sep', 'referred', 'approveddate','creationdate','systemloanid', 'Profit', 'loanamount', \"index_x\", \"index_y\"])\n",
        "newResult.head()"
      ],
      "execution_count": 0,
      "outputs": [
        {
          "output_type": "execute_result",
          "data": {
            "text/html": [
              "<div>\n",
              "<style scoped>\n",
              "    .dataframe tbody tr th:only-of-type {\n",
              "        vertical-align: middle;\n",
              "    }\n",
              "\n",
              "    .dataframe tbody tr th {\n",
              "        vertical-align: top;\n",
              "    }\n",
              "\n",
              "    .dataframe thead th {\n",
              "        text-align: right;\n",
              "    }\n",
              "</style>\n",
              "<table border=\"1\" class=\"dataframe\">\n",
              "  <thead>\n",
              "    <tr style=\"text-align: right;\">\n",
              "      <th></th>\n",
              "      <th>customerid</th>\n",
              "      <th>loanamount_sum</th>\n",
              "      <th>TotalProfit</th>\n",
              "      <th>Avg_pay_interval</th>\n",
              "      <th>Last_pay</th>\n",
              "      <th>No_late_payment</th>\n",
              "      <th>good_bad_flag</th>\n",
              "      <th>loannumber</th>\n",
              "      <th>termdays</th>\n",
              "      <th>totaldue</th>\n",
              "      <th>Avg_loanamount</th>\n",
              "      <th>Avgprofit</th>\n",
              "    </tr>\n",
              "  </thead>\n",
              "  <tbody>\n",
              "    <tr>\n",
              "      <th>0</th>\n",
              "      <td>8a2a81a74ce8c05d014cfb32a0da1049</td>\n",
              "      <td>230000.0</td>\n",
              "      <td>47400.0</td>\n",
              "      <td>29.454545</td>\n",
              "      <td>0.0</td>\n",
              "      <td>7.0</td>\n",
              "      <td>Good</td>\n",
              "      <td>12</td>\n",
              "      <td>30</td>\n",
              "      <td>34500.0</td>\n",
              "      <td>19166.666667</td>\n",
              "      <td>3950.000000</td>\n",
              "    </tr>\n",
              "    <tr>\n",
              "      <th>1</th>\n",
              "      <td>8a8588f35438fe12015444567666018e</td>\n",
              "      <td>80000.0</td>\n",
              "      <td>12750.0</td>\n",
              "      <td>18.166667</td>\n",
              "      <td>0.0</td>\n",
              "      <td>5.0</td>\n",
              "      <td>Good</td>\n",
              "      <td>7</td>\n",
              "      <td>15</td>\n",
              "      <td>22250.0</td>\n",
              "      <td>11428.571429</td>\n",
              "      <td>1821.428571</td>\n",
              "    </tr>\n",
              "    <tr>\n",
              "      <th>2</th>\n",
              "      <td>8a85890754145ace015429211b513e16</td>\n",
              "      <td>30000.0</td>\n",
              "      <td>6000.0</td>\n",
              "      <td>31.500000</td>\n",
              "      <td>0.0</td>\n",
              "      <td>0.0</td>\n",
              "      <td>Good</td>\n",
              "      <td>3</td>\n",
              "      <td>15</td>\n",
              "      <td>11500.0</td>\n",
              "      <td>10000.000000</td>\n",
              "      <td>2000.000000</td>\n",
              "    </tr>\n",
              "    <tr>\n",
              "      <th>3</th>\n",
              "      <td>8a858970548359cc0154883481981866</td>\n",
              "      <td>190000.0</td>\n",
              "      <td>42400.0</td>\n",
              "      <td>27.000000</td>\n",
              "      <td>0.0</td>\n",
              "      <td>8.0</td>\n",
              "      <td>Good</td>\n",
              "      <td>9</td>\n",
              "      <td>30</td>\n",
              "      <td>44000.0</td>\n",
              "      <td>21111.111111</td>\n",
              "      <td>4711.111111</td>\n",
              "    </tr>\n",
              "    <tr>\n",
              "      <th>4</th>\n",
              "      <td>8a8589f35451855401546b0738c42524</td>\n",
              "      <td>130000.0</td>\n",
              "      <td>33800.0</td>\n",
              "      <td>24.857143</td>\n",
              "      <td>1.0</td>\n",
              "      <td>4.0</td>\n",
              "      <td>Good</td>\n",
              "      <td>8</td>\n",
              "      <td>60</td>\n",
              "      <td>39000.0</td>\n",
              "      <td>16250.000000</td>\n",
              "      <td>4225.000000</td>\n",
              "    </tr>\n",
              "  </tbody>\n",
              "</table>\n",
              "</div>"
            ],
            "text/plain": [
              "                         customerid  loanamount_sum  TotalProfit  \\\n",
              "0  8a2a81a74ce8c05d014cfb32a0da1049        230000.0      47400.0   \n",
              "1  8a8588f35438fe12015444567666018e         80000.0      12750.0   \n",
              "2  8a85890754145ace015429211b513e16         30000.0       6000.0   \n",
              "3  8a858970548359cc0154883481981866        190000.0      42400.0   \n",
              "4  8a8589f35451855401546b0738c42524        130000.0      33800.0   \n",
              "\n",
              "   Avg_pay_interval  Last_pay  No_late_payment good_bad_flag  loannumber  \\\n",
              "0         29.454545       0.0              7.0          Good          12   \n",
              "1         18.166667       0.0              5.0          Good           7   \n",
              "2         31.500000       0.0              0.0          Good           3   \n",
              "3         27.000000       0.0              8.0          Good           9   \n",
              "4         24.857143       1.0              4.0          Good           8   \n",
              "\n",
              "   termdays  totaldue  Avg_loanamount    Avgprofit  \n",
              "0        30   34500.0    19166.666667  3950.000000  \n",
              "1        15   22250.0    11428.571429  1821.428571  \n",
              "2        15   11500.0    10000.000000  2000.000000  \n",
              "3        30   44000.0    21111.111111  4711.111111  \n",
              "4        60   39000.0    16250.000000  4225.000000  "
            ]
          },
          "metadata": {
            "tags": []
          },
          "execution_count": 40
        }
      ]
    },
    {
      "cell_type": "markdown",
      "metadata": {
        "id": "BvW901JZPnqu",
        "colab_type": "text"
      },
      "source": [
        "## Demographics"
      ]
    },
    {
      "cell_type": "markdown",
      "metadata": {
        "id": "Bb76YA2RPnqw",
        "colab_type": "text"
      },
      "source": [
        "### Get customer age and then age group"
      ]
    },
    {
      "cell_type": "code",
      "metadata": {
        "colab_type": "code",
        "id": "ZurW73UDSWy2",
        "colab": {}
      },
      "source": [
        "import datetime\n",
        "Tdemographics['Today']=\"2018-10-12\"\n",
        "Tdemographics['Age']=(Tdemographics['Today'].astype('datetime64')-Tdemographics['birthdate'].astype('datetime64'))"
      ],
      "execution_count": 0,
      "outputs": []
    },
    {
      "cell_type": "code",
      "metadata": {
        "colab_type": "code",
        "id": "PwpGI9MziHfW",
        "colab": {}
      },
      "source": [
        "Tdemographics['Age']=Tdemographics['Age'].apply(lambda x:int(str(x)[:-13].strip()))"
      ],
      "execution_count": 0,
      "outputs": []
    },
    {
      "cell_type": "code",
      "metadata": {
        "colab_type": "code",
        "id": "45HcT1F9jBzx",
        "colab": {}
      },
      "source": [
        "Tdemographics['Age']=Tdemographics['Age']//365"
      ],
      "execution_count": 0,
      "outputs": []
    },
    {
      "cell_type": "code",
      "metadata": {
        "colab_type": "code",
        "id": "ECeVfy7ASWzG",
        "colab": {}
      },
      "source": [
        "Tdemographics.drop(['Today', 'birthdate', 'bank_branch_clients', 'level_of_education_clients'], axis=1, inplace=True)"
      ],
      "execution_count": 0,
      "outputs": []
    },
    {
      "cell_type": "code",
      "metadata": {
        "colab_type": "code",
        "id": "_GZtFNiubnnI",
        "colab": {}
      },
      "source": [
        "Tdemographics=Tdemographics.drop_duplicates(subset=['customerid'], keep='last')"
      ],
      "execution_count": 0,
      "outputs": []
    },
    {
      "cell_type": "code",
      "metadata": {
        "colab_type": "code",
        "id": "i3WOIMsXgl8Q",
        "outputId": "388fbfad-5ae1-4abc-93a3-9f3200b19bde",
        "colab": {
          "base_uri": "https://localhost:8080/",
          "height": 179
        }
      },
      "source": [
        "Tdemographics.apply(lambda x: sum(x.isnull()))"
      ],
      "execution_count": 0,
      "outputs": [
        {
          "output_type": "execute_result",
          "data": {
            "text/plain": [
              "customerid                     0\n",
              "bank_account_type              0\n",
              "longitude_gps                  0\n",
              "latitude_gps                   0\n",
              "bank_name_clients              0\n",
              "employment_status_clients    865\n",
              "sep                            0\n",
              "Age                            0\n",
              "dtype: int64"
            ]
          },
          "metadata": {
            "tags": []
          },
          "execution_count": 46
        }
      ]
    },
    {
      "cell_type": "code",
      "metadata": {
        "colab_type": "code",
        "id": "xh0hbOtOmLWB",
        "outputId": "b3f74d03-f0a8-4466-c545-75be79d4c3af",
        "colab": {
          "base_uri": "https://localhost:8080/",
          "height": 35
        }
      },
      "source": [
        "Tdemographics.bank_account_type.unique()"
      ],
      "execution_count": 0,
      "outputs": [
        {
          "output_type": "execute_result",
          "data": {
            "text/plain": [
              "array(['Savings', 'Other', 'Current'], dtype=object)"
            ]
          },
          "metadata": {
            "tags": []
          },
          "execution_count": 47
        }
      ]
    },
    {
      "cell_type": "code",
      "metadata": {
        "colab_type": "code",
        "id": "r6FTa99whYkD",
        "colab": {}
      },
      "source": [
        "# Fill NaN values with 'others'\n",
        "Tdemographics.employment_status_clients.fillna('Uknown',inplace=True)"
      ],
      "execution_count": 0,
      "outputs": []
    },
    {
      "cell_type": "code",
      "metadata": {
        "colab_type": "code",
        "id": "OwCTbPnAk_Q9",
        "colab": {}
      },
      "source": [
        "# Merge Demographics with Performance\n",
        "result = pd.merge(newResult.reset_index(), Tdemographics.reset_index(),on=['customerid'], how='outer')"
      ],
      "execution_count": 0,
      "outputs": []
    },
    {
      "cell_type": "code",
      "metadata": {
        "colab_type": "code",
        "id": "PObKgDv3mbzO",
        "colab": {}
      },
      "source": [
        "result.drop(columns=['index_y','index_x','index_y'],inplace=True)"
      ],
      "execution_count": 0,
      "outputs": []
    },
    {
      "cell_type": "code",
      "metadata": {
        "colab_type": "code",
        "id": "XO06wLevd0Av",
        "outputId": "6fb867ff-91e7-4b89-de1b-71e6076b4fa7",
        "colab": {
          "base_uri": "https://localhost:8080/",
          "height": 224
        }
      },
      "source": [
        "result.head()"
      ],
      "execution_count": 0,
      "outputs": [
        {
          "output_type": "execute_result",
          "data": {
            "text/html": [
              "<div>\n",
              "<style scoped>\n",
              "    .dataframe tbody tr th:only-of-type {\n",
              "        vertical-align: middle;\n",
              "    }\n",
              "\n",
              "    .dataframe tbody tr th {\n",
              "        vertical-align: top;\n",
              "    }\n",
              "\n",
              "    .dataframe thead th {\n",
              "        text-align: right;\n",
              "    }\n",
              "</style>\n",
              "<table border=\"1\" class=\"dataframe\">\n",
              "  <thead>\n",
              "    <tr style=\"text-align: right;\">\n",
              "      <th></th>\n",
              "      <th>customerid</th>\n",
              "      <th>loanamount_sum</th>\n",
              "      <th>TotalProfit</th>\n",
              "      <th>Avg_pay_interval</th>\n",
              "      <th>Last_pay</th>\n",
              "      <th>No_late_payment</th>\n",
              "      <th>good_bad_flag</th>\n",
              "      <th>loannumber</th>\n",
              "      <th>termdays</th>\n",
              "      <th>totaldue</th>\n",
              "      <th>Avg_loanamount</th>\n",
              "      <th>Avgprofit</th>\n",
              "      <th>bank_account_type</th>\n",
              "      <th>longitude_gps</th>\n",
              "      <th>latitude_gps</th>\n",
              "      <th>bank_name_clients</th>\n",
              "      <th>employment_status_clients</th>\n",
              "      <th>sep</th>\n",
              "      <th>Age</th>\n",
              "    </tr>\n",
              "  </thead>\n",
              "  <tbody>\n",
              "    <tr>\n",
              "      <th>0</th>\n",
              "      <td>8a2a81a74ce8c05d014cfb32a0da1049</td>\n",
              "      <td>230000.0</td>\n",
              "      <td>47400.0</td>\n",
              "      <td>29.454545</td>\n",
              "      <td>0.0</td>\n",
              "      <td>7.0</td>\n",
              "      <td>Good</td>\n",
              "      <td>12</td>\n",
              "      <td>30</td>\n",
              "      <td>34500.0</td>\n",
              "      <td>19166.666667</td>\n",
              "      <td>3950.000000</td>\n",
              "      <td>Other</td>\n",
              "      <td>3.432010</td>\n",
              "      <td>6.433055</td>\n",
              "      <td>Diamond Bank</td>\n",
              "      <td>Permanent</td>\n",
              "      <td>Train</td>\n",
              "      <td>46</td>\n",
              "    </tr>\n",
              "    <tr>\n",
              "      <th>1</th>\n",
              "      <td>8a8588f35438fe12015444567666018e</td>\n",
              "      <td>80000.0</td>\n",
              "      <td>12750.0</td>\n",
              "      <td>18.166667</td>\n",
              "      <td>0.0</td>\n",
              "      <td>5.0</td>\n",
              "      <td>Good</td>\n",
              "      <td>7</td>\n",
              "      <td>15</td>\n",
              "      <td>22250.0</td>\n",
              "      <td>11428.571429</td>\n",
              "      <td>1821.428571</td>\n",
              "      <td>Other</td>\n",
              "      <td>11.139350</td>\n",
              "      <td>10.292041</td>\n",
              "      <td>EcoBank</td>\n",
              "      <td>Permanent</td>\n",
              "      <td>Train</td>\n",
              "      <td>34</td>\n",
              "    </tr>\n",
              "    <tr>\n",
              "      <th>2</th>\n",
              "      <td>8a85890754145ace015429211b513e16</td>\n",
              "      <td>30000.0</td>\n",
              "      <td>6000.0</td>\n",
              "      <td>31.500000</td>\n",
              "      <td>0.0</td>\n",
              "      <td>0.0</td>\n",
              "      <td>Good</td>\n",
              "      <td>3</td>\n",
              "      <td>15</td>\n",
              "      <td>11500.0</td>\n",
              "      <td>10000.000000</td>\n",
              "      <td>2000.000000</td>\n",
              "      <td>Savings</td>\n",
              "      <td>3.985770</td>\n",
              "      <td>7.491708</td>\n",
              "      <td>First Bank</td>\n",
              "      <td>Permanent</td>\n",
              "      <td>Train</td>\n",
              "      <td>41</td>\n",
              "    </tr>\n",
              "    <tr>\n",
              "      <th>3</th>\n",
              "      <td>8a858970548359cc0154883481981866</td>\n",
              "      <td>190000.0</td>\n",
              "      <td>42400.0</td>\n",
              "      <td>27.000000</td>\n",
              "      <td>0.0</td>\n",
              "      <td>8.0</td>\n",
              "      <td>Good</td>\n",
              "      <td>9</td>\n",
              "      <td>30</td>\n",
              "      <td>44000.0</td>\n",
              "      <td>21111.111111</td>\n",
              "      <td>4711.111111</td>\n",
              "      <td>Other</td>\n",
              "      <td>7.457913</td>\n",
              "      <td>9.076574</td>\n",
              "      <td>GT Bank</td>\n",
              "      <td>Permanent</td>\n",
              "      <td>Train</td>\n",
              "      <td>32</td>\n",
              "    </tr>\n",
              "    <tr>\n",
              "      <th>4</th>\n",
              "      <td>8a8589f35451855401546b0738c42524</td>\n",
              "      <td>130000.0</td>\n",
              "      <td>33800.0</td>\n",
              "      <td>24.857143</td>\n",
              "      <td>1.0</td>\n",
              "      <td>4.0</td>\n",
              "      <td>Good</td>\n",
              "      <td>8</td>\n",
              "      <td>60</td>\n",
              "      <td>39000.0</td>\n",
              "      <td>16250.000000</td>\n",
              "      <td>4225.000000</td>\n",
              "      <td>Savings</td>\n",
              "      <td>3.311982</td>\n",
              "      <td>6.633271</td>\n",
              "      <td>Access Bank</td>\n",
              "      <td>Permanent</td>\n",
              "      <td>Test</td>\n",
              "      <td>45</td>\n",
              "    </tr>\n",
              "  </tbody>\n",
              "</table>\n",
              "</div>"
            ],
            "text/plain": [
              "                         customerid  loanamount_sum  TotalProfit  \\\n",
              "0  8a2a81a74ce8c05d014cfb32a0da1049        230000.0      47400.0   \n",
              "1  8a8588f35438fe12015444567666018e         80000.0      12750.0   \n",
              "2  8a85890754145ace015429211b513e16         30000.0       6000.0   \n",
              "3  8a858970548359cc0154883481981866        190000.0      42400.0   \n",
              "4  8a8589f35451855401546b0738c42524        130000.0      33800.0   \n",
              "\n",
              "   Avg_pay_interval  Last_pay  No_late_payment good_bad_flag  loannumber  \\\n",
              "0         29.454545       0.0              7.0          Good          12   \n",
              "1         18.166667       0.0              5.0          Good           7   \n",
              "2         31.500000       0.0              0.0          Good           3   \n",
              "3         27.000000       0.0              8.0          Good           9   \n",
              "4         24.857143       1.0              4.0          Good           8   \n",
              "\n",
              "   termdays  totaldue  Avg_loanamount    Avgprofit bank_account_type  \\\n",
              "0        30   34500.0    19166.666667  3950.000000             Other   \n",
              "1        15   22250.0    11428.571429  1821.428571             Other   \n",
              "2        15   11500.0    10000.000000  2000.000000           Savings   \n",
              "3        30   44000.0    21111.111111  4711.111111             Other   \n",
              "4        60   39000.0    16250.000000  4225.000000           Savings   \n",
              "\n",
              "   longitude_gps  latitude_gps bank_name_clients employment_status_clients  \\\n",
              "0       3.432010      6.433055      Diamond Bank                 Permanent   \n",
              "1      11.139350     10.292041           EcoBank                 Permanent   \n",
              "2       3.985770      7.491708        First Bank                 Permanent   \n",
              "3       7.457913      9.076574           GT Bank                 Permanent   \n",
              "4       3.311982      6.633271       Access Bank                 Permanent   \n",
              "\n",
              "     sep  Age  \n",
              "0  Train   46  \n",
              "1  Train   34  \n",
              "2  Train   41  \n",
              "3  Train   32  \n",
              "4   Test   45  "
            ]
          },
          "metadata": {
            "tags": []
          },
          "execution_count": 51
        }
      ]
    },
    {
      "cell_type": "code",
      "metadata": {
        "colab_type": "code",
        "id": "eJ4Q1FTntqHc",
        "colab": {}
      },
      "source": [
        "# Categorize age into 3 groups\n",
        "result.Age = result.Age.apply(lambda x:0 if x in range(0, 18) else 1 if x in range(18, 35) else 3)"
      ],
      "execution_count": 0,
      "outputs": []
    },
    {
      "cell_type": "code",
      "metadata": {
        "colab_type": "code",
        "id": "vkBtu7f-euOE",
        "outputId": "64d1a162-4937-46e9-d1eb-cdf4899d860b",
        "colab": {
          "base_uri": "https://localhost:8080/",
          "height": 377
        }
      },
      "source": [
        "result.apply(lambda x: sum(x.isnull()))"
      ],
      "execution_count": 0,
      "outputs": [
        {
          "output_type": "execute_result",
          "data": {
            "text/plain": [
              "customerid                      0\n",
              "loanamount_sum                 17\n",
              "TotalProfit                    17\n",
              "Avg_pay_interval               17\n",
              "Last_pay                       17\n",
              "No_late_payment                17\n",
              "good_bad_flag                1450\n",
              "loannumber                      0\n",
              "termdays                        0\n",
              "totaldue                        0\n",
              "Avg_loanamount                 17\n",
              "Avgprofit                      17\n",
              "bank_account_type               0\n",
              "longitude_gps                   0\n",
              "latitude_gps                    0\n",
              "bank_name_clients               0\n",
              "employment_status_clients       0\n",
              "sep                             0\n",
              "Age                             0\n",
              "dtype: int64"
            ]
          },
          "metadata": {
            "tags": []
          },
          "execution_count": 53
        }
      ]
    },
    {
      "cell_type": "code",
      "metadata": {
        "colab_type": "code",
        "id": "nb1cIiRMmaCt",
        "colab": {}
      },
      "source": [
        "# Fill info for new customers with 0\n",
        "\n",
        "result.TotalProfit.fillna(0,inplace=True)\n",
        "result.Avg_loanamount.fillna(0,inplace=True)\n",
        "result.No_late_payment.fillna(0,inplace=True)\n",
        "result.loanamount_sum.fillna(0,inplace=True)\n",
        "result.Avg_pay_interval.fillna(0,inplace=True)\n",
        "result.Last_pay.fillna(0,inplace=True)\n",
        "result.Avgprofit.fillna(0,inplace=True)"
      ],
      "execution_count": 0,
      "outputs": []
    },
    {
      "cell_type": "code",
      "metadata": {
        "colab_type": "code",
        "id": "krFlKG6431dm",
        "colab": {}
      },
      "source": [
        "# Change column datatype to int64\n",
        "result[\"Last_pay\"]=result.Last_pay.astype('int64')\n",
        "result.No_late_payment=result.No_late_payment.astype('int64')"
      ],
      "execution_count": 0,
      "outputs": []
    },
    {
      "cell_type": "code",
      "metadata": {
        "colab_type": "code",
        "id": "qfO-dW9cg0RI",
        "outputId": "87144bf7-5032-4f6a-edfc-1de18df2b9af",
        "colab": {
          "base_uri": "https://localhost:8080/",
          "height": 377
        }
      },
      "source": [
        "result.dtypes"
      ],
      "execution_count": 0,
      "outputs": [
        {
          "output_type": "execute_result",
          "data": {
            "text/plain": [
              "customerid                    object\n",
              "loanamount_sum               float64\n",
              "TotalProfit                  float64\n",
              "Avg_pay_interval             float64\n",
              "Last_pay                       int64\n",
              "No_late_payment                int64\n",
              "good_bad_flag                 object\n",
              "loannumber                     int64\n",
              "termdays                       int64\n",
              "totaldue                     float64\n",
              "Avg_loanamount               float64\n",
              "Avgprofit                    float64\n",
              "bank_account_type             object\n",
              "longitude_gps                float64\n",
              "latitude_gps                 float64\n",
              "bank_name_clients             object\n",
              "employment_status_clients     object\n",
              "sep                           object\n",
              "Age                            int64\n",
              "dtype: object"
            ]
          },
          "metadata": {
            "tags": []
          },
          "execution_count": 56
        }
      ]
    },
    {
      "cell_type": "code",
      "metadata": {
        "colab_type": "code",
        "id": "bGIS0QVoiZMu",
        "colab": {}
      },
      "source": [
        "result = result.drop(['longitude_gps','latitude_gps','bank_name_clients', 'sep'],axis=1)"
      ],
      "execution_count": 0,
      "outputs": []
    },
    {
      "cell_type": "markdown",
      "metadata": {
        "id": "VhkLaW48PnsV",
        "colab_type": "text"
      },
      "source": [
        "## Creating dummy variables for Categorical Data"
      ]
    },
    {
      "cell_type": "code",
      "metadata": {
        "colab_type": "code",
        "id": "ntBb14q1oy9-",
        "colab": {}
      },
      "source": [
        "#Import library:\n",
        "from sklearn.preprocessing import LabelEncoder\n",
        "#New variable for Supermarket\n",
        "var_mod = ['bank_account_type','employment_status_clients', 'customerid']\n",
        "le = LabelEncoder()\n",
        "for i in var_mod:\n",
        "    result[i] = le.fit_transform(result[i])"
      ],
      "execution_count": 0,
      "outputs": []
    },
    {
      "cell_type": "code",
      "metadata": {
        "colab_type": "code",
        "id": "BAi6jS7G7KXH",
        "colab": {}
      },
      "source": [
        "#One Hot Coding:\n",
        "result = pd.get_dummies(result, columns=['bank_account_type', 'employment_status_clients', 'customerid'])"
      ],
      "execution_count": 0,
      "outputs": []
    },
    {
      "cell_type": "code",
      "metadata": {
        "colab_type": "code",
        "id": "6bMyhm3i6WM5",
        "colab": {}
      },
      "source": [
        "# Separate train and test data\n",
        "Train=result.loc[result.good_bad_flag.notnull()]\n",
        "Test=result.loc[result.good_bad_flag.isnull()]"
      ],
      "execution_count": 0,
      "outputs": []
    },
    {
      "cell_type": "code",
      "metadata": {
        "colab_type": "code",
        "id": "MWtHUJ9Q2j7m",
        "outputId": "0760a349-9f15-429a-e112-d26c79319dd1",
        "colab": {
          "base_uri": "https://localhost:8080/",
          "height": 35
        }
      },
      "source": [
        "Train.good_bad_flag.unique()"
      ],
      "execution_count": 0,
      "outputs": [
        {
          "output_type": "execute_result",
          "data": {
            "text/plain": [
              "array(['Good', 'Bad'], dtype=object)"
            ]
          },
          "metadata": {
            "tags": []
          },
          "execution_count": 73
        }
      ]
    },
    {
      "cell_type": "code",
      "metadata": {
        "colab_type": "code",
        "id": "CGJhOWHFkJmJ",
        "outputId": "7164380f-4e92-497a-9c5b-d3d71a0c5bb1",
        "colab": {
          "base_uri": "https://localhost:8080/",
          "height": 361
        }
      },
      "source": [
        "# Convert the \"good_bad_flag\" column to numerical\n",
        "Train[\"good_bad_flag\"] = Train[\"good_bad_flag\"].map({'Good':1, 'Bad':0})\n",
        "Train.tail()"
      ],
      "execution_count": 0,
      "outputs": [
        {
          "output_type": "stream",
          "text": [
            "/home/stanley/anaconda3/lib/python3.6/site-packages/ipykernel_launcher.py:2: SettingWithCopyWarning: \n",
            "A value is trying to be set on a copy of a slice from a DataFrame.\n",
            "Try using .loc[row_indexer,col_indexer] = value instead\n",
            "\n",
            "See the caveats in the documentation: http://pandas.pydata.org/pandas-docs/stable/indexing.html#indexing-view-versus-copy\n",
            "  \n"
          ],
          "name": "stderr"
        },
        {
          "output_type": "execute_result",
          "data": {
            "text/html": [
              "<div>\n",
              "<style scoped>\n",
              "    .dataframe tbody tr th:only-of-type {\n",
              "        vertical-align: middle;\n",
              "    }\n",
              "\n",
              "    .dataframe tbody tr th {\n",
              "        vertical-align: top;\n",
              "    }\n",
              "\n",
              "    .dataframe thead th {\n",
              "        text-align: right;\n",
              "    }\n",
              "</style>\n",
              "<table border=\"1\" class=\"dataframe\">\n",
              "  <thead>\n",
              "    <tr style=\"text-align: right;\">\n",
              "      <th></th>\n",
              "      <th>loanamount_sum</th>\n",
              "      <th>TotalProfit</th>\n",
              "      <th>Avg_pay_interval</th>\n",
              "      <th>Last_pay</th>\n",
              "      <th>No_late_payment</th>\n",
              "      <th>good_bad_flag</th>\n",
              "      <th>loannumber</th>\n",
              "      <th>termdays</th>\n",
              "      <th>totaldue</th>\n",
              "      <th>Avg_loanamount</th>\n",
              "      <th>...</th>\n",
              "      <th>customerid_5808</th>\n",
              "      <th>customerid_5809</th>\n",
              "      <th>customerid_5810</th>\n",
              "      <th>customerid_5811</th>\n",
              "      <th>customerid_5812</th>\n",
              "      <th>customerid_5813</th>\n",
              "      <th>customerid_5814</th>\n",
              "      <th>customerid_5815</th>\n",
              "      <th>customerid_5816</th>\n",
              "      <th>customerid_5817</th>\n",
              "    </tr>\n",
              "  </thead>\n",
              "  <tbody>\n",
              "    <tr>\n",
              "      <th>5805</th>\n",
              "      <td>0.0</td>\n",
              "      <td>0.0</td>\n",
              "      <td>0.0</td>\n",
              "      <td>0</td>\n",
              "      <td>0</td>\n",
              "      <td>1</td>\n",
              "      <td>6</td>\n",
              "      <td>30</td>\n",
              "      <td>11000.0</td>\n",
              "      <td>0.0</td>\n",
              "      <td>...</td>\n",
              "      <td>0</td>\n",
              "      <td>0</td>\n",
              "      <td>0</td>\n",
              "      <td>0</td>\n",
              "      <td>0</td>\n",
              "      <td>0</td>\n",
              "      <td>0</td>\n",
              "      <td>0</td>\n",
              "      <td>0</td>\n",
              "      <td>0</td>\n",
              "    </tr>\n",
              "    <tr>\n",
              "      <th>5806</th>\n",
              "      <td>0.0</td>\n",
              "      <td>0.0</td>\n",
              "      <td>0.0</td>\n",
              "      <td>0</td>\n",
              "      <td>0</td>\n",
              "      <td>1</td>\n",
              "      <td>2</td>\n",
              "      <td>30</td>\n",
              "      <td>13000.0</td>\n",
              "      <td>0.0</td>\n",
              "      <td>...</td>\n",
              "      <td>0</td>\n",
              "      <td>0</td>\n",
              "      <td>0</td>\n",
              "      <td>0</td>\n",
              "      <td>0</td>\n",
              "      <td>0</td>\n",
              "      <td>0</td>\n",
              "      <td>0</td>\n",
              "      <td>0</td>\n",
              "      <td>0</td>\n",
              "    </tr>\n",
              "    <tr>\n",
              "      <th>5807</th>\n",
              "      <td>0.0</td>\n",
              "      <td>0.0</td>\n",
              "      <td>0.0</td>\n",
              "      <td>0</td>\n",
              "      <td>0</td>\n",
              "      <td>0</td>\n",
              "      <td>2</td>\n",
              "      <td>30</td>\n",
              "      <td>13000.0</td>\n",
              "      <td>0.0</td>\n",
              "      <td>...</td>\n",
              "      <td>0</td>\n",
              "      <td>0</td>\n",
              "      <td>0</td>\n",
              "      <td>0</td>\n",
              "      <td>0</td>\n",
              "      <td>0</td>\n",
              "      <td>0</td>\n",
              "      <td>0</td>\n",
              "      <td>0</td>\n",
              "      <td>0</td>\n",
              "    </tr>\n",
              "    <tr>\n",
              "      <th>5808</th>\n",
              "      <td>0.0</td>\n",
              "      <td>0.0</td>\n",
              "      <td>0.0</td>\n",
              "      <td>0</td>\n",
              "      <td>0</td>\n",
              "      <td>1</td>\n",
              "      <td>2</td>\n",
              "      <td>15</td>\n",
              "      <td>11500.0</td>\n",
              "      <td>0.0</td>\n",
              "      <td>...</td>\n",
              "      <td>0</td>\n",
              "      <td>0</td>\n",
              "      <td>0</td>\n",
              "      <td>0</td>\n",
              "      <td>0</td>\n",
              "      <td>0</td>\n",
              "      <td>0</td>\n",
              "      <td>0</td>\n",
              "      <td>0</td>\n",
              "      <td>0</td>\n",
              "    </tr>\n",
              "    <tr>\n",
              "      <th>5809</th>\n",
              "      <td>0.0</td>\n",
              "      <td>0.0</td>\n",
              "      <td>0.0</td>\n",
              "      <td>0</td>\n",
              "      <td>0</td>\n",
              "      <td>1</td>\n",
              "      <td>2</td>\n",
              "      <td>30</td>\n",
              "      <td>13000.0</td>\n",
              "      <td>0.0</td>\n",
              "      <td>...</td>\n",
              "      <td>0</td>\n",
              "      <td>0</td>\n",
              "      <td>0</td>\n",
              "      <td>0</td>\n",
              "      <td>0</td>\n",
              "      <td>0</td>\n",
              "      <td>0</td>\n",
              "      <td>0</td>\n",
              "      <td>0</td>\n",
              "      <td>0</td>\n",
              "    </tr>\n",
              "  </tbody>\n",
              "</table>\n",
              "<p>5 rows × 5840 columns</p>\n",
              "</div>"
            ],
            "text/plain": [
              "      loanamount_sum  TotalProfit  Avg_pay_interval  Last_pay  \\\n",
              "5805             0.0          0.0               0.0         0   \n",
              "5806             0.0          0.0               0.0         0   \n",
              "5807             0.0          0.0               0.0         0   \n",
              "5808             0.0          0.0               0.0         0   \n",
              "5809             0.0          0.0               0.0         0   \n",
              "\n",
              "      No_late_payment  good_bad_flag  loannumber  termdays  totaldue  \\\n",
              "5805                0              1           6        30   11000.0   \n",
              "5806                0              1           2        30   13000.0   \n",
              "5807                0              0           2        30   13000.0   \n",
              "5808                0              1           2        15   11500.0   \n",
              "5809                0              1           2        30   13000.0   \n",
              "\n",
              "      Avg_loanamount       ...         customerid_5808  customerid_5809  \\\n",
              "5805             0.0       ...                       0                0   \n",
              "5806             0.0       ...                       0                0   \n",
              "5807             0.0       ...                       0                0   \n",
              "5808             0.0       ...                       0                0   \n",
              "5809             0.0       ...                       0                0   \n",
              "\n",
              "      customerid_5810  customerid_5811  customerid_5812  customerid_5813  \\\n",
              "5805                0                0                0                0   \n",
              "5806                0                0                0                0   \n",
              "5807                0                0                0                0   \n",
              "5808                0                0                0                0   \n",
              "5809                0                0                0                0   \n",
              "\n",
              "      customerid_5814  customerid_5815  customerid_5816  customerid_5817  \n",
              "5805                0                0                0                0  \n",
              "5806                0                0                0                0  \n",
              "5807                0                0                0                0  \n",
              "5808                0                0                0                0  \n",
              "5809                0                0                0                0  \n",
              "\n",
              "[5 rows x 5840 columns]"
            ]
          },
          "metadata": {
            "tags": []
          },
          "execution_count": 75
        }
      ]
    },
    {
      "cell_type": "code",
      "metadata": {
        "colab_type": "code",
        "id": "_eq-CgpL7APc",
        "colab": {}
      },
      "source": [
        "Train.to_csv('Train.csv',index=False)\n",
        "Test.to_csv('Test.csv',index=False)"
      ],
      "execution_count": 0,
      "outputs": []
    },
    {
      "cell_type": "markdown",
      "metadata": {
        "id": "7B_5WWpmPnsu",
        "colab_type": "text"
      },
      "source": [
        "# At this point, Azure is the way forward"
      ]
    },
    {
      "cell_type": "markdown",
      "metadata": {
        "colab_type": "text",
        "id": "KByLi5_d94pj"
      },
      "source": [
        "## Model Training"
      ]
    },
    {
      "cell_type": "code",
      "metadata": {
        "colab_type": "code",
        "id": "FNRseBGgBwWS",
        "colab": {}
      },
      "source": [
        "import numpy as np # linear algebra\n",
        "import pandas as pd # data processing, CSV file I/O (e.g. pd.read_csv)\n",
        "import xgboost as xgb\n",
        "from sklearn.cross_validation import train_test_split\n",
        "import matplotlib.pyplot as plt\n",
        "import seaborn as sns\n",
        "sns.set()"
      ],
      "execution_count": 0,
      "outputs": []
    },
    {
      "cell_type": "code",
      "metadata": {
        "colab_type": "code",
        "id": "oO2NgxE7992s",
        "colab": {}
      },
      "source": [
        "train = pd.read_csv(\"Train.csv\")\n",
        "test = pd.read_csv(\"Test.csv\")"
      ],
      "execution_count": 0,
      "outputs": []
    },
    {
      "cell_type": "code",
      "metadata": {
        "id": "_vCEssNHPns3",
        "colab_type": "code",
        "outputId": "67fd6578-aab7-47fc-906f-ae9df9779c72",
        "colab": {}
      },
      "source": [
        "train.dtypes"
      ],
      "execution_count": 0,
      "outputs": [
        {
          "output_type": "execute_result",
          "data": {
            "text/plain": [
              "loanamount_sum                 float64\n",
              "TotalProfit                    float64\n",
              "Avg_pay_interval               float64\n",
              "Last_pay                         int64\n",
              "No_late_payment                  int64\n",
              "good_bad_flag                    int64\n",
              "loannumber                       int64\n",
              "termdays                         int64\n",
              "totaldue                       float64\n",
              "Avg_loanamount                 float64\n",
              "Avgprofit                      float64\n",
              "Age                              int64\n",
              "bank_account_type_0              int64\n",
              "bank_account_type_1              int64\n",
              "bank_account_type_2              int64\n",
              "employment_status_clients_0      int64\n",
              "employment_status_clients_1      int64\n",
              "employment_status_clients_2      int64\n",
              "employment_status_clients_3      int64\n",
              "employment_status_clients_4      int64\n",
              "employment_status_clients_5      int64\n",
              "employment_status_clients_6      int64\n",
              "customerid_0                     int64\n",
              "customerid_1                     int64\n",
              "customerid_2                     int64\n",
              "customerid_3                     int64\n",
              "customerid_4                     int64\n",
              "customerid_5                     int64\n",
              "customerid_6                     int64\n",
              "customerid_7                     int64\n",
              "                                ...   \n",
              "customerid_5788                  int64\n",
              "customerid_5789                  int64\n",
              "customerid_5790                  int64\n",
              "customerid_5791                  int64\n",
              "customerid_5792                  int64\n",
              "customerid_5793                  int64\n",
              "customerid_5794                  int64\n",
              "customerid_5795                  int64\n",
              "customerid_5796                  int64\n",
              "customerid_5797                  int64\n",
              "customerid_5798                  int64\n",
              "customerid_5799                  int64\n",
              "customerid_5800                  int64\n",
              "customerid_5801                  int64\n",
              "customerid_5802                  int64\n",
              "customerid_5803                  int64\n",
              "customerid_5804                  int64\n",
              "customerid_5805                  int64\n",
              "customerid_5806                  int64\n",
              "customerid_5807                  int64\n",
              "customerid_5808                  int64\n",
              "customerid_5809                  int64\n",
              "customerid_5810                  int64\n",
              "customerid_5811                  int64\n",
              "customerid_5812                  int64\n",
              "customerid_5813                  int64\n",
              "customerid_5814                  int64\n",
              "customerid_5815                  int64\n",
              "customerid_5816                  int64\n",
              "customerid_5817                  int64\n",
              "Length: 5840, dtype: object"
            ]
          },
          "metadata": {
            "tags": []
          },
          "execution_count": 141
        }
      ]
    },
    {
      "cell_type": "code",
      "metadata": {
        "colab_type": "code",
        "id": "x53SWF0eTWfG",
        "colab": {}
      },
      "source": [
        "test.drop('good_bad_flag', axis=1, inplace=True)"
      ],
      "execution_count": 0,
      "outputs": []
    },
    {
      "cell_type": "code",
      "metadata": {
        "colab_type": "code",
        "id": "0q9YFSpPGxMh",
        "outputId": "5e834af0-930e-44a5-e77d-2cc7cf039adf",
        "colab": {
          "base_uri": "https://localhost:8080/",
          "height": 246
        }
      },
      "source": [
        "train.head()"
      ],
      "execution_count": 0,
      "outputs": [
        {
          "output_type": "execute_result",
          "data": {
            "text/html": [
              "<div>\n",
              "<style scoped>\n",
              "    .dataframe tbody tr th:only-of-type {\n",
              "        vertical-align: middle;\n",
              "    }\n",
              "\n",
              "    .dataframe tbody tr th {\n",
              "        vertical-align: top;\n",
              "    }\n",
              "\n",
              "    .dataframe thead th {\n",
              "        text-align: right;\n",
              "    }\n",
              "</style>\n",
              "<table border=\"1\" class=\"dataframe\">\n",
              "  <thead>\n",
              "    <tr style=\"text-align: right;\">\n",
              "      <th></th>\n",
              "      <th>loanamount_sum</th>\n",
              "      <th>TotalProfit</th>\n",
              "      <th>Avg_pay_interval</th>\n",
              "      <th>Last_pay</th>\n",
              "      <th>No_late_payment</th>\n",
              "      <th>good_bad_flag</th>\n",
              "      <th>loannumber</th>\n",
              "      <th>termdays</th>\n",
              "      <th>totaldue</th>\n",
              "      <th>Avg_loanamount</th>\n",
              "      <th>...</th>\n",
              "      <th>customerid_5808</th>\n",
              "      <th>customerid_5809</th>\n",
              "      <th>customerid_5810</th>\n",
              "      <th>customerid_5811</th>\n",
              "      <th>customerid_5812</th>\n",
              "      <th>customerid_5813</th>\n",
              "      <th>customerid_5814</th>\n",
              "      <th>customerid_5815</th>\n",
              "      <th>customerid_5816</th>\n",
              "      <th>customerid_5817</th>\n",
              "    </tr>\n",
              "  </thead>\n",
              "  <tbody>\n",
              "    <tr>\n",
              "      <th>0</th>\n",
              "      <td>230000.0</td>\n",
              "      <td>47400.0</td>\n",
              "      <td>29.454545</td>\n",
              "      <td>0</td>\n",
              "      <td>7</td>\n",
              "      <td>1</td>\n",
              "      <td>12</td>\n",
              "      <td>30</td>\n",
              "      <td>34500.0</td>\n",
              "      <td>19166.666667</td>\n",
              "      <td>...</td>\n",
              "      <td>0</td>\n",
              "      <td>0</td>\n",
              "      <td>0</td>\n",
              "      <td>0</td>\n",
              "      <td>0</td>\n",
              "      <td>0</td>\n",
              "      <td>0</td>\n",
              "      <td>0</td>\n",
              "      <td>0</td>\n",
              "      <td>0</td>\n",
              "    </tr>\n",
              "    <tr>\n",
              "      <th>1</th>\n",
              "      <td>80000.0</td>\n",
              "      <td>12750.0</td>\n",
              "      <td>18.166667</td>\n",
              "      <td>0</td>\n",
              "      <td>5</td>\n",
              "      <td>1</td>\n",
              "      <td>7</td>\n",
              "      <td>15</td>\n",
              "      <td>22250.0</td>\n",
              "      <td>11428.571429</td>\n",
              "      <td>...</td>\n",
              "      <td>0</td>\n",
              "      <td>0</td>\n",
              "      <td>0</td>\n",
              "      <td>0</td>\n",
              "      <td>0</td>\n",
              "      <td>0</td>\n",
              "      <td>0</td>\n",
              "      <td>0</td>\n",
              "      <td>0</td>\n",
              "      <td>0</td>\n",
              "    </tr>\n",
              "    <tr>\n",
              "      <th>2</th>\n",
              "      <td>30000.0</td>\n",
              "      <td>6000.0</td>\n",
              "      <td>31.500000</td>\n",
              "      <td>0</td>\n",
              "      <td>0</td>\n",
              "      <td>1</td>\n",
              "      <td>3</td>\n",
              "      <td>15</td>\n",
              "      <td>11500.0</td>\n",
              "      <td>10000.000000</td>\n",
              "      <td>...</td>\n",
              "      <td>0</td>\n",
              "      <td>0</td>\n",
              "      <td>0</td>\n",
              "      <td>0</td>\n",
              "      <td>0</td>\n",
              "      <td>0</td>\n",
              "      <td>0</td>\n",
              "      <td>0</td>\n",
              "      <td>0</td>\n",
              "      <td>0</td>\n",
              "    </tr>\n",
              "    <tr>\n",
              "      <th>3</th>\n",
              "      <td>190000.0</td>\n",
              "      <td>42400.0</td>\n",
              "      <td>27.000000</td>\n",
              "      <td>0</td>\n",
              "      <td>8</td>\n",
              "      <td>1</td>\n",
              "      <td>9</td>\n",
              "      <td>30</td>\n",
              "      <td>44000.0</td>\n",
              "      <td>21111.111111</td>\n",
              "      <td>...</td>\n",
              "      <td>0</td>\n",
              "      <td>0</td>\n",
              "      <td>0</td>\n",
              "      <td>0</td>\n",
              "      <td>0</td>\n",
              "      <td>0</td>\n",
              "      <td>0</td>\n",
              "      <td>0</td>\n",
              "      <td>0</td>\n",
              "      <td>0</td>\n",
              "    </tr>\n",
              "    <tr>\n",
              "      <th>4</th>\n",
              "      <td>130000.0</td>\n",
              "      <td>33800.0</td>\n",
              "      <td>24.857143</td>\n",
              "      <td>1</td>\n",
              "      <td>4</td>\n",
              "      <td>1</td>\n",
              "      <td>8</td>\n",
              "      <td>60</td>\n",
              "      <td>39000.0</td>\n",
              "      <td>16250.000000</td>\n",
              "      <td>...</td>\n",
              "      <td>0</td>\n",
              "      <td>0</td>\n",
              "      <td>0</td>\n",
              "      <td>0</td>\n",
              "      <td>0</td>\n",
              "      <td>0</td>\n",
              "      <td>0</td>\n",
              "      <td>0</td>\n",
              "      <td>0</td>\n",
              "      <td>0</td>\n",
              "    </tr>\n",
              "  </tbody>\n",
              "</table>\n",
              "<p>5 rows × 5840 columns</p>\n",
              "</div>"
            ],
            "text/plain": [
              "   loanamount_sum  TotalProfit  Avg_pay_interval  Last_pay  No_late_payment  \\\n",
              "0        230000.0      47400.0         29.454545         0                7   \n",
              "1         80000.0      12750.0         18.166667         0                5   \n",
              "2         30000.0       6000.0         31.500000         0                0   \n",
              "3        190000.0      42400.0         27.000000         0                8   \n",
              "4        130000.0      33800.0         24.857143         1                4   \n",
              "\n",
              "   good_bad_flag  loannumber  termdays  totaldue  Avg_loanamount  \\\n",
              "0              1          12        30   34500.0    19166.666667   \n",
              "1              1           7        15   22250.0    11428.571429   \n",
              "2              1           3        15   11500.0    10000.000000   \n",
              "3              1           9        30   44000.0    21111.111111   \n",
              "4              1           8        60   39000.0    16250.000000   \n",
              "\n",
              "        ...         customerid_5808  customerid_5809  customerid_5810  \\\n",
              "0       ...                       0                0                0   \n",
              "1       ...                       0                0                0   \n",
              "2       ...                       0                0                0   \n",
              "3       ...                       0                0                0   \n",
              "4       ...                       0                0                0   \n",
              "\n",
              "   customerid_5811  customerid_5812  customerid_5813  customerid_5814  \\\n",
              "0                0                0                0                0   \n",
              "1                0                0                0                0   \n",
              "2                0                0                0                0   \n",
              "3                0                0                0                0   \n",
              "4                0                0                0                0   \n",
              "\n",
              "   customerid_5815  customerid_5816  customerid_5817  \n",
              "0                0                0                0  \n",
              "1                0                0                0  \n",
              "2                0                0                0  \n",
              "3                0                0                0  \n",
              "4                0                0                0  \n",
              "\n",
              "[5 rows x 5840 columns]"
            ]
          },
          "metadata": {
            "tags": []
          },
          "execution_count": 143
        }
      ]
    },
    {
      "cell_type": "code",
      "metadata": {
        "colab_type": "code",
        "id": "dHwId7eFH5Qb",
        "colab": {}
      },
      "source": [
        "importantcols=[x for x in train.columns if x not in ['good_bad_flag']]\n",
        "y = train[[\"good_bad_flag\"]]\n",
        "X = train[importantcols]"
      ],
      "execution_count": 0,
      "outputs": []
    },
    {
      "cell_type": "code",
      "metadata": {
        "colab_type": "code",
        "id": "bIjSISenMyIA",
        "outputId": "cc2ba35a-e074-4da2-c718-b6159d4c5257",
        "colab": {
          "base_uri": "https://localhost:8080/",
          "height": 197
        }
      },
      "source": [
        "# X = X.astype(np.float32)\n",
        "# offset = int(X.shape[0] * 0.9)\n",
        "# X_train, y_train = X[:offset], y[:offset]\n",
        "# X_test, y_test = X[offset:], y[offset:]\n",
        "y.head()"
      ],
      "execution_count": 0,
      "outputs": [
        {
          "output_type": "execute_result",
          "data": {
            "text/html": [
              "<div>\n",
              "<style scoped>\n",
              "    .dataframe tbody tr th:only-of-type {\n",
              "        vertical-align: middle;\n",
              "    }\n",
              "\n",
              "    .dataframe tbody tr th {\n",
              "        vertical-align: top;\n",
              "    }\n",
              "\n",
              "    .dataframe thead th {\n",
              "        text-align: right;\n",
              "    }\n",
              "</style>\n",
              "<table border=\"1\" class=\"dataframe\">\n",
              "  <thead>\n",
              "    <tr style=\"text-align: right;\">\n",
              "      <th></th>\n",
              "      <th>good_bad_flag</th>\n",
              "    </tr>\n",
              "  </thead>\n",
              "  <tbody>\n",
              "    <tr>\n",
              "      <th>0</th>\n",
              "      <td>1</td>\n",
              "    </tr>\n",
              "    <tr>\n",
              "      <th>1</th>\n",
              "      <td>1</td>\n",
              "    </tr>\n",
              "    <tr>\n",
              "      <th>2</th>\n",
              "      <td>1</td>\n",
              "    </tr>\n",
              "    <tr>\n",
              "      <th>3</th>\n",
              "      <td>1</td>\n",
              "    </tr>\n",
              "    <tr>\n",
              "      <th>4</th>\n",
              "      <td>1</td>\n",
              "    </tr>\n",
              "  </tbody>\n",
              "</table>\n",
              "</div>"
            ],
            "text/plain": [
              "   good_bad_flag\n",
              "0              1\n",
              "1              1\n",
              "2              1\n",
              "3              1\n",
              "4              1"
            ]
          },
          "metadata": {
            "tags": []
          },
          "execution_count": 145
        }
      ]
    },
    {
      "cell_type": "code",
      "metadata": {
        "colab_type": "code",
        "id": "GMCUbtVLRHZ8",
        "colab": {}
      },
      "source": [
        "#Split the dataset into train and Test\n",
        "seed = 7\n",
        "test_size = 0.3\n",
        "X_train, X_test, y_train, y_test = train_test_split(X, y, test_size=test_size, random_state=seed)"
      ],
      "execution_count": 0,
      "outputs": []
    },
    {
      "cell_type": "markdown",
      "metadata": {
        "colab_type": "text",
        "id": "B_6j-Gum3ZNR"
      },
      "source": [
        "## XGboost"
      ]
    },
    {
      "cell_type": "code",
      "metadata": {
        "colab_type": "code",
        "id": "yW2fEi7ZNnQ6",
        "outputId": "d521dcce-26c8-42ee-bf44-0466faec293a",
        "colab": {
          "base_uri": "https://localhost:8080/",
          "height": 103
        }
      },
      "source": [
        "#Train the XGboost Model for Classification\n",
        "model1 = xgb.XGBClassifier()\n",
        "train_model1 = model1.fit(X_train, y_train)"
      ],
      "execution_count": 0,
      "outputs": [
        {
          "output_type": "stream",
          "text": [
            "/home/stanley/anaconda3/lib/python3.6/site-packages/sklearn/preprocessing/label.py:95: DataConversionWarning: A column-vector y was passed when a 1d array was expected. Please change the shape of y to (n_samples, ), for example using ravel().\n",
            "  y = column_or_1d(y, warn=True)\n",
            "/home/stanley/anaconda3/lib/python3.6/site-packages/sklearn/preprocessing/label.py:128: DataConversionWarning: A column-vector y was passed when a 1d array was expected. Please change the shape of y to (n_samples, ), for example using ravel().\n",
            "  y = column_or_1d(y, warn=True)\n"
          ],
          "name": "stderr"
        }
      ]
    },
    {
      "cell_type": "code",
      "metadata": {
        "colab_type": "code",
        "id": "BGiGBvEwRzPr",
        "outputId": "997ae48f-c8ca-4ced-f038-9ee3cef19139",
        "colab": {
          "base_uri": "https://localhost:8080/",
          "height": 86
        }
      },
      "source": [
        "#prediction and Classification Report\n",
        "from sklearn.metrics import classification_report\n",
        "pred1 = train_model1.predict(X_test)\n",
        "print('Model 1 XGboost Report %r' % (classification_report(y_test, pred1)))"
      ],
      "execution_count": 0,
      "outputs": [
        {
          "output_type": "stream",
          "text": [
            "Model 1 XGboost Report '             precision    recall  f1-score   support\\n\\n          0       0.60      0.15      0.24       284\\n          1       0.81      0.97      0.88      1027\\n\\navg / total       0.76      0.79      0.74      1311\\n'\n"
          ],
          "name": "stdout"
        },
        {
          "output_type": "stream",
          "text": [
            "/home/stanley/anaconda3/lib/python3.6/site-packages/sklearn/preprocessing/label.py:151: DeprecationWarning: The truth value of an empty array is ambiguous. Returning False, but in future this will result in an error. Use `array.size > 0` to check that an array is not empty.\n",
            "  if diff:\n"
          ],
          "name": "stderr"
        }
      ]
    },
    {
      "cell_type": "code",
      "metadata": {
        "colab_type": "code",
        "id": "yNjWaalFQDtj",
        "outputId": "9a25b893-3b6f-47fd-e04e-0c761de15e99",
        "colab": {
          "base_uri": "https://localhost:8080/",
          "height": 33
        }
      },
      "source": [
        "#Let's use accuracy score\n",
        "from sklearn.metrics import accuracy_score\n",
        "print(\"Accuracy for model 1: %.2f\" % (accuracy_score(y_test, pred1) * 100))"
      ],
      "execution_count": 0,
      "outputs": [
        {
          "output_type": "stream",
          "text": [
            "Accuracy for model 1: 79.41\n"
          ],
          "name": "stdout"
        }
      ]
    },
    {
      "cell_type": "markdown",
      "metadata": {
        "colab_type": "text",
        "id": "Y6TgMZVH3iTl"
      },
      "source": [
        "## Predict"
      ]
    },
    {
      "cell_type": "code",
      "metadata": {
        "colab_type": "code",
        "id": "48-xyXHzR5dw",
        "outputId": "7406a061-d81e-452c-8276-8a92cf6263f0",
        "colab": {
          "base_uri": "https://localhost:8080/",
          "height": 163
        }
      },
      "source": [
        "predict1 = train_model1.predict(test[importantcols])"
      ],
      "execution_count": 0,
      "outputs": [
        {
          "output_type": "stream",
          "text": [
            "/home/stanley/anaconda3/lib/python3.6/site-packages/sklearn/preprocessing/label.py:151: DeprecationWarning: The truth value of an empty array is ambiguous. Returning False, but in future this will result in an error. Use `array.size > 0` to check that an array is not empty.\n",
            "  if diff:\n"
          ],
          "name": "stderr"
        }
      ]
    },
    {
      "cell_type": "code",
      "metadata": {
        "colab_type": "code",
        "id": "an_3TBg2TM3y",
        "outputId": "9db5c559-2780-4f4d-92cf-9f699fddeadc",
        "colab": {
          "base_uri": "https://localhost:8080/",
          "height": 33
        }
      },
      "source": [
        "predict1"
      ],
      "execution_count": 0,
      "outputs": [
        {
          "output_type": "execute_result",
          "data": {
            "text/plain": [
              "array([1, 1, 1, ..., 1, 1, 1])"
            ]
          },
          "metadata": {
            "tags": []
          },
          "execution_count": 151
        }
      ]
    },
    {
      "cell_type": "code",
      "metadata": {
        "colab_type": "code",
        "id": "0AJ7vp7VrxFn",
        "colab": {}
      },
      "source": [
        "test[\"Good_Bad_flag\"] = predict1"
      ],
      "execution_count": 0,
      "outputs": []
    },
    {
      "cell_type": "code",
      "metadata": {
        "colab_type": "code",
        "id": "yx1HL1FS5gVw",
        "outputId": "f7aff648-72bf-424b-93e9-122814989637",
        "colab": {
          "base_uri": "https://localhost:8080/",
          "height": 66
        }
      },
      "source": [
        "test.head()"
      ],
      "execution_count": 0,
      "outputs": [
        {
          "output_type": "execute_result",
          "data": {
            "text/html": [
              "<div>\n",
              "<style scoped>\n",
              "    .dataframe tbody tr th:only-of-type {\n",
              "        vertical-align: middle;\n",
              "    }\n",
              "\n",
              "    .dataframe tbody tr th {\n",
              "        vertical-align: top;\n",
              "    }\n",
              "\n",
              "    .dataframe thead th {\n",
              "        text-align: right;\n",
              "    }\n",
              "</style>\n",
              "<table border=\"1\" class=\"dataframe\">\n",
              "  <thead>\n",
              "    <tr style=\"text-align: right;\">\n",
              "      <th></th>\n",
              "      <th>loanamount_sum</th>\n",
              "      <th>TotalProfit</th>\n",
              "      <th>Avg_pay_interval</th>\n",
              "      <th>Last_pay</th>\n",
              "      <th>No_late_payment</th>\n",
              "      <th>loannumber</th>\n",
              "      <th>termdays</th>\n",
              "      <th>totaldue</th>\n",
              "      <th>Avg_loanamount</th>\n",
              "      <th>Avgprofit</th>\n",
              "      <th>...</th>\n",
              "      <th>customerid_5809</th>\n",
              "      <th>customerid_5810</th>\n",
              "      <th>customerid_5811</th>\n",
              "      <th>customerid_5812</th>\n",
              "      <th>customerid_5813</th>\n",
              "      <th>customerid_5814</th>\n",
              "      <th>customerid_5815</th>\n",
              "      <th>customerid_5816</th>\n",
              "      <th>customerid_5817</th>\n",
              "      <th>Good_Bad_flag</th>\n",
              "    </tr>\n",
              "  </thead>\n",
              "  <tbody>\n",
              "    <tr>\n",
              "      <th>0</th>\n",
              "      <td>36000.0</td>\n",
              "      <td>9150.0</td>\n",
              "      <td>28.333333</td>\n",
              "      <td>1</td>\n",
              "      <td>1</td>\n",
              "      <td>4</td>\n",
              "      <td>30</td>\n",
              "      <td>12250.0</td>\n",
              "      <td>9000.000000</td>\n",
              "      <td>2287.500000</td>\n",
              "      <td>...</td>\n",
              "      <td>0</td>\n",
              "      <td>0</td>\n",
              "      <td>0</td>\n",
              "      <td>0</td>\n",
              "      <td>0</td>\n",
              "      <td>0</td>\n",
              "      <td>0</td>\n",
              "      <td>0</td>\n",
              "      <td>0</td>\n",
              "      <td>1</td>\n",
              "    </tr>\n",
              "    <tr>\n",
              "      <th>1</th>\n",
              "      <td>255000.0</td>\n",
              "      <td>37400.0</td>\n",
              "      <td>24.111111</td>\n",
              "      <td>0</td>\n",
              "      <td>7</td>\n",
              "      <td>10</td>\n",
              "      <td>30</td>\n",
              "      <td>44000.0</td>\n",
              "      <td>25500.000000</td>\n",
              "      <td>3740.000000</td>\n",
              "      <td>...</td>\n",
              "      <td>0</td>\n",
              "      <td>0</td>\n",
              "      <td>0</td>\n",
              "      <td>0</td>\n",
              "      <td>0</td>\n",
              "      <td>0</td>\n",
              "      <td>0</td>\n",
              "      <td>0</td>\n",
              "      <td>0</td>\n",
              "      <td>1</td>\n",
              "    </tr>\n",
              "    <tr>\n",
              "      <th>2</th>\n",
              "      <td>85000.0</td>\n",
              "      <td>19175.0</td>\n",
              "      <td>31.200000</td>\n",
              "      <td>0</td>\n",
              "      <td>2</td>\n",
              "      <td>6</td>\n",
              "      <td>30</td>\n",
              "      <td>24500.0</td>\n",
              "      <td>14166.666667</td>\n",
              "      <td>3195.833333</td>\n",
              "      <td>...</td>\n",
              "      <td>0</td>\n",
              "      <td>0</td>\n",
              "      <td>0</td>\n",
              "      <td>0</td>\n",
              "      <td>0</td>\n",
              "      <td>0</td>\n",
              "      <td>0</td>\n",
              "      <td>0</td>\n",
              "      <td>0</td>\n",
              "      <td>1</td>\n",
              "    </tr>\n",
              "    <tr>\n",
              "      <th>3</th>\n",
              "      <td>150000.0</td>\n",
              "      <td>19900.0</td>\n",
              "      <td>13.428571</td>\n",
              "      <td>1</td>\n",
              "      <td>7</td>\n",
              "      <td>8</td>\n",
              "      <td>30</td>\n",
              "      <td>34500.0</td>\n",
              "      <td>18750.000000</td>\n",
              "      <td>2487.500000</td>\n",
              "      <td>...</td>\n",
              "      <td>0</td>\n",
              "      <td>0</td>\n",
              "      <td>0</td>\n",
              "      <td>0</td>\n",
              "      <td>0</td>\n",
              "      <td>0</td>\n",
              "      <td>0</td>\n",
              "      <td>0</td>\n",
              "      <td>0</td>\n",
              "      <td>1</td>\n",
              "    </tr>\n",
              "    <tr>\n",
              "      <th>4</th>\n",
              "      <td>50000.0</td>\n",
              "      <td>12000.0</td>\n",
              "      <td>21.666667</td>\n",
              "      <td>1</td>\n",
              "      <td>3</td>\n",
              "      <td>4</td>\n",
              "      <td>30</td>\n",
              "      <td>24500.0</td>\n",
              "      <td>12500.000000</td>\n",
              "      <td>3000.000000</td>\n",
              "      <td>...</td>\n",
              "      <td>0</td>\n",
              "      <td>0</td>\n",
              "      <td>0</td>\n",
              "      <td>0</td>\n",
              "      <td>0</td>\n",
              "      <td>0</td>\n",
              "      <td>0</td>\n",
              "      <td>0</td>\n",
              "      <td>0</td>\n",
              "      <td>1</td>\n",
              "    </tr>\n",
              "  </tbody>\n",
              "</table>\n",
              "<p>5 rows × 5840 columns</p>\n",
              "</div>"
            ],
            "text/plain": [
              "   loanamount_sum  TotalProfit  Avg_pay_interval  Last_pay  No_late_payment  \\\n",
              "0         36000.0       9150.0         28.333333         1                1   \n",
              "1        255000.0      37400.0         24.111111         0                7   \n",
              "2         85000.0      19175.0         31.200000         0                2   \n",
              "3        150000.0      19900.0         13.428571         1                7   \n",
              "4         50000.0      12000.0         21.666667         1                3   \n",
              "\n",
              "   loannumber  termdays  totaldue  Avg_loanamount    Avgprofit      ...        \\\n",
              "0           4        30   12250.0     9000.000000  2287.500000      ...         \n",
              "1          10        30   44000.0    25500.000000  3740.000000      ...         \n",
              "2           6        30   24500.0    14166.666667  3195.833333      ...         \n",
              "3           8        30   34500.0    18750.000000  2487.500000      ...         \n",
              "4           4        30   24500.0    12500.000000  3000.000000      ...         \n",
              "\n",
              "   customerid_5809  customerid_5810  customerid_5811  customerid_5812  \\\n",
              "0                0                0                0                0   \n",
              "1                0                0                0                0   \n",
              "2                0                0                0                0   \n",
              "3                0                0                0                0   \n",
              "4                0                0                0                0   \n",
              "\n",
              "   customerid_5813  customerid_5814  customerid_5815  customerid_5816  \\\n",
              "0                0                0                0                0   \n",
              "1                0                0                0                0   \n",
              "2                0                0                0                0   \n",
              "3                0                0                0                0   \n",
              "4                0                0                0                0   \n",
              "\n",
              "   customerid_5817  Good_Bad_flag  \n",
              "0                0              1  \n",
              "1                0              1  \n",
              "2                0              1  \n",
              "3                0              1  \n",
              "4                0              1  \n",
              "\n",
              "[5 rows x 5840 columns]"
            ]
          },
          "metadata": {
            "tags": []
          },
          "execution_count": 153
        }
      ]
    },
    {
      "cell_type": "code",
      "metadata": {
        "scrolled": true,
        "id": "IjvB-F6rPnuC",
        "colab_type": "code",
        "outputId": "655c8f67-b9ec-4265-a46c-98d6c92cabf3",
        "colab": {}
      },
      "source": [
        "submission = pd.read_csv(\"SampleSubmission (1).csv\")\n",
        "submission.head()"
      ],
      "execution_count": 0,
      "outputs": [
        {
          "output_type": "execute_result",
          "data": {
            "text/html": [
              "<div>\n",
              "<style scoped>\n",
              "    .dataframe tbody tr th:only-of-type {\n",
              "        vertical-align: middle;\n",
              "    }\n",
              "\n",
              "    .dataframe tbody tr th {\n",
              "        vertical-align: top;\n",
              "    }\n",
              "\n",
              "    .dataframe thead th {\n",
              "        text-align: right;\n",
              "    }\n",
              "</style>\n",
              "<table border=\"1\" class=\"dataframe\">\n",
              "  <thead>\n",
              "    <tr style=\"text-align: right;\">\n",
              "      <th></th>\n",
              "      <th>customerid</th>\n",
              "      <th>Good_Bad_flag</th>\n",
              "    </tr>\n",
              "  </thead>\n",
              "  <tbody>\n",
              "    <tr>\n",
              "      <th>0</th>\n",
              "      <td>8a28afc7474813a40147639ec637156b</td>\n",
              "      <td>1</td>\n",
              "    </tr>\n",
              "    <tr>\n",
              "      <th>1</th>\n",
              "      <td>8a3735d5518aba7301518ac34413010d</td>\n",
              "      <td>1</td>\n",
              "    </tr>\n",
              "    <tr>\n",
              "      <th>2</th>\n",
              "      <td>8a76e7d443e6e97c0143ed099d102b1d</td>\n",
              "      <td>1</td>\n",
              "    </tr>\n",
              "    <tr>\n",
              "      <th>3</th>\n",
              "      <td>8a818823525dceef01525deda2480384</td>\n",
              "      <td>1</td>\n",
              "    </tr>\n",
              "    <tr>\n",
              "      <th>4</th>\n",
              "      <td>8a818926522ea5ef01523aff15c37482</td>\n",
              "      <td>1</td>\n",
              "    </tr>\n",
              "  </tbody>\n",
              "</table>\n",
              "</div>"
            ],
            "text/plain": [
              "                         customerid  Good_Bad_flag\n",
              "0  8a28afc7474813a40147639ec637156b              1\n",
              "1  8a3735d5518aba7301518ac34413010d              1\n",
              "2  8a76e7d443e6e97c0143ed099d102b1d              1\n",
              "3  8a818823525dceef01525deda2480384              1\n",
              "4  8a818926522ea5ef01523aff15c37482              1"
            ]
          },
          "metadata": {
            "tags": []
          },
          "execution_count": 154
        }
      ]
    },
    {
      "cell_type": "code",
      "metadata": {
        "colab_type": "code",
        "id": "ts0YIrXrsAd1",
        "colab": {}
      },
      "source": [
        "submission[\"Good_Bad_flag\"] = test[\"Good_Bad_flag\"]"
      ],
      "execution_count": 0,
      "outputs": []
    },
    {
      "cell_type": "code",
      "metadata": {
        "colab_type": "code",
        "id": "lSCKJTgJsSvE",
        "outputId": "1e2c9ea6-6c1c-4c40-e407-9ee310f48696",
        "colab": {
          "base_uri": "https://localhost:8080/",
          "height": 204
        }
      },
      "source": [
        "submission.tail()"
      ],
      "execution_count": 0,
      "outputs": [
        {
          "output_type": "execute_result",
          "data": {
            "text/html": [
              "<div>\n",
              "<style scoped>\n",
              "    .dataframe tbody tr th:only-of-type {\n",
              "        vertical-align: middle;\n",
              "    }\n",
              "\n",
              "    .dataframe tbody tr th {\n",
              "        vertical-align: top;\n",
              "    }\n",
              "\n",
              "    .dataframe thead th {\n",
              "        text-align: right;\n",
              "    }\n",
              "</style>\n",
              "<table border=\"1\" class=\"dataframe\">\n",
              "  <thead>\n",
              "    <tr style=\"text-align: right;\">\n",
              "      <th></th>\n",
              "      <th>customerid</th>\n",
              "      <th>Good_Bad_flag</th>\n",
              "    </tr>\n",
              "  </thead>\n",
              "  <tbody>\n",
              "    <tr>\n",
              "      <th>1445</th>\n",
              "      <td>8a858fff5a36fe68015a3744f0021e89</td>\n",
              "      <td>1</td>\n",
              "    </tr>\n",
              "    <tr>\n",
              "      <th>1446</th>\n",
              "      <td>8aaae7a74400b28201441c8b62514150</td>\n",
              "      <td>1</td>\n",
              "    </tr>\n",
              "    <tr>\n",
              "      <th>1447</th>\n",
              "      <td>8aab10f748cf78ff0148d11fac1447a6</td>\n",
              "      <td>1</td>\n",
              "    </tr>\n",
              "    <tr>\n",
              "      <th>1448</th>\n",
              "      <td>8aab160f499477da014999ba2f0f578b</td>\n",
              "      <td>1</td>\n",
              "    </tr>\n",
              "    <tr>\n",
              "      <th>1449</th>\n",
              "      <td>8addcb0645aff34b0145b25fe1616ee0</td>\n",
              "      <td>1</td>\n",
              "    </tr>\n",
              "  </tbody>\n",
              "</table>\n",
              "</div>"
            ],
            "text/plain": [
              "                            customerid  Good_Bad_flag\n",
              "1445  8a858fff5a36fe68015a3744f0021e89              1\n",
              "1446  8aaae7a74400b28201441c8b62514150              1\n",
              "1447  8aab10f748cf78ff0148d11fac1447a6              1\n",
              "1448  8aab160f499477da014999ba2f0f578b              1\n",
              "1449  8addcb0645aff34b0145b25fe1616ee0              1"
            ]
          },
          "metadata": {
            "tags": []
          },
          "execution_count": 156
        }
      ]
    },
    {
      "cell_type": "code",
      "metadata": {
        "colab_type": "code",
        "id": "7dCNphPUUYu-",
        "colab": {}
      },
      "source": [
        "submission.to_csv('submission.csv',index=False)"
      ],
      "execution_count": 0,
      "outputs": []
    },
    {
      "cell_type": "code",
      "metadata": {
        "colab_type": "code",
        "id": "uU8qNvb_UhMU",
        "colab": {}
      },
      "source": [
        ""
      ],
      "execution_count": 0,
      "outputs": []
    }
  ]
}